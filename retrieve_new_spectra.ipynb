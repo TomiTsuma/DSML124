{
  "cells": [
    {
      "cell_type": "code",
      "source": [
        "sys.path.append(\"/anaconda/envs/azureml_py38/lib/python3.8/site-packages\")\n",
        "sys.path.append(\"/anaconda/envs/azureml_py38/lib/python3.8/site-packages\")\n",
        "import psycopg2\n",
        "import pandas as pd"
      ],
      "outputs": [],
      "execution_count": 6,
      "metadata": {
        "gather": {
          "logged": 1711421561463
        }
      }
    },
    {
      "cell_type": "code",
      "source": [
        "!pip uninstall psycopg2\n",
        "# !pip install psycopg2-binary"
      ],
      "outputs": [
        {
          "output_type": "stream",
          "name": "stdout",
          "text": "Found existing installation: psycopg2 2.9.3\nUninstalling psycopg2-2.9.3:\n  Would remove:\n    /anaconda/envs/azureml_py38/lib/python3.8/site-packages/psycopg2-2.9.3.dist-info/*\n    /anaconda/envs/azureml_py38/lib/python3.8/site-packages/psycopg2/*\nProceed (y/n)? ^C\n\u001b[31mERROR: Operation cancelled by user\u001b[0m\n"
        }
      ],
      "execution_count": 23,
      "metadata": {
        "jupyter": {
          "source_hidden": false,
          "outputs_hidden": false
        },
        "nteract": {
          "transient": {
            "deleting": false
          }
        },
        "gather": {
          "logged": 1711422405639
        }
      }
    },
    {
      "cell_type": "code",
      "source": [
        "import psycopg2"
      ],
      "outputs": [],
      "execution_count": 24,
      "metadata": {
        "jupyter": {
          "source_hidden": false,
          "outputs_hidden": false
        },
        "nteract": {
          "transient": {
            "deleting": false
          }
        },
        "gather": {
          "logged": 1711422512903
        }
      }
    },
    {
      "cell_type": "code",
      "source": [
        "def get_db_cursor():\n",
        "    username = \"doadmin\"\n",
        "    password = 'yzmodwh2oh16iks6'\n",
        "    host = 'db-postgresql-cl1-do-user-2276924-0.db.ondigitalocean.com'\n",
        "    port = 25060\n",
        "    database = 'MandatoryMetadata'\n",
        "    schema = 'historical'\n",
        "\n",
        "    conn = psycopg2.connect(host=host, database=database,\n",
        "                            user=username, password=password, port=port)\n",
        "    cur = conn.cursor()\n",
        "    cur.execute(\"SET search_path TO \" + schema)\n",
        "\n",
        "    return conn, cur\n",
        "\n",
        "conn, cur = get_db_cursor()\n"
      ],
      "outputs": [
        {
          "output_type": "error",
          "ename": "AttributeError",
          "evalue": "module 'psycopg2' has no attribute 'connect'",
          "traceback": [
            "\u001b[0;31m---------------------------------------------------------------------------\u001b[0m",
            "\u001b[0;31mAttributeError\u001b[0m                            Traceback (most recent call last)",
            "Cell \u001b[0;32mIn[22], line 16\u001b[0m\n\u001b[1;32m     12\u001b[0m     cur\u001b[38;5;241m.\u001b[39mexecute(\u001b[38;5;124m\"\u001b[39m\u001b[38;5;124mSET search_path TO \u001b[39m\u001b[38;5;124m\"\u001b[39m \u001b[38;5;241m+\u001b[39m schema)\n\u001b[1;32m     14\u001b[0m     \u001b[38;5;28;01mreturn\u001b[39;00m conn, cur\n\u001b[0;32m---> 16\u001b[0m conn, cur \u001b[38;5;241m=\u001b[39m \u001b[43mget_db_cursor\u001b[49m\u001b[43m(\u001b[49m\u001b[43m)\u001b[49m\n",
            "Cell \u001b[0;32mIn[22], line 9\u001b[0m, in \u001b[0;36mget_db_cursor\u001b[0;34m()\u001b[0m\n\u001b[1;32m      6\u001b[0m database \u001b[38;5;241m=\u001b[39m \u001b[38;5;124m'\u001b[39m\u001b[38;5;124mMandatoryMetadata\u001b[39m\u001b[38;5;124m'\u001b[39m\n\u001b[1;32m      7\u001b[0m schema \u001b[38;5;241m=\u001b[39m \u001b[38;5;124m'\u001b[39m\u001b[38;5;124mhistorical\u001b[39m\u001b[38;5;124m'\u001b[39m\n\u001b[0;32m----> 9\u001b[0m conn \u001b[38;5;241m=\u001b[39m \u001b[43mpsycopg2\u001b[49m\u001b[38;5;241;43m.\u001b[39;49m\u001b[43mconnect\u001b[49m(host\u001b[38;5;241m=\u001b[39mhost, database\u001b[38;5;241m=\u001b[39mdatabase,\n\u001b[1;32m     10\u001b[0m                         user\u001b[38;5;241m=\u001b[39musername, password\u001b[38;5;241m=\u001b[39mpassword, port\u001b[38;5;241m=\u001b[39mport)\n\u001b[1;32m     11\u001b[0m cur \u001b[38;5;241m=\u001b[39m conn\u001b[38;5;241m.\u001b[39mcursor()\n\u001b[1;32m     12\u001b[0m cur\u001b[38;5;241m.\u001b[39mexecute(\u001b[38;5;124m\"\u001b[39m\u001b[38;5;124mSET search_path TO \u001b[39m\u001b[38;5;124m\"\u001b[39m \u001b[38;5;241m+\u001b[39m schema)\n",
            "\u001b[0;31mAttributeError\u001b[0m: module 'psycopg2' has no attribute 'connect'"
          ]
        }
      ],
      "execution_count": 22,
      "metadata": {
        "jupyter": {
          "source_hidden": false,
          "outputs_hidden": false
        },
        "nteract": {
          "transient": {
            "deleting": false
          }
        },
        "gather": {
          "logged": 1711422077743
        }
      }
    },
    {
      "cell_type": "code",
      "source": [
        "v1_spc = pd.read_csv('../outputFiles/spectra.csv', usecols=[0])"
      ],
      "outputs": [],
      "execution_count": 15,
      "metadata": {
        "jupyter": {
          "source_hidden": false,
          "outputs_hidden": false
        },
        "nteract": {
          "transient": {
            "deleting": false
          }
        },
        "gather": {
          "logged": 1711421769662
        }
      }
    },
    {
      "cell_type": "code",
      "source": [
        "v1_spc"
      ],
      "outputs": [
        {
          "output_type": "execute_result",
          "execution_count": 16,
          "data": {
            "text/plain": "             Unnamed: 0\n0      AGD207-408SA0706\n1      AGD207-431SA0001\n2      AGD207-431SA0002\n3      AGD207-431SA0003\n4      AGD207-431SA0004\n...                 ...\n87362       CW017SA7164\n87363       CW017SA7167\n87364       CW017SA7168\n87365       CW104SA0052\n87366       CW104SA0053\n\n[87367 rows x 1 columns]",
            "text/html": "<div>\n<style scoped>\n    .dataframe tbody tr th:only-of-type {\n        vertical-align: middle;\n    }\n\n    .dataframe tbody tr th {\n        vertical-align: top;\n    }\n\n    .dataframe thead th {\n        text-align: right;\n    }\n</style>\n<table border=\"1\" class=\"dataframe\">\n  <thead>\n    <tr style=\"text-align: right;\">\n      <th></th>\n      <th>Unnamed: 0</th>\n    </tr>\n  </thead>\n  <tbody>\n    <tr>\n      <th>0</th>\n      <td>AGD207-408SA0706</td>\n    </tr>\n    <tr>\n      <th>1</th>\n      <td>AGD207-431SA0001</td>\n    </tr>\n    <tr>\n      <th>2</th>\n      <td>AGD207-431SA0002</td>\n    </tr>\n    <tr>\n      <th>3</th>\n      <td>AGD207-431SA0003</td>\n    </tr>\n    <tr>\n      <th>4</th>\n      <td>AGD207-431SA0004</td>\n    </tr>\n    <tr>\n      <th>...</th>\n      <td>...</td>\n    </tr>\n    <tr>\n      <th>87362</th>\n      <td>CW017SA7164</td>\n    </tr>\n    <tr>\n      <th>87363</th>\n      <td>CW017SA7167</td>\n    </tr>\n    <tr>\n      <th>87364</th>\n      <td>CW017SA7168</td>\n    </tr>\n    <tr>\n      <th>87365</th>\n      <td>CW104SA0052</td>\n    </tr>\n    <tr>\n      <th>87366</th>\n      <td>CW104SA0053</td>\n    </tr>\n  </tbody>\n</table>\n<p>87367 rows × 1 columns</p>\n</div>"
          },
          "metadata": {}
        }
      ],
      "execution_count": 16,
      "metadata": {
        "jupyter": {
          "source_hidden": false,
          "outputs_hidden": false
        },
        "nteract": {
          "transient": {
            "deleting": false
          }
        },
        "gather": {
          "logged": 1711421780098
        }
      }
    },
    {
      "cell_type": "code",
      "source": [
        "v2_spc = pd.read_sql"
      ],
      "outputs": [],
      "execution_count": null,
      "metadata": {
        "jupyter": {
          "source_hidden": false,
          "outputs_hidden": false
        },
        "nteract": {
          "transient": {
            "deleting": false
          }
        }
      }
    }
  ],
  "metadata": {
    "kernelspec": {
      "name": "python310-sdkv2",
      "language": "python",
      "display_name": "Python 3.10 - SDK v2"
    },
    "language_info": {
      "name": "python",
      "version": "3.10.11",
      "mimetype": "text/x-python",
      "codemirror_mode": {
        "name": "ipython",
        "version": 3
      },
      "pygments_lexer": "ipython3",
      "nbconvert_exporter": "python",
      "file_extension": ".py"
    },
    "microsoft": {
      "ms_spell_check": {
        "ms_spell_check_language": "en"
      },
      "host": {
        "AzureML": {
          "notebookHasBeenCompleted": true
        }
      }
    },
    "kernel_info": {
      "name": "python310-sdkv2"
    },
    "nteract": {
      "version": "nteract-front-end@1.0.0"
    }
  },
  "nbformat": 4,
  "nbformat_minor": 2
}