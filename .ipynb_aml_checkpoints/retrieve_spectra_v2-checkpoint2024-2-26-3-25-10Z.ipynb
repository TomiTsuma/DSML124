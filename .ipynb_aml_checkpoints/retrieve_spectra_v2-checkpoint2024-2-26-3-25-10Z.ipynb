{
 "cells": [
  {
   "cell_type": "code",
   "execution_count": 1,
   "id": "05c8b820",
   "metadata": {},
   "outputs": [],
   "source": [
    "import psycopg2\n",
    "import pandas as pd\n",
    "import numpy as np"
   ]
  },
  {
   "cell_type": "code",
   "execution_count": 2,
   "id": "134f6606",
   "metadata": {},
   "outputs": [],
   "source": [
    "def get_db_cursor():\n",
    "    username = \"doadmin\"\n",
    "    password = 'yzmodwh2oh16iks6'\n",
    "    host = 'db-postgresql-cl1-do-user-2276924-0.db.ondigitalocean.com'\n",
    "    port = 25060\n",
    "    database = 'MandatoryMetadata'\n",
    "    schema = 'historical'\n",
    "\n",
    "    conn = psycopg2.connect(host=host, database=database,\n",
    "                            user=username, password=password, port=port)\n",
    "    cur = conn.cursor()\n",
    "    cur.execute(\"SET search_path TO \" + schema)\n",
    "\n",
    "    return conn, cur"
   ]
  },
  {
   "cell_type": "code",
   "execution_count": 3,
   "id": "80fe80bc",
   "metadata": {},
   "outputs": [],
   "source": [
    "conn, cur = get_db_cursor()\n"
   ]
  },
  {
   "cell_type": "code",
   "execution_count": 4,
   "id": "ab602cbb",
   "metadata": {},
   "outputs": [],
   "source": [
    "v1_samples = pd.read_csv('outputFiles/spectra.csv',usecols=[0])"
   ]
  },
  {
   "cell_type": "code",
   "execution_count": 5,
   "id": "7c690208",
   "metadata": {},
   "outputs": [
    {
     "data": {
      "text/html": [
       "<div>\n",
       "<style scoped>\n",
       "    .dataframe tbody tr th:only-of-type {\n",
       "        vertical-align: middle;\n",
       "    }\n",
       "\n",
       "    .dataframe tbody tr th {\n",
       "        vertical-align: top;\n",
       "    }\n",
       "\n",
       "    .dataframe thead th {\n",
       "        text-align: right;\n",
       "    }\n",
       "</style>\n",
       "<table border=\"1\" class=\"dataframe\">\n",
       "  <thead>\n",
       "    <tr style=\"text-align: right;\">\n",
       "      <th></th>\n",
       "      <th>Unnamed: 0</th>\n",
       "    </tr>\n",
       "  </thead>\n",
       "  <tbody>\n",
       "    <tr>\n",
       "      <th>0</th>\n",
       "      <td>AGD207-408SA0706</td>\n",
       "    </tr>\n",
       "    <tr>\n",
       "      <th>1</th>\n",
       "      <td>AGD207-431SA0001</td>\n",
       "    </tr>\n",
       "    <tr>\n",
       "      <th>2</th>\n",
       "      <td>AGD207-431SA0002</td>\n",
       "    </tr>\n",
       "    <tr>\n",
       "      <th>3</th>\n",
       "      <td>AGD207-431SA0003</td>\n",
       "    </tr>\n",
       "    <tr>\n",
       "      <th>4</th>\n",
       "      <td>AGD207-431SA0004</td>\n",
       "    </tr>\n",
       "    <tr>\n",
       "      <th>...</th>\n",
       "      <td>...</td>\n",
       "    </tr>\n",
       "    <tr>\n",
       "      <th>87362</th>\n",
       "      <td>CW017SA7164</td>\n",
       "    </tr>\n",
       "    <tr>\n",
       "      <th>87363</th>\n",
       "      <td>CW017SA7167</td>\n",
       "    </tr>\n",
       "    <tr>\n",
       "      <th>87364</th>\n",
       "      <td>CW017SA7168</td>\n",
       "    </tr>\n",
       "    <tr>\n",
       "      <th>87365</th>\n",
       "      <td>CW104SA0052</td>\n",
       "    </tr>\n",
       "    <tr>\n",
       "      <th>87366</th>\n",
       "      <td>CW104SA0053</td>\n",
       "    </tr>\n",
       "  </tbody>\n",
       "</table>\n",
       "<p>87367 rows × 1 columns</p>\n",
       "</div>"
      ],
      "text/plain": [
       "             Unnamed: 0\n",
       "0      AGD207-408SA0706\n",
       "1      AGD207-431SA0001\n",
       "2      AGD207-431SA0002\n",
       "3      AGD207-431SA0003\n",
       "4      AGD207-431SA0004\n",
       "...                 ...\n",
       "87362       CW017SA7164\n",
       "87363       CW017SA7167\n",
       "87364       CW017SA7168\n",
       "87365       CW104SA0052\n",
       "87366       CW104SA0053\n",
       "\n",
       "[87367 rows x 1 columns]"
      ]
     },
     "execution_count": 5,
     "metadata": {},
     "output_type": "execute_result"
    }
   ],
   "source": [
    "v1_samples"
   ]
  },
  {
   "cell_type": "code",
   "execution_count": 6,
   "id": "15da9f47",
   "metadata": {},
   "outputs": [
    {
     "name": "stderr",
     "output_type": "stream",
     "text": [
      "C:\\Users\\Tsuma Thomas\\AppData\\Local\\Temp\\ipykernel_10280\\2923516565.py:1: UserWarning: pandas only supports SQLAlchemy connectable (engine/connection) or database string URI or sqlite3 DBAPI2 connection. Other DBAPI2 objects are not tested. Please consider using SQLAlchemy.\n",
      "  v2_samples = pd.read_sql('select sample_code from MandatoryMetadata', con = conn)\n"
     ]
    }
   ],
   "source": [
    "v2_samples = pd.read_sql('select sample_code from MandatoryMetadata', con = conn)"
   ]
  },
  {
   "cell_type": "code",
   "execution_count": 7,
   "id": "ed3fd350",
   "metadata": {},
   "outputs": [
    {
     "data": {
      "text/html": [
       "<div>\n",
       "<style scoped>\n",
       "    .dataframe tbody tr th:only-of-type {\n",
       "        vertical-align: middle;\n",
       "    }\n",
       "\n",
       "    .dataframe tbody tr th {\n",
       "        vertical-align: top;\n",
       "    }\n",
       "\n",
       "    .dataframe thead th {\n",
       "        text-align: right;\n",
       "    }\n",
       "</style>\n",
       "<table border=\"1\" class=\"dataframe\">\n",
       "  <thead>\n",
       "    <tr style=\"text-align: right;\">\n",
       "      <th></th>\n",
       "      <th>sample_code</th>\n",
       "    </tr>\n",
       "  </thead>\n",
       "  <tbody>\n",
       "    <tr>\n",
       "      <th>0</th>\n",
       "      <td>ML-SS21-2</td>\n",
       "    </tr>\n",
       "    <tr>\n",
       "      <th>1</th>\n",
       "      <td>ML-SS21-2</td>\n",
       "    </tr>\n",
       "    <tr>\n",
       "      <th>2</th>\n",
       "      <td>ML-SS21-2</td>\n",
       "    </tr>\n",
       "    <tr>\n",
       "      <th>3</th>\n",
       "      <td>ML-SS21-2</td>\n",
       "    </tr>\n",
       "    <tr>\n",
       "      <th>4</th>\n",
       "      <td>ML-SS21-2</td>\n",
       "    </tr>\n",
       "    <tr>\n",
       "      <th>...</th>\n",
       "      <td>...</td>\n",
       "    </tr>\n",
       "    <tr>\n",
       "      <th>185415</th>\n",
       "      <td>CA053SA1584</td>\n",
       "    </tr>\n",
       "    <tr>\n",
       "      <th>185416</th>\n",
       "      <td>CM754SA0017</td>\n",
       "    </tr>\n",
       "    <tr>\n",
       "      <th>185417</th>\n",
       "      <td>CA053SA1597</td>\n",
       "    </tr>\n",
       "    <tr>\n",
       "      <th>185418</th>\n",
       "      <td>CE445SA0001</td>\n",
       "    </tr>\n",
       "    <tr>\n",
       "      <th>185419</th>\n",
       "      <td>CT021SA2589</td>\n",
       "    </tr>\n",
       "  </tbody>\n",
       "</table>\n",
       "<p>185420 rows × 1 columns</p>\n",
       "</div>"
      ],
      "text/plain": [
       "        sample_code\n",
       "0         ML-SS21-2\n",
       "1         ML-SS21-2\n",
       "2         ML-SS21-2\n",
       "3         ML-SS21-2\n",
       "4         ML-SS21-2\n",
       "...             ...\n",
       "185415  CA053SA1584\n",
       "185416  CM754SA0017\n",
       "185417  CA053SA1597\n",
       "185418  CE445SA0001\n",
       "185419  CT021SA2589\n",
       "\n",
       "[185420 rows x 1 columns]"
      ]
     },
     "execution_count": 7,
     "metadata": {},
     "output_type": "execute_result"
    }
   ],
   "source": [
    "v2_samples"
   ]
  },
  {
   "cell_type": "code",
   "execution_count": 8,
   "id": "6df30d07",
   "metadata": {},
   "outputs": [],
   "source": [
    "v2_samples = v2_samples.loc[~v2_samples['sample_code'].isin(v1_samples['Unnamed: 0'])]"
   ]
  },
  {
   "cell_type": "code",
   "execution_count": 9,
   "id": "23ee1e15",
   "metadata": {},
   "outputs": [
    {
     "data": {
      "text/html": [
       "<div>\n",
       "<style scoped>\n",
       "    .dataframe tbody tr th:only-of-type {\n",
       "        vertical-align: middle;\n",
       "    }\n",
       "\n",
       "    .dataframe tbody tr th {\n",
       "        vertical-align: top;\n",
       "    }\n",
       "\n",
       "    .dataframe thead th {\n",
       "        text-align: right;\n",
       "    }\n",
       "</style>\n",
       "<table border=\"1\" class=\"dataframe\">\n",
       "  <thead>\n",
       "    <tr style=\"text-align: right;\">\n",
       "      <th></th>\n",
       "      <th>sample_code</th>\n",
       "    </tr>\n",
       "  </thead>\n",
       "  <tbody>\n",
       "    <tr>\n",
       "      <th>0</th>\n",
       "      <td>ML-SS21-2</td>\n",
       "    </tr>\n",
       "    <tr>\n",
       "      <th>1</th>\n",
       "      <td>ML-SS21-2</td>\n",
       "    </tr>\n",
       "    <tr>\n",
       "      <th>2</th>\n",
       "      <td>ML-SS21-2</td>\n",
       "    </tr>\n",
       "    <tr>\n",
       "      <th>3</th>\n",
       "      <td>ML-SS21-2</td>\n",
       "    </tr>\n",
       "    <tr>\n",
       "      <th>4</th>\n",
       "      <td>ML-SS21-2</td>\n",
       "    </tr>\n",
       "    <tr>\n",
       "      <th>...</th>\n",
       "      <td>...</td>\n",
       "    </tr>\n",
       "    <tr>\n",
       "      <th>185415</th>\n",
       "      <td>CA053SA1584</td>\n",
       "    </tr>\n",
       "    <tr>\n",
       "      <th>185416</th>\n",
       "      <td>CM754SA0017</td>\n",
       "    </tr>\n",
       "    <tr>\n",
       "      <th>185417</th>\n",
       "      <td>CA053SA1597</td>\n",
       "    </tr>\n",
       "    <tr>\n",
       "      <th>185418</th>\n",
       "      <td>CE445SA0001</td>\n",
       "    </tr>\n",
       "    <tr>\n",
       "      <th>185419</th>\n",
       "      <td>CT021SA2589</td>\n",
       "    </tr>\n",
       "  </tbody>\n",
       "</table>\n",
       "<p>76868 rows × 1 columns</p>\n",
       "</div>"
      ],
      "text/plain": [
       "        sample_code\n",
       "0         ML-SS21-2\n",
       "1         ML-SS21-2\n",
       "2         ML-SS21-2\n",
       "3         ML-SS21-2\n",
       "4         ML-SS21-2\n",
       "...             ...\n",
       "185415  CA053SA1584\n",
       "185416  CM754SA0017\n",
       "185417  CA053SA1597\n",
       "185418  CE445SA0001\n",
       "185419  CT021SA2589\n",
       "\n",
       "[76868 rows x 1 columns]"
      ]
     },
     "execution_count": 9,
     "metadata": {},
     "output_type": "execute_result"
    }
   ],
   "source": [
    "v2_samples"
   ]
  },
  {
   "cell_type": "code",
   "execution_count": 10,
   "id": "2b98509c",
   "metadata": {},
   "outputs": [],
   "source": [
    "sample_codes = v2_samples['sample_code'].values"
   ]
  },
  {
   "cell_type": "code",
   "execution_count": 11,
   "id": "d515d442",
   "metadata": {},
   "outputs": [],
   "source": [
    "if(len(sample_codes) < 5000):\n",
    "    count  = len(sample_codes)\n",
    "    step=count\n",
    "elif(len(sample_codes) < 70000):\n",
    "    count = len(sample_codes)\n",
    "    step=5000\n",
    "else:\n",
    "    count = 70000\n",
    "    step=5000\n",
    "start = 0\n"
   ]
  },
  {
   "cell_type": "code",
   "execution_count": 12,
   "id": "206ead7a",
   "metadata": {},
   "outputs": [
    {
     "data": {
      "text/plain": [
       "70000"
      ]
     },
     "execution_count": 12,
     "metadata": {},
     "output_type": "execute_result"
    }
   ],
   "source": [
    "count"
   ]
  },
  {
   "cell_type": "code",
   "execution_count": 13,
   "id": "ddf7868e",
   "metadata": {},
   "outputs": [
    {
     "data": {
      "text/plain": [
       "0"
      ]
     },
     "execution_count": 13,
     "metadata": {},
     "output_type": "execute_result"
    }
   ],
   "source": [
    "start"
   ]
  },
  {
   "cell_type": "code",
   "execution_count": 14,
   "id": "81c135b4",
   "metadata": {},
   "outputs": [
    {
     "data": {
      "text/plain": [
       "5000"
      ]
     },
     "execution_count": 14,
     "metadata": {},
     "output_type": "execute_result"
    }
   ],
   "source": [
    "step"
   ]
  },
  {
   "cell_type": "code",
   "execution_count": 15,
   "id": "484911f1",
   "metadata": {},
   "outputs": [],
   "source": [
    "spectra = pd.DataFrame()"
   ]
  },
  {
   "cell_type": "code",
   "execution_count": 16,
   "id": "8a3d4342",
   "metadata": {},
   "outputs": [],
   "source": [
    "def convertSpectra(df):\n",
    "    print(\"Converting spectra\")\n",
    "    df_ = pd.DataFrame([i[[i for i in i.keys()][0]] for i in df['averaged_spectra'].values],columns = np.arange(522,3977,2))\n",
    "    df_.index = df.index\n",
    "    print(\"Spectra converted\")\n",
    "    return df_"
   ]
  },
  {
   "cell_type": "code",
   "execution_count": null,
   "id": "a689252d",
   "metadata": {},
   "outputs": [
    {
     "name": "stdout",
     "output_type": "stream",
     "text": [
      "Fetching spectra from 0\n",
      "5000\n"
     ]
    },
    {
     "name": "stderr",
     "output_type": "stream",
     "text": [
      "C:\\Users\\Tsuma Thomas\\AppData\\Local\\Temp\\ipykernel_10280\\3978604781.py:8: UserWarning: pandas only supports SQLAlchemy connectable (engine/connection) or database string URI or sqlite3 DBAPI2 connection. Other DBAPI2 objects are not tested. Please consider using SQLAlchemy.\n",
      "  _ = pd.read_sql(query, con=conn)\n"
     ]
    }
   ],
   "source": [
    "for i in np.arange(start, count, step):\n",
    "        \n",
    "    print(\"Fetching spectra from {}\".format(start))\n",
    "    samples = [i for i in sample_codes][start:start+step]\n",
    "    print(len(samples))\n",
    "    query = f\"SELECT spectraldata.metadata_id, averaged_spectra, mandatorymetadata.sample_code  FROM spectraldata INNER JOIN mandatorymetadata ON mandatorymetadata.metadata_id = spectraldata.metadata_id WHERE is_finalized=True AND passed=True AND is_active=True AND averaged=True AND sample_code IN {str(samples).replace('[','(').replace(']',')')}\"\n",
    "\n",
    "    _ = pd.read_sql(query, con=conn)\n",
    "    print(\"This is the spectra\",_)\n",
    "    spectra = pd.concat([spectra, _], axis=0)\n",
    "    start = start + step\n",
    "    if (count-step) > 5000:\n",
    "        step=5000\n",
    "    else:\n",
    "        step = count-step\n",
    "\n",
    "conn.close()\n",
    "spectra = spectra[['sample_code', 'averaged_spectra']]\n",
    "spectra = spectra.set_index('sample_code')\n",
    "spectra = convertSpectra(spectra)\n",
    "\n",
    "\n",
    "spectra.to_csv(\"./outputFiles/spectraldata.csv\")\n",
    "\n",
    "return spectra"
   ]
  },
  {
   "cell_type": "code",
   "execution_count": null,
   "id": "14372e1f",
   "metadata": {},
   "outputs": [],
   "source": []
  }
 ],
 "metadata": {
  "kernelspec": {
   "display_name": "Python 3 (ipykernel)",
   "language": "python",
   "name": "python3"
  },
  "language_info": {
   "codemirror_mode": {
    "name": "ipython",
    "version": 3
   },
   "file_extension": ".py",
   "mimetype": "text/x-python",
   "name": "python",
   "nbconvert_exporter": "python",
   "pygments_lexer": "ipython3",
   "version": "3.10.7"
  }
 },
 "nbformat": 4,
 "nbformat_minor": 5
}
