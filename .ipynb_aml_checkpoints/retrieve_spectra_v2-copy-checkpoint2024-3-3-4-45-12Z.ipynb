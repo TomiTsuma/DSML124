{
  "cells": [
    {
      "cell_type": "code",
      "source": [
        "import sys\n",
        "sys.path.append(\"/anaconda/envs/azureml_py38/lib/python3.8/site-packages\")"
      ],
      "outputs": [],
      "execution_count": 2,
      "metadata": {
        "jupyter": {
          "source_hidden": false,
          "outputs_hidden": false
        },
        "nteract": {
          "transient": {
            "deleting": false
          }
        },
        "gather": {
          "logged": 1712057494830
        }
      },
      "id": "6beb0086-ce54-4f2e-8686-855cf8d44351"
    },
    {
      "cell_type": "code",
      "source": [
        "import psycopg2\n",
        "import pandas as pd\n",
        "import numpy as np"
      ],
      "outputs": [],
      "execution_count": 3,
      "metadata": {
        "gather": {
          "logged": 1712057498801
        }
      },
      "id": "05c8b820"
    },
    {
      "cell_type": "code",
      "source": [
        "def get_db_cursor():\n",
        "    username = \"doadmin\"\n",
        "    password = 'yzmodwh2oh16iks6'\n",
        "    host = 'db-postgresql-cl1-do-user-2276924-0.db.ondigitalocean.com'\n",
        "    port = 25060\n",
        "    database = 'MandatoryMetadata'\n",
        "    schema = 'historical'\n",
        "\n",
        "    conn = psycopg2.connect(host=host, database=database,\n",
        "                            user=username, password=password, port=port)\n",
        "    cur = conn.cursor()\n",
        "    cur.execute(\"SET search_path TO \" + schema)\n",
        "\n",
        "    return conn, cur"
      ],
      "outputs": [],
      "execution_count": 4,
      "metadata": {
        "gather": {
          "logged": 1712057498943
        }
      },
      "id": "134f6606"
    },
    {
      "cell_type": "code",
      "source": [
        "conn, cur = get_db_cursor()\n"
      ],
      "outputs": [],
      "execution_count": 5,
      "metadata": {
        "gather": {
          "logged": 1712057500551
        }
      },
      "id": "80fe80bc"
    },
    {
      "cell_type": "code",
      "source": [
        "v1_samples = pd.read_csv('./outputFiles/spectra.csv',usecols=[0])"
      ],
      "outputs": [],
      "execution_count": 6,
      "metadata": {
        "gather": {
          "logged": 1712057538667
        }
      },
      "id": "ab602cbb"
    },
    {
      "cell_type": "code",
      "source": [
        "v1_samples"
      ],
      "outputs": [
        {
          "output_type": "execute_result",
          "execution_count": 7,
          "data": {
            "text/plain": "             Unnamed: 0\n0      AGD207-408SA0706\n1      AGD207-431SA0001\n2      AGD207-431SA0002\n3      AGD207-431SA0003\n4      AGD207-431SA0004\n...                 ...\n87362       CW017SA7164\n87363       CW017SA7167\n87364       CW017SA7168\n87365       CW104SA0052\n87366       CW104SA0053\n\n[87367 rows x 1 columns]",
            "text/html": "<div>\n<style scoped>\n    .dataframe tbody tr th:only-of-type {\n        vertical-align: middle;\n    }\n\n    .dataframe tbody tr th {\n        vertical-align: top;\n    }\n\n    .dataframe thead th {\n        text-align: right;\n    }\n</style>\n<table border=\"1\" class=\"dataframe\">\n  <thead>\n    <tr style=\"text-align: right;\">\n      <th></th>\n      <th>Unnamed: 0</th>\n    </tr>\n  </thead>\n  <tbody>\n    <tr>\n      <th>0</th>\n      <td>AGD207-408SA0706</td>\n    </tr>\n    <tr>\n      <th>1</th>\n      <td>AGD207-431SA0001</td>\n    </tr>\n    <tr>\n      <th>2</th>\n      <td>AGD207-431SA0002</td>\n    </tr>\n    <tr>\n      <th>3</th>\n      <td>AGD207-431SA0003</td>\n    </tr>\n    <tr>\n      <th>4</th>\n      <td>AGD207-431SA0004</td>\n    </tr>\n    <tr>\n      <th>...</th>\n      <td>...</td>\n    </tr>\n    <tr>\n      <th>87362</th>\n      <td>CW017SA7164</td>\n    </tr>\n    <tr>\n      <th>87363</th>\n      <td>CW017SA7167</td>\n    </tr>\n    <tr>\n      <th>87364</th>\n      <td>CW017SA7168</td>\n    </tr>\n    <tr>\n      <th>87365</th>\n      <td>CW104SA0052</td>\n    </tr>\n    <tr>\n      <th>87366</th>\n      <td>CW104SA0053</td>\n    </tr>\n  </tbody>\n</table>\n<p>87367 rows × 1 columns</p>\n</div>"
          },
          "metadata": {}
        }
      ],
      "execution_count": 7,
      "metadata": {
        "gather": {
          "logged": 1712057538849
        }
      },
      "id": "7c690208"
    },
    {
      "cell_type": "code",
      "source": [
        "v2_samples = pd.read_sql('select sample_code from MandatoryMetadata', con = conn)"
      ],
      "outputs": [
        {
          "output_type": "stream",
          "name": "stderr",
          "text": "/tmp/ipykernel_17899/2923516565.py:1: UserWarning: pandas only supports SQLAlchemy connectable (engine/connection) or database string URI or sqlite3 DBAPI2 connection. Other DBAPI2 objects are not tested. Please consider using SQLAlchemy.\n  v2_samples = pd.read_sql('select sample_code from MandatoryMetadata', con = conn)\n"
        }
      ],
      "execution_count": 8,
      "metadata": {
        "gather": {
          "logged": 1712057540208
        }
      },
      "id": "15da9f47"
    },
    {
      "cell_type": "code",
      "source": [
        "v2_samples"
      ],
      "outputs": [
        {
          "output_type": "execute_result",
          "execution_count": 9,
          "data": {
            "text/plain": "        sample_code\n0         ML-SS21-2\n1         ML-SS21-2\n2         ML-SS21-2\n3         ML-SS21-2\n4         ML-SS21-2\n...             ...\n186365  CZ033SA0175\n186366  CS728SA0001\n186367  CA002SA0720\n186368  CA002SA0718\n186369  CT003SA0072\n\n[186370 rows x 1 columns]",
            "text/html": "<div>\n<style scoped>\n    .dataframe tbody tr th:only-of-type {\n        vertical-align: middle;\n    }\n\n    .dataframe tbody tr th {\n        vertical-align: top;\n    }\n\n    .dataframe thead th {\n        text-align: right;\n    }\n</style>\n<table border=\"1\" class=\"dataframe\">\n  <thead>\n    <tr style=\"text-align: right;\">\n      <th></th>\n      <th>sample_code</th>\n    </tr>\n  </thead>\n  <tbody>\n    <tr>\n      <th>0</th>\n      <td>ML-SS21-2</td>\n    </tr>\n    <tr>\n      <th>1</th>\n      <td>ML-SS21-2</td>\n    </tr>\n    <tr>\n      <th>2</th>\n      <td>ML-SS21-2</td>\n    </tr>\n    <tr>\n      <th>3</th>\n      <td>ML-SS21-2</td>\n    </tr>\n    <tr>\n      <th>4</th>\n      <td>ML-SS21-2</td>\n    </tr>\n    <tr>\n      <th>...</th>\n      <td>...</td>\n    </tr>\n    <tr>\n      <th>186365</th>\n      <td>CZ033SA0175</td>\n    </tr>\n    <tr>\n      <th>186366</th>\n      <td>CS728SA0001</td>\n    </tr>\n    <tr>\n      <th>186367</th>\n      <td>CA002SA0720</td>\n    </tr>\n    <tr>\n      <th>186368</th>\n      <td>CA002SA0718</td>\n    </tr>\n    <tr>\n      <th>186369</th>\n      <td>CT003SA0072</td>\n    </tr>\n  </tbody>\n</table>\n<p>186370 rows × 1 columns</p>\n</div>"
          },
          "metadata": {}
        }
      ],
      "execution_count": 9,
      "metadata": {
        "gather": {
          "logged": 1712057540445
        }
      },
      "id": "ed3fd350"
    },
    {
      "cell_type": "code",
      "source": [
        "v2_samples = v2_samples.loc[~v2_samples['sample_code'].isin(v1_samples['Unnamed: 0'])]"
      ],
      "outputs": [],
      "execution_count": 10,
      "metadata": {
        "gather": {
          "logged": 1712057540621
        }
      },
      "id": "6df30d07"
    },
    {
      "cell_type": "code",
      "source": [
        "v2_samples"
      ],
      "outputs": [
        {
          "output_type": "execute_result",
          "execution_count": 11,
          "data": {
            "text/plain": "        sample_code\n0         ML-SS21-2\n1         ML-SS21-2\n2         ML-SS21-2\n3         ML-SS21-2\n4         ML-SS21-2\n...             ...\n186365  CZ033SA0175\n186366  CS728SA0001\n186367  CA002SA0720\n186368  CA002SA0718\n186369  CT003SA0072\n\n[77818 rows x 1 columns]",
            "text/html": "<div>\n<style scoped>\n    .dataframe tbody tr th:only-of-type {\n        vertical-align: middle;\n    }\n\n    .dataframe tbody tr th {\n        vertical-align: top;\n    }\n\n    .dataframe thead th {\n        text-align: right;\n    }\n</style>\n<table border=\"1\" class=\"dataframe\">\n  <thead>\n    <tr style=\"text-align: right;\">\n      <th></th>\n      <th>sample_code</th>\n    </tr>\n  </thead>\n  <tbody>\n    <tr>\n      <th>0</th>\n      <td>ML-SS21-2</td>\n    </tr>\n    <tr>\n      <th>1</th>\n      <td>ML-SS21-2</td>\n    </tr>\n    <tr>\n      <th>2</th>\n      <td>ML-SS21-2</td>\n    </tr>\n    <tr>\n      <th>3</th>\n      <td>ML-SS21-2</td>\n    </tr>\n    <tr>\n      <th>4</th>\n      <td>ML-SS21-2</td>\n    </tr>\n    <tr>\n      <th>...</th>\n      <td>...</td>\n    </tr>\n    <tr>\n      <th>186365</th>\n      <td>CZ033SA0175</td>\n    </tr>\n    <tr>\n      <th>186366</th>\n      <td>CS728SA0001</td>\n    </tr>\n    <tr>\n      <th>186367</th>\n      <td>CA002SA0720</td>\n    </tr>\n    <tr>\n      <th>186368</th>\n      <td>CA002SA0718</td>\n    </tr>\n    <tr>\n      <th>186369</th>\n      <td>CT003SA0072</td>\n    </tr>\n  </tbody>\n</table>\n<p>77818 rows × 1 columns</p>\n</div>"
          },
          "metadata": {}
        }
      ],
      "execution_count": 11,
      "metadata": {
        "gather": {
          "logged": 1712057540840
        }
      },
      "id": "23ee1e15"
    },
    {
      "cell_type": "code",
      "source": [
        "sample_codes = v2_samples['sample_code'].values"
      ],
      "outputs": [],
      "execution_count": 12,
      "metadata": {
        "gather": {
          "logged": 1712057541029
        }
      },
      "id": "2b98509c"
    },
    {
      "cell_type": "code",
      "source": [
        "if(len(sample_codes) < 5000):\n",
        "    count  = len(sample_codes)\n",
        "    step=count\n",
        "elif(len(sample_codes) < 70000):\n",
        "    count = len(sample_codes)\n",
        "    step=5000\n",
        "else:\n",
        "    count = 70000\n",
        "    step=5000\n",
        "start = 0\n"
      ],
      "outputs": [],
      "execution_count": 13,
      "metadata": {
        "gather": {
          "logged": 1712057541176
        }
      },
      "id": "d515d442"
    },
    {
      "cell_type": "code",
      "source": [
        "count"
      ],
      "outputs": [
        {
          "output_type": "execute_result",
          "execution_count": 14,
          "data": {
            "text/plain": "70000"
          },
          "metadata": {}
        }
      ],
      "execution_count": 14,
      "metadata": {
        "gather": {
          "logged": 1712057541332
        }
      },
      "id": "206ead7a"
    },
    {
      "cell_type": "code",
      "source": [
        "start"
      ],
      "outputs": [
        {
          "output_type": "execute_result",
          "execution_count": 15,
          "data": {
            "text/plain": "0"
          },
          "metadata": {}
        }
      ],
      "execution_count": 15,
      "metadata": {
        "gather": {
          "logged": 1712057541502
        }
      },
      "id": "ddf7868e"
    },
    {
      "cell_type": "code",
      "source": [
        "step"
      ],
      "outputs": [
        {
          "output_type": "execute_result",
          "execution_count": 16,
          "data": {
            "text/plain": "5000"
          },
          "metadata": {}
        }
      ],
      "execution_count": 16,
      "metadata": {
        "gather": {
          "logged": 1712057541711
        }
      },
      "id": "81c135b4"
    },
    {
      "cell_type": "code",
      "source": [
        "spectra = pd.DataFrame()"
      ],
      "outputs": [],
      "execution_count": 17,
      "metadata": {
        "gather": {
          "logged": 1712057541881
        }
      },
      "id": "484911f1"
    },
    {
      "cell_type": "code",
      "source": [
        "def convertSpectra(df):\n",
        "    print(\"Converting spectra\")\n",
        "    df_ = pd.DataFrame([i[[i for i in i.keys()][0]] for i in df['averaged_spectra'].values],columns = np.arange(522,3977,2))\n",
        "    df_.index = df.index\n",
        "    print(\"Spectra converted\")\n",
        "    return df_"
      ],
      "outputs": [],
      "execution_count": 18,
      "metadata": {
        "gather": {
          "logged": 1712057542065
        }
      },
      "id": "8a3d4342"
    },
    {
      "cell_type": "code",
      "source": [
        "for i in np.arange(start, count, step):\n",
        "        \n",
        "    print(\"Fetching spectra from {}\".format(start))\n",
        "    samples = [i for i in sample_codes][start:start+step]\n",
        "    print(len(samples))\n",
        "    query = f\"SELECT spectraldata.metadata_id, spectraldata.averaged_spectra, mandatorymetadata.sample_code FROM spectraldata INNER JOIN mandatorymetadata ON mandatorymetadata.metadata_id = spectraldata.metadata_id WHERE averaged=True AND sample_code IN {str(samples).replace('[','(').replace(']',')')}\"\n",
        "\n",
        "    _ = pd.read_sql(query, con=conn)\n",
        "    print(\"This is the spectra\",_)\n",
        "    spectra = pd.concat([spectra, _], axis=0)\n",
        "    start = start + step\n",
        "    if (count-step) > 5000:\n",
        "        step=5000\n",
        "    else:\n",
        "        step = count-step\n",
        "\n",
        "\n",
        "\n"
      ],
      "outputs": [
        {
          "output_type": "stream",
          "name": "stdout",
          "text": "Fetching spectra from 0\n5000\nThis is the spectra       metadata_id                                   averaged_spectra  \\\n0          187075  {'521': [2.307263405435277, 2.3483773245548107...   \n1          186966  {'522': [2.397271446121614, 2.4282403701836808...   \n2          186768  {'521': [2.3837186661571783, 2.426691483682147...   \n3          186864  {'521': [2.2609804305624883, 2.293829992699927...   \n4          186863  {'522': [2.3808439217120956, 2.408734106733358...   \n...           ...                                                ...   \n6206       161700  {'522': [2.360054879422215, 2.302488578286381,...   \n6207       161726  {'522': [2.400198791126645, 2.4553677734575245...   \n6208       161730  {'522': [2.503719823794537, 2.5818505003199634...   \n6209       161766  {'522': [2.242610077256419, 2.2293044933304005...   \n6210       161777  {'522': [2.32940209441737, 2.2779935330976473,...   \n\n          sample_code  \n0           ML-SS21-1  \n1           ML-SS21-1  \n2           ML-SS21-1  \n3           ML-SS21-1  \n4           ML-SS21-1  \n...               ...  \n6206   FA419-76SA0001  \n6207   FA539-22SA0001  \n6208      CA053SA1351  \n6209  FA807-778SA0003  \n6210  AGD218-99SA0002  \n\n[6211 rows x 3 columns]\nFetching spectra from 5000\n5000\nThis is the spectra        metadata_id                                   averaged_spectra  \\\n0           187075  {'521': [2.307263405435277, 2.3483773245548107...   \n1           187056  {'522': [2.3645274701916428, 2.380267433090121...   \n2           187043  {'522': [2.3943149118512363, 2.391047759744343...   \n3           187025  {'522': [2.381931136382427, 2.383939558800457,...   \n4           186987  {'521': [2.243089700678383, 2.1948415943304833...   \n...            ...                                                ...   \n14484       164290  {'522': [2.293147234336991, 2.2899005801815067...   \n14485       164302  {'522': [2.2473573448899007, 2.255195699005539...   \n14486       164312  {'522': [2.050560245127239, 2.035885551596273,...   \n14487        11074  {'522': [2.439012542140077, 2.3931823230010574...   \n14488       164323  {'522': [2.310717799019555, 2.357101216642394,...   \n\n          sample_code  \n0           ML-SS21-1  \n1           ML-SS21-1  \n2           ML-SS21-1  \n3           ML-SS21-1  \n4           ML-SS21-1  \n...               ...  \n14484     CT214SA0617  \n14485     CT214SA0628  \n14486     CT214SA0621  \n14487  FA537-91SA0001  \n14488  FA537-93SA0002  \n\n[14489 rows x 3 columns]\nFetching spectra from 10000\n5000\nThis is the spectra        metadata_id                                   averaged_spectra  \\\n0            10080  {'522': [2.274885254503441, 2.2319242103001766...   \n1            10047  {'522': [2.278888888660214, 2.297786508344143,...   \n2            13692  {'522': [1.8475415838865055, 1.901551774140139...   \n3             8997  {'522': [2.300421448843487, 2.3375871951902756...   \n4            10093  {'522': [2.2795946619414096, 2.273787762387321...   \n...            ...                                                ...   \n16716        11536  {'522': [1.74404657343899, 1.7219717096808616,...   \n16717        11537  {'522': [2.2543427913428813, 2.23920650446992,...   \n16718        12880  {'522': [2.17262980577792, 2.1612774758742392,...   \n16719        11538  {'522': [2.272784491759387, 2.2368417866791614...   \n16720        11539  {'522': [2.013983522279056, 1.9928827493859576...   \n\n           sample_code  \n0      AGD918-20SA0001  \n1      AGD918-34SA0002  \n2          CB206SA0101  \n3      AGD918-82SA0004  \n4      AGD918-35SA0001  \n...                ...  \n16716   AGD901-4SA0004  \n16717  AGD918-50SA0001  \n16718      CA330SA2324  \n16719  AGD918-78SA0001  \n16720   AGD917-5SA0002  \n\n[16721 rows x 3 columns]\nFetching spectra from 15000\n5000\nThis is the spectra        metadata_id                                   averaged_spectra  \\\n0           187075  {'521': [2.307263405435277, 2.3483773245548107...   \n1           187056  {'522': [2.3645274701916428, 2.380267433090121...   \n2           187043  {'522': [2.3943149118512363, 2.391047759744343...   \n3           187025  {'522': [2.381931136382427, 2.383939558800457,...   \n4           186987  {'521': [2.243089700678383, 2.1948415943304833...   \n...            ...                                                ...   \n16724       161180  {'522': [2.3265568598179995, 2.264019334904624...   \n16725       161182  {'522': [2.3783419198610103, 2.422783456084052...   \n16726       161392  {'522': [2.33595944594112, 2.3252500220468213,...   \n16727       161208  {'522': [2.317288846451495, 2.3108945112643537...   \n16728       161217  {'522': [2.3213938332848225, 2.414833891653165...   \n\n      sample_code  \n0       ML-SS21-1  \n1       ML-SS21-1  \n2       ML-SS21-1  \n3       ML-SS21-1  \n4       ML-SS21-1  \n...           ...  \n16724   ML-SS21-1  \n16725   ML-SS21-1  \n16726   ML-SS21-1  \n16727   ML-SS21-1  \n16728   ML-SS21-1  \n\n[16729 rows x 3 columns]\nFetching spectra from 20000\n5000\nThis is the spectra        metadata_id                                   averaged_spectra  \\\n0            22662  {'522': [2.158945932015736, 2.153889578143777,...   \n1            10047  {'522': [2.278888888660214, 2.297786508344143,...   \n2            10093  {'522': [2.2795946619414096, 2.273787762387321...   \n3            10080  {'522': [2.274885254503441, 2.2319242103001766...   \n4             8028  {'522': [2.4709494644009036, 2.472236042557176...   \n...            ...                                                ...   \n15799         9011  {'522': [2.410298474693552, 2.4020397120511037...   \n15800         9013  {'522': [2.4814217534016754, 2.458529288858571...   \n15801        12801  {'522': [1.995790882248075, 1.9721684804561743...   \n15802         9128  {'522': [2.474892988471389, 2.458521552105081,...   \n15803        12810  {'522': [2.0956831689507207, 2.094727540187541...   \n\n           sample_code  \n0          CF177SA1467  \n1      AGD918-34SA0002  \n2      AGD918-35SA0001  \n3      AGD918-20SA0001  \n4      AGD903-36SA0002  \n...                ...  \n15799  AGD918-23SA0004  \n15800  AGD918-74SA0003  \n15801      CA330SA2163  \n15802   AGD903-37A0001  \n15803      CA330SA2036  \n\n[15804 rows x 3 columns]\nFetching spectra from 25000\n5000\nThis is the spectra       metadata_id                                   averaged_spectra  \\\n0          187075  {'521': [2.307263405435277, 2.3483773245548107...   \n1          187056  {'522': [2.3645274701916428, 2.380267433090121...   \n2          187043  {'522': [2.3943149118512363, 2.391047759744343...   \n3          187025  {'522': [2.381931136382427, 2.383939558800457,...   \n4          186987  {'521': [2.243089700678383, 2.1948415943304833...   \n...           ...                                                ...   \n9377       161735  {'522': [2.359731449123168, 2.4714294774879737...   \n9378       161753  {'522': [2.260372011337533, 2.302202772227119,...   \n9379       161767  {'522': [2.4079214978472976, 2.361045826196156...   \n9380       161773  {'522': [2.278073481381654, 2.288160863047489,...   \n9381       161780  {'522': [2.33516306388488, 2.2543873074679697,...   \n\n          sample_code  \n0           ML-SS21-1  \n1           ML-SS21-1  \n2           ML-SS21-1  \n3           ML-SS21-1  \n4           ML-SS21-1  \n...               ...  \n9377   FA419-86SA0002  \n9378  AGD928-28SA0002  \n9379      CA053SA1409  \n9380  AGD928-28SA0003  \n9381      CA053SA1404  \n\n[9382 rows x 3 columns]\nFetching spectra from 30000\n5000\nThis is the spectra       metadata_id                                   averaged_spectra  \\\n0          107164  {'522': [2.0718084080978603, 2.029311660335484...   \n1           95749  {'522': [2.150865347248802, 2.194643888298641,...   \n2          107165  {'522': [2.160624560592213, 2.2155427941949903...   \n3          107166  {'522': [2.2008846455956173, 2.321818253785458...   \n4          107158  {'522': [2.3111737718971295, 2.382890145174427...   \n...           ...                                                ...   \n5032       161069  {'522': [2.20023299426236, 2.3282682578031437,...   \n5033       161075  {'522': [2.0011840779884444, 2.048553508212463...   \n5034       161091  {'522': [2.3138144462069095, 2.29630994870248,...   \n5035       161093  {'522': [1.9405733118056636, 1.955378765696380...   \n5036       161094  {'522': [2.081532391008924, 2.044332592554879,...   \n\n         sample_code  \n0     I30-1-35SA0035  \n1        CH006SA5417  \n2     I30-1-14SA0329  \n3     I30-1-13SA0048  \n4     I30-1-36SA0028  \n...              ...  \n5032     CH006SA2879  \n5033     CS417SA0046  \n5034     CK013SA2039  \n5035     CF131SA0921  \n5036     CF131SA0268  \n\n[5037 rows x 3 columns]\nFetching spectra from 35000\n5000\nThis is the spectra       metadata_id                                   averaged_spectra  \\\n0          108481  {'522': [2.213952400982423, 2.2079233961619673...   \n1          108482  {'522': [2.2156362012611166, 2.163811121193387...   \n2          108483  {'522': [2.1485826268196626, 2.157922033484391...   \n3          108484  {'522': [2.4265925637629326, 2.408174292090732...   \n4          108485  {'522': [1.945060412024369, 1.9306223663312543...   \n...           ...                                                ...   \n5003       109621  {'522': [2.1577872042423856, 2.250000730464194...   \n5004       109624  {'522': [2.2780775035532645, 2.378666269312538...   \n5005       161092  {'522': [2.0437636452011354, 2.099161232875365...   \n5006       161100  {'522': [2.0924970358907853, 1.884085295381002...   \n5007       161077  {'522': [2.180050505253619, 2.1816515651034107...   \n\n          sample_code  \n0      I30-1-10SA0171  \n1      I30-1-30SA0004  \n2      I30-1-14SA0069  \n3      FA419-31SA0003  \n4      I30-1-20SA0013  \n...               ...  \n5003   FA617-70SA0001  \n5004   AGD837-7SA0002  \n5005    FA222-9SA0001  \n5006  AGD806-42SA0001  \n5007   I30-1-12SA0065  \n\n[5008 rows x 3 columns]\nFetching spectra from 40000\n5000\nThis is the spectra       metadata_id                                   averaged_spectra  \\\n0          119305  {'522': [2.1636099908177058, 2.141558655219781...   \n1          119302  {'522': [2.306427851914301, 2.3335228032143593...   \n2          119303  {'522': [1.776712558387745, 1.7723418431684412...   \n3          119642  {'522': [2.2046795909905708, 2.217654966860105...   \n4          119301  {'522': [1.953391926426997, 1.9449189164277243...   \n...           ...                                                ...   \n4996       124325  {'522': [2.2723891231604867, 2.286408191276184...   \n4997       124329  {'522': [1.9688415049291201, 1.967748264137951...   \n4998       124330  {'522': [2.0893625491404793, 2.065115638085085...   \n4999       124333  {'522': [2.2017550565237, 2.155568811266905, 2...   \n5000       161088  {'522': [1.9453473671406885, 2.007683530660661...   \n\n      sample_code  \n0     CT214SA0574  \n1     CS331SA0017  \n2     CS436SA0037  \n3     CS158SA0696  \n4     CO126SA0229  \n...           ...  \n4996  CS196SA0314  \n4997  CS387SA0022  \n4998  CO126SA0020  \n4999  CS255SA0017  \n5000  CS341SA0083  \n\n[5001 rows x 3 columns]\nFetching spectra from 45000\n5000\nThis is the spectra       metadata_id                                   averaged_spectra  \\\n0          150627  {'522': [1.8741000391633091, 1.854811524701267...   \n1          150635  {'522': [2.0295687282584756, 2.047287084002841...   \n2          150654  {'522': [2.3090340211786784, 2.367327177415693...   \n3          150637  {'522': [2.3244015368711626, 2.331899248075591...   \n4          150647  {'522': [2.446750161340474, 2.421800730810803,...   \n...           ...                                                ...   \n5014       148212  {'522': [2.180551188961456, 2.1830329189178066...   \n5015       148215  {'522': [2.2643832231995376, 2.204506402666383...   \n5016       148217  {'522': [2.1821980721957104, 2.223808003051809...   \n5017       148225  {'522': [2.2923505446407955, 2.306257862536566...   \n5018       148232  {'522': [2.326163598294154, 2.3837462388644495...   \n\n      sample_code  \n0     CM073SA0783  \n1     CK079SA3435  \n2     CK099SA0755  \n3     CM022SA0185  \n4     CN074SA0363  \n...           ...  \n5014   CV06SA0263  \n5015  CK079SA4154  \n5016  CO027SA2507  \n5017  CO027SA1867  \n5018  CN074SA0323  \n\n[5019 rows x 3 columns]\nFetching spectra from 50000\n5000\nThis is the spectra       metadata_id                                   averaged_spectra  \\\n0          187075  {'521': [2.307263405435277, 2.3483773245548107...   \n1          187056  {'522': [2.3645274701916428, 2.380267433090121...   \n2          187043  {'522': [2.3943149118512363, 2.391047759744343...   \n3          187025  {'522': [2.381931136382427, 2.383939558800457,...   \n4          186987  {'521': [2.243089700678383, 2.1948415943304833...   \n...           ...                                                ...   \n7258       160634  {'522': [2.2758675112562066, 2.260327478144987...   \n7259       160635  {'522': [2.187786380432961, 2.2337255468075257...   \n7260       160636  {'522': [2.310914035896638, 2.2263296772083967...   \n7261       160640  {'522': [2.214097869530992, 2.1897408582819846...   \n7262       160647  {'522': [2.4257752753397943, 2.456430060629887...   \n\n      sample_code  \n0       ML-SS21-1  \n1       ML-SS21-1  \n2       ML-SS21-1  \n3       ML-SS21-1  \n4       ML-SS21-1  \n...           ...  \n7258  CD027SA0010  \n7259  CE006SA2167  \n7260  CA330SA1506  \n7261  CE006SA2191  \n7262  CB048SA0031  \n\n[7263 rows x 3 columns]\nFetching spectra from 55000\n5000\nThis is the spectra       metadata_id                                   averaged_spectra  \\\n0          187075  {'521': [2.307263405435277, 2.3483773245548107...   \n1          187056  {'522': [2.3645274701916428, 2.380267433090121...   \n2          187043  {'522': [2.3943149118512363, 2.391047759744343...   \n3          187025  {'522': [2.381931136382427, 2.383939558800457,...   \n4          186987  {'521': [2.243089700678383, 2.1948415943304833...   \n...           ...                                                ...   \n5647       166409  {'522': [2.283813863204471, 2.3075538425049205...   \n5648       166410  {'522': [2.3530392626345105, 2.351563729181086...   \n5649       166411  {'522': [2.592178092078873, 2.585046414559575,...   \n5650       166412  {'522': [2.3788438912743652, 2.490984243916541...   \n5651       166413  {'522': [2.3847762623423345, 2.327278591409487...   \n\n          sample_code  \n0           ML-SS21-1  \n1           ML-SS21-1  \n2           ML-SS21-1  \n3           ML-SS21-1  \n4           ML-SS21-1  \n...               ...  \n5647  AGD917-64SA0001  \n5648      CC029SA1544  \n5649      CA053SA1462  \n5650      CA053SA1461  \n5651      CT353SA0007  \n\n[5652 rows x 3 columns]\nFetching spectra from 60000\n5000\nThis is the spectra       metadata_id                                   averaged_spectra  \\\n0              27  {'522': [2.168894010369754, 2.1714387890354905...   \n1          177019  {'522': [2.4472335850461935, 2.416163524666181...   \n2          177197  {'522': [2.413664708747909, 2.420136196041784,...   \n3          177145  {'521': [2.4040616420390135, 2.554046932102097...   \n4          177310  {'522': [2.4069673682368773, 2.424975993032607...   \n...           ...                                                ...   \n5271       166286  {'522': [2.3606444358719307, 2.380182037365423...   \n5272       166313  {'522': [2.3056139483569456, 2.363762461923298...   \n5273       166315  {'522': [2.390028102810339, 2.4124151078339784...   \n5274       166322  {'522': [2.4388540744492473, 2.399392737899509...   \n5275       166414  {'522': [2.249738603378021, 2.2770500845432853...   \n\n     sample_code  \n0      ML-SS21-8  \n1      ML-SS21-5  \n2      ML-SS21-5  \n3      ML-SS21-5  \n4      ML-SS21-3  \n...          ...  \n5271   ML-SS21-3  \n5272   ML-SS21-3  \n5273   ML-SS21-3  \n5274   ML-SS21-3  \n5275   ML-SS21-3  \n\n[5276 rows x 3 columns]\nFetching spectra from 65000\n5000\nThis is the spectra       metadata_id                                   averaged_spectra  \\\n0          187075  {'521': [2.307263405435277, 2.3483773245548107...   \n1          187056  {'522': [2.3645274701916428, 2.380267433090121...   \n2          187043  {'522': [2.3943149118512363, 2.391047759744343...   \n3          187025  {'522': [2.381931136382427, 2.383939558800457,...   \n4          186987  {'521': [2.243089700678383, 2.1948415943304833...   \n...           ...                                                ...   \n5710       166389  {'522': [2.477091493551886, 2.414741370768122,...   \n5711       166414  {'522': [2.249738603378021, 2.2770500845432853...   \n5712       166326  {'522': [2.494333709674491, 2.5194716828400674...   \n5713       166338  {'522': [2.431711745778313, 2.491956221424079,...   \n5714       166368  {'522': [2.3832986618691603, 2.418019421881964...   \n\n     sample_code  \n0      ML-SS21-1  \n1      ML-SS21-1  \n2      ML-SS21-1  \n3      ML-SS21-1  \n4      ML-SS21-1  \n...          ...  \n5710   ML-SS21-3  \n5711   ML-SS21-3  \n5712   ML-SS21-3  \n5713   ML-SS21-3  \n5714   ML-SS21-3  \n\n[5715 rows x 3 columns]\n"
        },
        {
          "output_type": "stream",
          "name": "stderr",
          "text": "/tmp/ipykernel_17899/1108552379.py:8: UserWarning: pandas only supports SQLAlchemy connectable (engine/connection) or database string URI or sqlite3 DBAPI2 connection. Other DBAPI2 objects are not tested. Please consider using SQLAlchemy.\n  _ = pd.read_sql(query, con=conn)\n/tmp/ipykernel_17899/1108552379.py:8: UserWarning: pandas only supports SQLAlchemy connectable (engine/connection) or database string URI or sqlite3 DBAPI2 connection. Other DBAPI2 objects are not tested. Please consider using SQLAlchemy.\n  _ = pd.read_sql(query, con=conn)\n/tmp/ipykernel_17899/1108552379.py:8: UserWarning: pandas only supports SQLAlchemy connectable (engine/connection) or database string URI or sqlite3 DBAPI2 connection. Other DBAPI2 objects are not tested. Please consider using SQLAlchemy.\n  _ = pd.read_sql(query, con=conn)\n/tmp/ipykernel_17899/1108552379.py:8: UserWarning: pandas only supports SQLAlchemy connectable (engine/connection) or database string URI or sqlite3 DBAPI2 connection. Other DBAPI2 objects are not tested. Please consider using SQLAlchemy.\n  _ = pd.read_sql(query, con=conn)\n/tmp/ipykernel_17899/1108552379.py:8: UserWarning: pandas only supports SQLAlchemy connectable (engine/connection) or database string URI or sqlite3 DBAPI2 connection. Other DBAPI2 objects are not tested. Please consider using SQLAlchemy.\n  _ = pd.read_sql(query, con=conn)\n/tmp/ipykernel_17899/1108552379.py:8: UserWarning: pandas only supports SQLAlchemy connectable (engine/connection) or database string URI or sqlite3 DBAPI2 connection. Other DBAPI2 objects are not tested. Please consider using SQLAlchemy.\n  _ = pd.read_sql(query, con=conn)\n/tmp/ipykernel_17899/1108552379.py:8: UserWarning: pandas only supports SQLAlchemy connectable (engine/connection) or database string URI or sqlite3 DBAPI2 connection. Other DBAPI2 objects are not tested. Please consider using SQLAlchemy.\n  _ = pd.read_sql(query, con=conn)\n/tmp/ipykernel_17899/1108552379.py:8: UserWarning: pandas only supports SQLAlchemy connectable (engine/connection) or database string URI or sqlite3 DBAPI2 connection. Other DBAPI2 objects are not tested. Please consider using SQLAlchemy.\n  _ = pd.read_sql(query, con=conn)\n/tmp/ipykernel_17899/1108552379.py:8: UserWarning: pandas only supports SQLAlchemy connectable (engine/connection) or database string URI or sqlite3 DBAPI2 connection. Other DBAPI2 objects are not tested. Please consider using SQLAlchemy.\n  _ = pd.read_sql(query, con=conn)\n/tmp/ipykernel_17899/1108552379.py:8: UserWarning: pandas only supports SQLAlchemy connectable (engine/connection) or database string URI or sqlite3 DBAPI2 connection. Other DBAPI2 objects are not tested. Please consider using SQLAlchemy.\n  _ = pd.read_sql(query, con=conn)\n/tmp/ipykernel_17899/1108552379.py:8: UserWarning: pandas only supports SQLAlchemy connectable (engine/connection) or database string URI or sqlite3 DBAPI2 connection. Other DBAPI2 objects are not tested. Please consider using SQLAlchemy.\n  _ = pd.read_sql(query, con=conn)\n/tmp/ipykernel_17899/1108552379.py:8: UserWarning: pandas only supports SQLAlchemy connectable (engine/connection) or database string URI or sqlite3 DBAPI2 connection. Other DBAPI2 objects are not tested. Please consider using SQLAlchemy.\n  _ = pd.read_sql(query, con=conn)\n/tmp/ipykernel_17899/1108552379.py:8: UserWarning: pandas only supports SQLAlchemy connectable (engine/connection) or database string URI or sqlite3 DBAPI2 connection. Other DBAPI2 objects are not tested. Please consider using SQLAlchemy.\n  _ = pd.read_sql(query, con=conn)\n/tmp/ipykernel_17899/1108552379.py:8: UserWarning: pandas only supports SQLAlchemy connectable (engine/connection) or database string URI or sqlite3 DBAPI2 connection. Other DBAPI2 objects are not tested. Please consider using SQLAlchemy.\n  _ = pd.read_sql(query, con=conn)\n"
        }
      ],
      "execution_count": 19,
      "metadata": {
        "gather": {
          "logged": 1712058302845
        }
      },
      "id": "a689252d"
    },
    {
      "cell_type": "code",
      "source": [
        "spectra = spectra.set_index(\"sample_code\")"
      ],
      "outputs": [],
      "execution_count": 20,
      "metadata": {
        "jupyter": {
          "source_hidden": false,
          "outputs_hidden": false
        },
        "nteract": {
          "transient": {
            "deleting": false
          }
        },
        "gather": {
          "logged": 1712058311342
        }
      },
      "id": "30b87fad-7b96-48f6-8ff7-e2a77c309745"
    },
    {
      "cell_type": "code",
      "source": [
        "conn.close()\n"
      ],
      "outputs": [],
      "execution_count": 51,
      "metadata": {
        "jupyter": {
          "source_hidden": false,
          "outputs_hidden": false
        },
        "nteract": {
          "transient": {
            "deleting": false
          }
        },
        "gather": {
          "logged": 1711447148051
        }
      },
      "id": "17a3b3b3-2f4a-4fd9-a28a-431d1e17392d"
    },
    {
      "cell_type": "code",
      "source": [
        "spectra = spectra.set_index('sample_code')\n"
      ],
      "outputs": [],
      "execution_count": 52,
      "metadata": {
        "jupyter": {
          "source_hidden": false,
          "outputs_hidden": false
        },
        "nteract": {
          "transient": {
            "deleting": false
          }
        },
        "gather": {
          "logged": 1711447159026
        }
      },
      "id": "9ea05289-87c4-4e22-97fe-fd86a466192e"
    },
    {
      "cell_type": "code",
      "source": [
        "spectra = convertSpectra(spectra)\n",
        "\n",
        "\n",
        "spectra.to_csv(\"./outputFiles/spectraldata.csv\")"
      ],
      "outputs": [
        {
          "output_type": "stream",
          "name": "stdout",
          "text": "Converting spectra\nSpectra converted\n"
        }
      ],
      "execution_count": 21,
      "metadata": {
        "jupyter": {
          "source_hidden": false,
          "outputs_hidden": false
        },
        "nteract": {
          "transient": {
            "deleting": false
          }
        },
        "gather": {
          "logged": 1712058677557
        }
      },
      "id": "663fb4fc-a5eb-4957-8d20-a187424601d3"
    },
    {
      "cell_type": "code",
      "source": [
        "spectra"
      ],
      "outputs": [
        {
          "output_type": "execute_result",
          "execution_count": 21,
          "data": {
            "text/plain": "          522       524       526       528       530       532       534   \\\n0     2.364527  2.380267  2.415282  2.431268  2.441101  2.462991  2.473978   \n1     2.324680  2.324753  2.373763  2.411027  2.402217  2.347667  2.317289   \n2     2.397271  2.428240  2.399225  2.358932  2.332269  2.308703  2.294938   \n3     2.394315  2.391048  2.357433  2.361828  2.380389  2.410625  2.426476   \n4     2.381931  2.383940  2.376204  2.340311  2.348089  2.348603  2.345284   \n...        ...       ...       ...       ...       ...       ...       ...   \n5709  2.431712  2.491956  2.525230  2.497294  2.461680  2.457347  2.479673   \n5710  2.383299  2.418019  2.405626  2.382745  2.379580  2.403409  2.391373   \n5711  2.388890  2.350033  2.309996  2.327226  2.352492  2.330514  2.316581   \n5712  2.477091  2.414741  2.403005  2.449703  2.481381  2.444921  2.382814   \n5713  2.249739  2.277050  2.323580  2.344774  2.365736  2.380376  2.383867   \n\n          536       538       540   ...      3958      3960      3962  \\\n0     2.428879  2.422211  2.447353  ...  1.170164  1.170703  1.170675   \n1     2.338107  2.375101  2.368011  ...  1.149651  1.149604  1.149459   \n2     2.292284  2.298963  2.309691  ...  1.160591  1.160070  1.159524   \n3     2.401460  2.370650  2.361235  ...  1.152852  1.152934  1.152444   \n4     2.341323  2.328165  2.294485  ...  1.159744  1.158565  1.157161   \n...        ...       ...       ...  ...       ...       ...       ...   \n5709  2.508331  2.492839  2.441814  ...  1.129957  1.129489  1.128628   \n5710  2.320085  2.273765  2.275257  ...  1.149114  1.149265  1.149298   \n5711  2.350303  2.387681  2.412264  ...  1.171154  1.170969  1.170589   \n5712  2.372414  2.406186  2.411119  ...  1.161688  1.161186  1.160171   \n5713  2.385747  2.372978  2.342873  ...  1.167203  1.167368  1.167123   \n\n          3964      3966      3968      3970      3972      3974      3976  \n0     1.170313  1.170076  1.169900  1.169492  1.168838  1.168238  1.167781  \n1     1.148917  1.148238  1.147781  1.147594  1.147623  1.147640  1.147664  \n2     1.159550  1.159486  1.158533  1.157588  1.157537  1.157760  1.157822  \n3     1.151799  1.151322  1.150696  1.150411  1.150530  1.150366  1.150150  \n4     1.156499  1.156687  1.156656  1.155951  1.155213  1.154969  1.155184  \n...        ...       ...       ...       ...       ...       ...       ...  \n5709  1.128164  1.128154  1.128244  1.128160  1.127920  1.127710  1.127501  \n5710  1.148614  1.147901  1.148023  1.148273  1.148000  1.147757  1.147768  \n5711  1.170483  1.170664  1.170294  1.169510  1.169155  1.169263  1.169555  \n5712  1.159406  1.159063  1.158751  1.158270  1.157872  1.157729  1.157586  \n5713  1.166785  1.166569  1.166275  1.166020  1.165878  1.165542  1.164923  \n\n[123300 rows x 1728 columns]",
            "text/html": "<div>\n<style scoped>\n    .dataframe tbody tr th:only-of-type {\n        vertical-align: middle;\n    }\n\n    .dataframe tbody tr th {\n        vertical-align: top;\n    }\n\n    .dataframe thead th {\n        text-align: right;\n    }\n</style>\n<table border=\"1\" class=\"dataframe\">\n  <thead>\n    <tr style=\"text-align: right;\">\n      <th></th>\n      <th>522</th>\n      <th>524</th>\n      <th>526</th>\n      <th>528</th>\n      <th>530</th>\n      <th>532</th>\n      <th>534</th>\n      <th>536</th>\n      <th>538</th>\n      <th>540</th>\n      <th>...</th>\n      <th>3958</th>\n      <th>3960</th>\n      <th>3962</th>\n      <th>3964</th>\n      <th>3966</th>\n      <th>3968</th>\n      <th>3970</th>\n      <th>3972</th>\n      <th>3974</th>\n      <th>3976</th>\n    </tr>\n  </thead>\n  <tbody>\n    <tr>\n      <th>0</th>\n      <td>2.364527</td>\n      <td>2.380267</td>\n      <td>2.415282</td>\n      <td>2.431268</td>\n      <td>2.441101</td>\n      <td>2.462991</td>\n      <td>2.473978</td>\n      <td>2.428879</td>\n      <td>2.422211</td>\n      <td>2.447353</td>\n      <td>...</td>\n      <td>1.170164</td>\n      <td>1.170703</td>\n      <td>1.170675</td>\n      <td>1.170313</td>\n      <td>1.170076</td>\n      <td>1.169900</td>\n      <td>1.169492</td>\n      <td>1.168838</td>\n      <td>1.168238</td>\n      <td>1.167781</td>\n    </tr>\n    <tr>\n      <th>1</th>\n      <td>2.324680</td>\n      <td>2.324753</td>\n      <td>2.373763</td>\n      <td>2.411027</td>\n      <td>2.402217</td>\n      <td>2.347667</td>\n      <td>2.317289</td>\n      <td>2.338107</td>\n      <td>2.375101</td>\n      <td>2.368011</td>\n      <td>...</td>\n      <td>1.149651</td>\n      <td>1.149604</td>\n      <td>1.149459</td>\n      <td>1.148917</td>\n      <td>1.148238</td>\n      <td>1.147781</td>\n      <td>1.147594</td>\n      <td>1.147623</td>\n      <td>1.147640</td>\n      <td>1.147664</td>\n    </tr>\n    <tr>\n      <th>2</th>\n      <td>2.397271</td>\n      <td>2.428240</td>\n      <td>2.399225</td>\n      <td>2.358932</td>\n      <td>2.332269</td>\n      <td>2.308703</td>\n      <td>2.294938</td>\n      <td>2.292284</td>\n      <td>2.298963</td>\n      <td>2.309691</td>\n      <td>...</td>\n      <td>1.160591</td>\n      <td>1.160070</td>\n      <td>1.159524</td>\n      <td>1.159550</td>\n      <td>1.159486</td>\n      <td>1.158533</td>\n      <td>1.157588</td>\n      <td>1.157537</td>\n      <td>1.157760</td>\n      <td>1.157822</td>\n    </tr>\n    <tr>\n      <th>3</th>\n      <td>2.394315</td>\n      <td>2.391048</td>\n      <td>2.357433</td>\n      <td>2.361828</td>\n      <td>2.380389</td>\n      <td>2.410625</td>\n      <td>2.426476</td>\n      <td>2.401460</td>\n      <td>2.370650</td>\n      <td>2.361235</td>\n      <td>...</td>\n      <td>1.152852</td>\n      <td>1.152934</td>\n      <td>1.152444</td>\n      <td>1.151799</td>\n      <td>1.151322</td>\n      <td>1.150696</td>\n      <td>1.150411</td>\n      <td>1.150530</td>\n      <td>1.150366</td>\n      <td>1.150150</td>\n    </tr>\n    <tr>\n      <th>4</th>\n      <td>2.381931</td>\n      <td>2.383940</td>\n      <td>2.376204</td>\n      <td>2.340311</td>\n      <td>2.348089</td>\n      <td>2.348603</td>\n      <td>2.345284</td>\n      <td>2.341323</td>\n      <td>2.328165</td>\n      <td>2.294485</td>\n      <td>...</td>\n      <td>1.159744</td>\n      <td>1.158565</td>\n      <td>1.157161</td>\n      <td>1.156499</td>\n      <td>1.156687</td>\n      <td>1.156656</td>\n      <td>1.155951</td>\n      <td>1.155213</td>\n      <td>1.154969</td>\n      <td>1.155184</td>\n    </tr>\n    <tr>\n      <th>...</th>\n      <td>...</td>\n      <td>...</td>\n      <td>...</td>\n      <td>...</td>\n      <td>...</td>\n      <td>...</td>\n      <td>...</td>\n      <td>...</td>\n      <td>...</td>\n      <td>...</td>\n      <td>...</td>\n      <td>...</td>\n      <td>...</td>\n      <td>...</td>\n      <td>...</td>\n      <td>...</td>\n      <td>...</td>\n      <td>...</td>\n      <td>...</td>\n      <td>...</td>\n      <td>...</td>\n    </tr>\n    <tr>\n      <th>5709</th>\n      <td>2.431712</td>\n      <td>2.491956</td>\n      <td>2.525230</td>\n      <td>2.497294</td>\n      <td>2.461680</td>\n      <td>2.457347</td>\n      <td>2.479673</td>\n      <td>2.508331</td>\n      <td>2.492839</td>\n      <td>2.441814</td>\n      <td>...</td>\n      <td>1.129957</td>\n      <td>1.129489</td>\n      <td>1.128628</td>\n      <td>1.128164</td>\n      <td>1.128154</td>\n      <td>1.128244</td>\n      <td>1.128160</td>\n      <td>1.127920</td>\n      <td>1.127710</td>\n      <td>1.127501</td>\n    </tr>\n    <tr>\n      <th>5710</th>\n      <td>2.383299</td>\n      <td>2.418019</td>\n      <td>2.405626</td>\n      <td>2.382745</td>\n      <td>2.379580</td>\n      <td>2.403409</td>\n      <td>2.391373</td>\n      <td>2.320085</td>\n      <td>2.273765</td>\n      <td>2.275257</td>\n      <td>...</td>\n      <td>1.149114</td>\n      <td>1.149265</td>\n      <td>1.149298</td>\n      <td>1.148614</td>\n      <td>1.147901</td>\n      <td>1.148023</td>\n      <td>1.148273</td>\n      <td>1.148000</td>\n      <td>1.147757</td>\n      <td>1.147768</td>\n    </tr>\n    <tr>\n      <th>5711</th>\n      <td>2.388890</td>\n      <td>2.350033</td>\n      <td>2.309996</td>\n      <td>2.327226</td>\n      <td>2.352492</td>\n      <td>2.330514</td>\n      <td>2.316581</td>\n      <td>2.350303</td>\n      <td>2.387681</td>\n      <td>2.412264</td>\n      <td>...</td>\n      <td>1.171154</td>\n      <td>1.170969</td>\n      <td>1.170589</td>\n      <td>1.170483</td>\n      <td>1.170664</td>\n      <td>1.170294</td>\n      <td>1.169510</td>\n      <td>1.169155</td>\n      <td>1.169263</td>\n      <td>1.169555</td>\n    </tr>\n    <tr>\n      <th>5712</th>\n      <td>2.477091</td>\n      <td>2.414741</td>\n      <td>2.403005</td>\n      <td>2.449703</td>\n      <td>2.481381</td>\n      <td>2.444921</td>\n      <td>2.382814</td>\n      <td>2.372414</td>\n      <td>2.406186</td>\n      <td>2.411119</td>\n      <td>...</td>\n      <td>1.161688</td>\n      <td>1.161186</td>\n      <td>1.160171</td>\n      <td>1.159406</td>\n      <td>1.159063</td>\n      <td>1.158751</td>\n      <td>1.158270</td>\n      <td>1.157872</td>\n      <td>1.157729</td>\n      <td>1.157586</td>\n    </tr>\n    <tr>\n      <th>5713</th>\n      <td>2.249739</td>\n      <td>2.277050</td>\n      <td>2.323580</td>\n      <td>2.344774</td>\n      <td>2.365736</td>\n      <td>2.380376</td>\n      <td>2.383867</td>\n      <td>2.385747</td>\n      <td>2.372978</td>\n      <td>2.342873</td>\n      <td>...</td>\n      <td>1.167203</td>\n      <td>1.167368</td>\n      <td>1.167123</td>\n      <td>1.166785</td>\n      <td>1.166569</td>\n      <td>1.166275</td>\n      <td>1.166020</td>\n      <td>1.165878</td>\n      <td>1.165542</td>\n      <td>1.164923</td>\n    </tr>\n  </tbody>\n</table>\n<p>123300 rows × 1728 columns</p>\n</div>"
          },
          "metadata": {}
        }
      ],
      "execution_count": 21,
      "metadata": {
        "gather": {
          "logged": 1712047890734
        }
      },
      "id": "14372e1f"
    },
    {
      "cell_type": "code",
      "source": [
        "import pandas as pd\n",
        "spectra= pd.read_csv(\"outputFiles/spectraldata.csv\",usecols=[0])\n",
        "spectra.to_csv(\"samples.csv\")"
      ],
      "outputs": [],
      "execution_count": 1,
      "metadata": {
        "jupyter": {
          "source_hidden": false,
          "outputs_hidden": false
        },
        "nteract": {
          "transient": {
            "deleting": false
          }
        },
        "gather": {
          "logged": 1712086858103
        }
      },
      "id": "b17e770f-eb4a-465e-a5cb-986f0bcbb71f"
    },
    {
      "cell_type": "code",
      "source": [
        "len(np.unique(spectra.index))"
      ],
      "outputs": [
        {
          "output_type": "execute_result",
          "execution_count": 24,
          "data": {
            "text/plain": "50265"
          },
          "metadata": {}
        }
      ],
      "execution_count": 24,
      "metadata": {
        "jupyter": {
          "source_hidden": false,
          "outputs_hidden": false
        },
        "nteract": {
          "transient": {
            "deleting": false
          }
        },
        "gather": {
          "logged": 1712058751094
        }
      },
      "id": "75714a92-8429-4eac-8d60-e9a693f9f1ef"
    },
    {
      "cell_type": "code",
      "source": [
        "start = 0 \n",
        "stop = 5000\n",
        "for n in np.arange(start, (19000), 5000):\n",
        "    print(n)"
      ],
      "outputs": [
        {
          "output_type": "stream",
          "name": "stdout",
          "text": "0\n5000\n10000\n15000\n"
        }
      ],
      "execution_count": 27,
      "metadata": {
        "jupyter": {
          "source_hidden": false,
          "outputs_hidden": false
        },
        "nteract": {
          "transient": {
            "deleting": false
          }
        },
        "gather": {
          "logged": 1712059064271
        }
      },
      "id": "b4fbfd2c-d4a0-4f6c-87a4-645e872a2149"
    },
    {
      "cell_type": "code",
      "source": [],
      "outputs": [],
      "execution_count": null,
      "metadata": {
        "jupyter": {
          "source_hidden": false,
          "outputs_hidden": false
        },
        "nteract": {
          "transient": {
            "deleting": false
          }
        }
      },
      "id": "194afba3-06c5-442d-8815-7490028cb3ce"
    }
  ],
  "metadata": {
    "kernelspec": {
      "name": "python3",
      "language": "python",
      "display_name": "Python 3 (ipykernel)"
    },
    "language_info": {
      "name": "python",
      "version": "3.8.5",
      "mimetype": "text/x-python",
      "codemirror_mode": {
        "name": "ipython",
        "version": 3
      },
      "pygments_lexer": "ipython3",
      "nbconvert_exporter": "python",
      "file_extension": ".py"
    },
    "microsoft": {
      "ms_spell_check": {
        "ms_spell_check_language": "en"
      },
      "host": {
        "AzureML": {
          "notebookHasBeenCompleted": true
        }
      }
    },
    "kernel_info": {
      "name": "python3"
    },
    "nteract": {
      "version": "nteract-front-end@1.0.0"
    }
  },
  "nbformat": 4,
  "nbformat_minor": 5
}