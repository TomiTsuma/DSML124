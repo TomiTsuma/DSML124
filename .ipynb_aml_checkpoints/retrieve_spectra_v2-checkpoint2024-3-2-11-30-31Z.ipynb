{
  "cells": [
    {
      "cell_type": "code",
      "source": [
        "import sys\n",
        "sys.path.append(\"/anaconda/envs/azureml_py38/lib/python3.8/site-packages\")"
      ],
      "outputs": [],
      "execution_count": 1,
      "metadata": {
        "jupyter": {
          "source_hidden": false,
          "outputs_hidden": false
        },
        "nteract": {
          "transient": {
            "deleting": false
          }
        },
        "gather": {
          "logged": 1712045217431
        }
      },
      "id": "6beb0086-ce54-4f2e-8686-855cf8d44351"
    },
    {
      "cell_type": "code",
      "source": [
        "import psycopg2\n",
        "import pandas as pd\n",
        "import numpy as np"
      ],
      "outputs": [],
      "execution_count": 2,
      "metadata": {
        "gather": {
          "logged": 1712045222360
        }
      },
      "id": "05c8b820"
    },
    {
      "cell_type": "code",
      "source": [
        "def get_db_cursor():\n",
        "    username = \"doadmin\"\n",
        "    password = 'yzmodwh2oh16iks6'\n",
        "    host = 'db-postgresql-cl1-do-user-2276924-0.db.ondigitalocean.com'\n",
        "    port = 25060\n",
        "    database = 'MandatoryMetadata'\n",
        "    schema = 'historical'\n",
        "\n",
        "    conn = psycopg2.connect(host=host, database=database,\n",
        "                            user=username, password=password, port=port)\n",
        "    cur = conn.cursor()\n",
        "    cur.execute(\"SET search_path TO \" + schema)\n",
        "\n",
        "    return conn, cur"
      ],
      "outputs": [],
      "execution_count": 3,
      "metadata": {
        "gather": {
          "logged": 1712045228695
        }
      },
      "id": "134f6606"
    },
    {
      "cell_type": "code",
      "source": [
        "conn, cur = get_db_cursor()\n"
      ],
      "outputs": [],
      "execution_count": 4,
      "metadata": {
        "gather": {
          "logged": 1712045232227
        }
      },
      "id": "80fe80bc"
    },
    {
      "cell_type": "code",
      "source": [
        "v1_samples = pd.read_csv('./outputFiles/spectra.csv',usecols=[0])"
      ],
      "outputs": [],
      "execution_count": 5,
      "metadata": {
        "gather": {
          "logged": 1712045272858
        }
      },
      "id": "ab602cbb"
    },
    {
      "cell_type": "code",
      "source": [
        "v1_samples"
      ],
      "outputs": [
        {
          "output_type": "execute_result",
          "execution_count": 6,
          "data": {
            "text/plain": "             Unnamed: 0\n0      AGD207-408SA0706\n1      AGD207-431SA0001\n2      AGD207-431SA0002\n3      AGD207-431SA0003\n4      AGD207-431SA0004\n...                 ...\n87362       CW017SA7164\n87363       CW017SA7167\n87364       CW017SA7168\n87365       CW104SA0052\n87366       CW104SA0053\n\n[87367 rows x 1 columns]",
            "text/html": "<div>\n<style scoped>\n    .dataframe tbody tr th:only-of-type {\n        vertical-align: middle;\n    }\n\n    .dataframe tbody tr th {\n        vertical-align: top;\n    }\n\n    .dataframe thead th {\n        text-align: right;\n    }\n</style>\n<table border=\"1\" class=\"dataframe\">\n  <thead>\n    <tr style=\"text-align: right;\">\n      <th></th>\n      <th>Unnamed: 0</th>\n    </tr>\n  </thead>\n  <tbody>\n    <tr>\n      <th>0</th>\n      <td>AGD207-408SA0706</td>\n    </tr>\n    <tr>\n      <th>1</th>\n      <td>AGD207-431SA0001</td>\n    </tr>\n    <tr>\n      <th>2</th>\n      <td>AGD207-431SA0002</td>\n    </tr>\n    <tr>\n      <th>3</th>\n      <td>AGD207-431SA0003</td>\n    </tr>\n    <tr>\n      <th>4</th>\n      <td>AGD207-431SA0004</td>\n    </tr>\n    <tr>\n      <th>...</th>\n      <td>...</td>\n    </tr>\n    <tr>\n      <th>87362</th>\n      <td>CW017SA7164</td>\n    </tr>\n    <tr>\n      <th>87363</th>\n      <td>CW017SA7167</td>\n    </tr>\n    <tr>\n      <th>87364</th>\n      <td>CW017SA7168</td>\n    </tr>\n    <tr>\n      <th>87365</th>\n      <td>CW104SA0052</td>\n    </tr>\n    <tr>\n      <th>87366</th>\n      <td>CW104SA0053</td>\n    </tr>\n  </tbody>\n</table>\n<p>87367 rows × 1 columns</p>\n</div>"
          },
          "metadata": {}
        }
      ],
      "execution_count": 6,
      "metadata": {
        "gather": {
          "logged": 1712045280403
        }
      },
      "id": "7c690208"
    },
    {
      "cell_type": "code",
      "source": [
        "v2_samples = pd.read_sql('select sample_code from MandatoryMetadata', con = conn)"
      ],
      "outputs": [
        {
          "output_type": "stream",
          "name": "stderr",
          "text": "/tmp/ipykernel_5014/2923516565.py:1: UserWarning: pandas only supports SQLAlchemy connectable (engine/connection) or database string URI or sqlite3 DBAPI2 connection. Other DBAPI2 objects are not tested. Please consider using SQLAlchemy.\n  v2_samples = pd.read_sql('select sample_code from MandatoryMetadata', con = conn)\n"
        }
      ],
      "execution_count": 7,
      "metadata": {
        "gather": {
          "logged": 1712045290698
        }
      },
      "id": "15da9f47"
    },
    {
      "cell_type": "code",
      "source": [
        "v2_samples"
      ],
      "outputs": [
        {
          "output_type": "execute_result",
          "execution_count": 8,
          "data": {
            "text/plain": "        sample_code\n0         ML-SS21-2\n1         ML-SS21-2\n2         ML-SS21-2\n3         ML-SS21-2\n4         ML-SS21-2\n...             ...\n186311  CV062SA0752\n186312  CH213SA0001\n186313  CP433SA0007\n186314  CP433SA0001\n186315  CP433SA0002\n\n[186316 rows x 1 columns]",
            "text/html": "<div>\n<style scoped>\n    .dataframe tbody tr th:only-of-type {\n        vertical-align: middle;\n    }\n\n    .dataframe tbody tr th {\n        vertical-align: top;\n    }\n\n    .dataframe thead th {\n        text-align: right;\n    }\n</style>\n<table border=\"1\" class=\"dataframe\">\n  <thead>\n    <tr style=\"text-align: right;\">\n      <th></th>\n      <th>sample_code</th>\n    </tr>\n  </thead>\n  <tbody>\n    <tr>\n      <th>0</th>\n      <td>ML-SS21-2</td>\n    </tr>\n    <tr>\n      <th>1</th>\n      <td>ML-SS21-2</td>\n    </tr>\n    <tr>\n      <th>2</th>\n      <td>ML-SS21-2</td>\n    </tr>\n    <tr>\n      <th>3</th>\n      <td>ML-SS21-2</td>\n    </tr>\n    <tr>\n      <th>4</th>\n      <td>ML-SS21-2</td>\n    </tr>\n    <tr>\n      <th>...</th>\n      <td>...</td>\n    </tr>\n    <tr>\n      <th>186311</th>\n      <td>CV062SA0752</td>\n    </tr>\n    <tr>\n      <th>186312</th>\n      <td>CH213SA0001</td>\n    </tr>\n    <tr>\n      <th>186313</th>\n      <td>CP433SA0007</td>\n    </tr>\n    <tr>\n      <th>186314</th>\n      <td>CP433SA0001</td>\n    </tr>\n    <tr>\n      <th>186315</th>\n      <td>CP433SA0002</td>\n    </tr>\n  </tbody>\n</table>\n<p>186316 rows × 1 columns</p>\n</div>"
          },
          "metadata": {}
        }
      ],
      "execution_count": 8,
      "metadata": {
        "gather": {
          "logged": 1712045290859
        }
      },
      "id": "ed3fd350"
    },
    {
      "cell_type": "code",
      "source": [
        "v2_samples = v2_samples.loc[~v2_samples['sample_code'].isin(v1_samples['Unnamed: 0'])]"
      ],
      "outputs": [],
      "execution_count": 9,
      "metadata": {
        "gather": {
          "logged": 1712045295345
        }
      },
      "id": "6df30d07"
    },
    {
      "cell_type": "code",
      "source": [
        "v2_samples"
      ],
      "outputs": [
        {
          "output_type": "execute_result",
          "execution_count": 10,
          "data": {
            "text/plain": "        sample_code\n0         ML-SS21-2\n1         ML-SS21-2\n2         ML-SS21-2\n3         ML-SS21-2\n4         ML-SS21-2\n...             ...\n186311  CV062SA0752\n186312  CH213SA0001\n186313  CP433SA0007\n186314  CP433SA0001\n186315  CP433SA0002\n\n[77764 rows x 1 columns]",
            "text/html": "<div>\n<style scoped>\n    .dataframe tbody tr th:only-of-type {\n        vertical-align: middle;\n    }\n\n    .dataframe tbody tr th {\n        vertical-align: top;\n    }\n\n    .dataframe thead th {\n        text-align: right;\n    }\n</style>\n<table border=\"1\" class=\"dataframe\">\n  <thead>\n    <tr style=\"text-align: right;\">\n      <th></th>\n      <th>sample_code</th>\n    </tr>\n  </thead>\n  <tbody>\n    <tr>\n      <th>0</th>\n      <td>ML-SS21-2</td>\n    </tr>\n    <tr>\n      <th>1</th>\n      <td>ML-SS21-2</td>\n    </tr>\n    <tr>\n      <th>2</th>\n      <td>ML-SS21-2</td>\n    </tr>\n    <tr>\n      <th>3</th>\n      <td>ML-SS21-2</td>\n    </tr>\n    <tr>\n      <th>4</th>\n      <td>ML-SS21-2</td>\n    </tr>\n    <tr>\n      <th>...</th>\n      <td>...</td>\n    </tr>\n    <tr>\n      <th>186311</th>\n      <td>CV062SA0752</td>\n    </tr>\n    <tr>\n      <th>186312</th>\n      <td>CH213SA0001</td>\n    </tr>\n    <tr>\n      <th>186313</th>\n      <td>CP433SA0007</td>\n    </tr>\n    <tr>\n      <th>186314</th>\n      <td>CP433SA0001</td>\n    </tr>\n    <tr>\n      <th>186315</th>\n      <td>CP433SA0002</td>\n    </tr>\n  </tbody>\n</table>\n<p>77764 rows × 1 columns</p>\n</div>"
          },
          "metadata": {}
        }
      ],
      "execution_count": 10,
      "metadata": {
        "gather": {
          "logged": 1712045297116
        }
      },
      "id": "23ee1e15"
    },
    {
      "cell_type": "code",
      "source": [
        "sample_codes = v2_samples['sample_code'].values"
      ],
      "outputs": [],
      "execution_count": 11,
      "metadata": {
        "gather": {
          "logged": 1712045302902
        }
      },
      "id": "2b98509c"
    },
    {
      "cell_type": "code",
      "source": [
        "if(len(sample_codes) < 5000):\n",
        "    count  = len(sample_codes)\n",
        "    step=count\n",
        "elif(len(sample_codes) < 70000):\n",
        "    count = len(sample_codes)\n",
        "    step=5000\n",
        "else:\n",
        "    count = 70000\n",
        "    step=5000\n",
        "start = 0\n"
      ],
      "outputs": [],
      "execution_count": 12,
      "metadata": {
        "gather": {
          "logged": 1712045306968
        }
      },
      "id": "d515d442"
    },
    {
      "cell_type": "code",
      "source": [
        "count"
      ],
      "outputs": [
        {
          "output_type": "execute_result",
          "execution_count": 13,
          "data": {
            "text/plain": "70000"
          },
          "metadata": {}
        }
      ],
      "execution_count": 13,
      "metadata": {
        "gather": {
          "logged": 1712045308888
        }
      },
      "id": "206ead7a"
    },
    {
      "cell_type": "code",
      "source": [
        "start"
      ],
      "outputs": [
        {
          "output_type": "execute_result",
          "execution_count": 14,
          "data": {
            "text/plain": "0"
          },
          "metadata": {}
        }
      ],
      "execution_count": 14,
      "metadata": {
        "gather": {
          "logged": 1712045309817
        }
      },
      "id": "ddf7868e"
    },
    {
      "cell_type": "code",
      "source": [
        "step"
      ],
      "outputs": [
        {
          "output_type": "execute_result",
          "execution_count": 15,
          "data": {
            "text/plain": "5000"
          },
          "metadata": {}
        }
      ],
      "execution_count": 15,
      "metadata": {
        "gather": {
          "logged": 1712045310729
        }
      },
      "id": "81c135b4"
    },
    {
      "cell_type": "code",
      "source": [
        "spectra = pd.DataFrame()"
      ],
      "outputs": [],
      "execution_count": 16,
      "metadata": {
        "gather": {
          "logged": 1712045316402
        }
      },
      "id": "484911f1"
    },
    {
      "cell_type": "code",
      "source": [
        "def convertSpectra(df):\n",
        "    print(\"Converting spectra\")\n",
        "    df_ = pd.DataFrame([i[[i for i in i.keys()][0]] for i in df['averaged_spectra'].values],columns = np.arange(522,3977,2))\n",
        "    df_.index = df.index\n",
        "    print(\"Spectra converted\")\n",
        "    return df_"
      ],
      "outputs": [],
      "execution_count": 17,
      "metadata": {
        "gather": {
          "logged": 1712045317720
        }
      },
      "id": "8a3d4342"
    },
    {
      "cell_type": "code",
      "source": [
        "for i in np.arange(start, count, step):\n",
        "        \n",
        "    print(\"Fetching spectra from {}\".format(start))\n",
        "    samples = [i for i in sample_codes][start:start+step]\n",
        "    print(len(samples))\n",
        "    query = f\"SELECT spectraldata.metadata_id, spectraldata.averaged_spectra, mandatorymetadata.sample_code FROM spectraldata INNER JOIN mandatorymetadata ON mandatorymetadata.metadata_id = spectraldata.metadata_id WHERE averaged=True AND sample_code IN {str(samples).replace('[','(').replace(']',')')}\"\n",
        "\n",
        "    _ = pd.read_sql(query, con=conn)\n",
        "    print(\"This is the spectra\",_)\n",
        "    spectra = pd.concat([spectra, _], axis=0)\n",
        "    start = start + step\n",
        "    if (count-step) > 5000:\n",
        "        step=5000\n",
        "    else:\n",
        "        step = count-step\n",
        "\n",
        "\n",
        "\n"
      ],
      "outputs": [
        {
          "output_type": "stream",
          "name": "stdout",
          "text": "Fetching spectra from 0\n5000\nThis is the spectra       metadata_id                                   averaged_spectra  \\\n0          187056  {'522': [2.3645274701916428, 2.380267433090121...   \n1          186833  {'522': [2.324679546571156, 2.3247525703442165...   \n2          186966  {'522': [2.397271446121614, 2.4282403701836808...   \n3          187043  {'522': [2.3943149118512363, 2.391047759744343...   \n4          187025  {'522': [2.381931136382427, 2.383939558800457,...   \n...           ...                                                ...   \n6205       161700  {'522': [2.360054879422215, 2.302488578286381,...   \n6206       161726  {'522': [2.400198791126645, 2.4553677734575245...   \n6207       161730  {'522': [2.503719823794537, 2.5818505003199634...   \n6208       161766  {'522': [2.242610077256419, 2.2293044933304005...   \n6209       161777  {'522': [2.32940209441737, 2.2779935330976473,...   \n\n          sample_code  \n0           ML-SS21-1  \n1           ML-SS21-1  \n2           ML-SS21-1  \n3           ML-SS21-1  \n4           ML-SS21-1  \n...               ...  \n6205   FA419-76SA0001  \n6206   FA539-22SA0001  \n6207      CA053SA1351  \n6208  FA807-778SA0003  \n6209  AGD218-99SA0002  \n\n[6210 rows x 3 columns]\nFetching spectra from 5000\n5000\nThis is the spectra        metadata_id                                   averaged_spectra  \\\n0           187056  {'522': [2.3645274701916428, 2.380267433090121...   \n1           187043  {'522': [2.3943149118512363, 2.391047759744343...   \n2           187025  {'522': [2.381931136382427, 2.383939558800457,...   \n3           186987  {'521': [2.243089700678383, 2.1948415943304833...   \n4           186864  {'521': [2.2609804305624883, 2.293829992699927...   \n...            ...                                                ...   \n14483       164602  {'522': [2.2298824581456125, 2.208054997233607...   \n14484       164603  {'522': [2.317334932100927, 2.4456179872900004...   \n14485       164663  {'522': [2.2999282616394963, 2.275109868978545...   \n14486       162082  {'522': [2.383834646840553, 2.3386625738237385...   \n14487       162101  {'522': [2.1605237037498073, 2.182780669867438...   \n\n          sample_code  \n0           ML-SS21-1  \n1           ML-SS21-1  \n2           ML-SS21-1  \n3           ML-SS21-1  \n4           ML-SS21-1  \n...               ...  \n14483  FA539-49SA0003  \n14484  FA537-37SA0004  \n14485  FA539-50SA0001  \n14486     CC004SA0948  \n14487     CC004SA0951  \n\n[14488 rows x 3 columns]\nFetching spectra from 10000\n5000\nThis is the spectra        metadata_id                                   averaged_spectra  \\\n0             8980  {'522': [2.0911822434473404, 2.133567386898148...   \n1            10080  {'522': [2.274885254503441, 2.2319242103001766...   \n2            10047  {'522': [2.278888888660214, 2.297786508344143,...   \n3            13692  {'522': [1.8475415838865055, 1.901551774140139...   \n4            10093  {'522': [2.2795946619414096, 2.273787762387321...   \n...            ...                                                ...   \n16716         9128  {'522': [2.474892988471389, 2.458521552105081,...   \n16717        12810  {'522': [2.0956831689507207, 2.094727540187541...   \n16718        18212  {'522': [2.2584202862218916, 2.326330791219439...   \n16719        14186  {'522': [2.1507286896513693, 2.087713989936583...   \n16720        14188  {'522': [2.33548401557496, 2.3546465759514166,...   \n\n           sample_code  \n0      AGD917-33SA0002  \n1      AGD918-20SA0001  \n2      AGD918-34SA0002  \n3          CB206SA0101  \n4      AGD918-35SA0001  \n...                ...  \n16716   AGD903-37A0001  \n16717      CA330SA2036  \n16718       CC176SA364  \n16719      CB290SA0004  \n16720      CC004SA0531  \n\n[16721 rows x 3 columns]\nFetching spectra from 15000\n5000\nThis is the spectra        metadata_id                                   averaged_spectra  \\\n0           187056  {'522': [2.3645274701916428, 2.380267433090121...   \n1           187043  {'522': [2.3943149118512363, 2.391047759744343...   \n2           187025  {'522': [2.381931136382427, 2.383939558800457,...   \n3           186987  {'521': [2.243089700678383, 2.1948415943304833...   \n4           186864  {'521': [2.2609804305624883, 2.293829992699927...   \n...            ...                                                ...   \n16723       161180  {'522': [2.3265568598179995, 2.264019334904624...   \n16724       161182  {'522': [2.3783419198610103, 2.422783456084052...   \n16725       161392  {'522': [2.33595944594112, 2.3252500220468213,...   \n16726       161208  {'522': [2.317288846451495, 2.3108945112643537...   \n16727       161217  {'522': [2.3213938332848225, 2.414833891653165...   \n\n      sample_code  \n0       ML-SS21-1  \n1       ML-SS21-1  \n2       ML-SS21-1  \n3       ML-SS21-1  \n4       ML-SS21-1  \n...           ...  \n16723   ML-SS21-1  \n16724   ML-SS21-1  \n16725   ML-SS21-1  \n16726   ML-SS21-1  \n16727   ML-SS21-1  \n\n[16728 rows x 3 columns]\nFetching spectra from 20000\n5000\nThis is the spectra        metadata_id                                   averaged_spectra  \\\n0            10047  {'522': [2.278888888660214, 2.297786508344143,...   \n1             8980  {'522': [2.0911822434473404, 2.133567386898148...   \n2            22662  {'522': [2.158945932015736, 2.153889578143777,...   \n3            10093  {'522': [2.2795946619414096, 2.273787762387321...   \n4            10080  {'522': [2.274885254503441, 2.2319242103001766...   \n...            ...                                                ...   \n15799        12716  {'522': [1.8564475686879574, 1.854742154901267...   \n15800        12717  {'522': [2.1063307265074283, 2.086924566123302...   \n15801        12722  {'522': [1.9785948013915613, 1.899323604772779...   \n15802        10445  {'522': [2.06221473662357, 2.1126158842060443,...   \n15803        23042  {'522': [2.2463484911294493, 2.229812334377880...   \n\n           sample_code  \n0      AGD918-34SA0002  \n1      AGD917-33SA0002  \n2          CF177SA1467  \n3      AGD918-35SA0001  \n4      AGD918-20SA0001  \n...                ...  \n15799      CA330SA2039  \n15800      CA330SA2140  \n15801      CA330SA2371  \n15802  AGD917-23SA0001  \n15803      CF177SA3121  \n\n[15804 rows x 3 columns]\nFetching spectra from 25000\n5000\nThis is the spectra       metadata_id                                   averaged_spectra  \\\n0          187056  {'522': [2.3645274701916428, 2.380267433090121...   \n1          187043  {'522': [2.3943149118512363, 2.391047759744343...   \n2          187025  {'522': [2.381931136382427, 2.383939558800457,...   \n3          186987  {'521': [2.243089700678383, 2.1948415943304833...   \n4          186864  {'521': [2.2609804305624883, 2.293829992699927...   \n...           ...                                                ...   \n9376       161735  {'522': [2.359731449123168, 2.4714294774879737...   \n9377       161753  {'522': [2.260372011337533, 2.302202772227119,...   \n9378       161767  {'522': [2.4079214978472976, 2.361045826196156...   \n9379       161773  {'522': [2.278073481381654, 2.288160863047489,...   \n9380       161780  {'522': [2.33516306388488, 2.2543873074679697,...   \n\n          sample_code  \n0           ML-SS21-1  \n1           ML-SS21-1  \n2           ML-SS21-1  \n3           ML-SS21-1  \n4           ML-SS21-1  \n...               ...  \n9376   FA419-86SA0002  \n9377  AGD928-28SA0002  \n9378      CA053SA1409  \n9379  AGD928-28SA0003  \n9380      CA053SA1404  \n\n[9381 rows x 3 columns]\nFetching spectra from 30000\n5000\nThis is the spectra       metadata_id                                   averaged_spectra  \\\n0           95763  {'522': [2.1276560508178157, 2.111848090243860...   \n1          107164  {'522': [2.0718084080978603, 2.029311660335484...   \n2           95749  {'522': [2.150865347248802, 2.194643888298641,...   \n3          107165  {'522': [2.160624560592213, 2.2155427941949903...   \n4          107173  {'522': [2.034654087105735, 2.0495077603451684...   \n...           ...                                                ...   \n5032       161091  {'522': [2.3138144462069095, 2.29630994870248,...   \n5033       161093  {'522': [1.9405733118056636, 1.955378765696380...   \n5034       161094  {'522': [2.081532391008924, 2.044332592554879,...   \n5035       161069  {'522': [2.20023299426236, 2.3282682578031437,...   \n5036       161075  {'522': [2.0011840779884444, 2.048553508212463...   \n\n         sample_code  \n0        CG325SA0008  \n1     I30-1-35SA0035  \n2        CH006SA5417  \n3     I30-1-14SA0329  \n4     I48-1-62SA0001  \n...              ...  \n5032     CK013SA2039  \n5033     CF131SA0921  \n5034     CF131SA0268  \n5035     CH006SA2879  \n5036     CS417SA0046  \n\n[5037 rows x 3 columns]\nFetching spectra from 35000\n5000\nThis is the spectra       metadata_id                                   averaged_spectra  \\\n0          108212  {'522': [2.189539391894658, 2.110054675916684,...   \n1          108481  {'522': [2.213952400982423, 2.2079233961619673...   \n2          108482  {'522': [2.2156362012611166, 2.163811121193387...   \n3          108483  {'522': [2.1485826268196626, 2.157922033484391...   \n4          108484  {'522': [2.4265925637629326, 2.408174292090732...   \n...           ...                                                ...   \n5003       109550  {'522': [2.104335458282711, 2.1083162238587647...   \n5004       109551  {'522': [2.1330684441820997, 2.195063659110987...   \n5005       161092  {'522': [2.0437636452011354, 2.099161232875365...   \n5006       161100  {'522': [2.0924970358907853, 1.884085295381002...   \n5007       161077  {'522': [2.180050505253619, 2.1816515651034107...   \n\n          sample_code  \n0      I30-1-14SA0307  \n1      I30-1-10SA0171  \n2      I30-1-30SA0004  \n3      I30-1-14SA0069  \n4      FA419-31SA0003  \n...               ...  \n5003   I30-1-13SA0069  \n5004   AGD820-6SA0002  \n5005    FA222-9SA0001  \n5006  AGD806-42SA0001  \n5007   I30-1-12SA0065  \n\n[5008 rows x 3 columns]\nFetching spectra from 40000\n5000\nThis is the spectra       metadata_id                                   averaged_spectra  \\\n0          119305  {'522': [2.1636099908177058, 2.141558655219781...   \n1          119302  {'522': [2.306427851914301, 2.3335228032143593...   \n2          119303  {'522': [1.776712558387745, 1.7723418431684412...   \n3          119642  {'522': [2.2046795909905708, 2.217654966860105...   \n4          119301  {'522': [1.953391926426997, 1.9449189164277243...   \n...           ...                                                ...   \n4996       124325  {'522': [2.2723891231604867, 2.286408191276184...   \n4997       124329  {'522': [1.9688415049291201, 1.967748264137951...   \n4998       124330  {'522': [2.0893625491404793, 2.065115638085085...   \n4999       124333  {'522': [2.2017550565237, 2.155568811266905, 2...   \n5000       161088  {'522': [1.9453473671406885, 2.007683530660661...   \n\n      sample_code  \n0     CT214SA0574  \n1     CS331SA0017  \n2     CS436SA0037  \n3     CS158SA0696  \n4     CO126SA0229  \n...           ...  \n4996  CS196SA0314  \n4997  CS387SA0022  \n4998  CO126SA0020  \n4999  CS255SA0017  \n5000  CS341SA0083  \n\n[5001 rows x 3 columns]\nFetching spectra from 45000\n5000\nThis is the spectra       metadata_id                                   averaged_spectra  \\\n0          150635  {'522': [2.0295687282584756, 2.047287084002841...   \n1          150627  {'522': [1.8741000391633091, 1.854811524701267...   \n2          150654  {'522': [2.3090340211786784, 2.367327177415693...   \n3          150637  {'522': [2.3244015368711626, 2.331899248075591...   \n4          150647  {'522': [2.446750161340474, 2.421800730810803,...   \n...           ...                                                ...   \n5014       150230  {'522': [2.203937643723396, 2.181743798081894,...   \n5015       150258  {'522': [2.3186993025290064, 2.342315964791442...   \n5016       150262  {'522': [2.300923779227592, 2.265799927108181,...   \n5017       150267  {'522': [2.3926605717927463, 2.325838212308269...   \n5018       142322  {'522': [2.1747127088662452, 2.178712183597252...   \n\n      sample_code  \n0     CK079SA3435  \n1     CM073SA0783  \n2     CK099SA0755  \n3     CM022SA0185  \n4     CN074SA0363  \n...           ...  \n5014  CM247SA1398  \n5015  CK171SA0070  \n5016  CO027SA1379  \n5017  CK099SA0247  \n5018  CY021SA0107  \n\n[5019 rows x 3 columns]\nFetching spectra from 50000\n5000\nThis is the spectra       metadata_id                                   averaged_spectra  \\\n0          187056  {'522': [2.3645274701916428, 2.380267433090121...   \n1          187043  {'522': [2.3943149118512363, 2.391047759744343...   \n2          187025  {'522': [2.381931136382427, 2.383939558800457,...   \n3          186987  {'521': [2.243089700678383, 2.1948415943304833...   \n4          186864  {'521': [2.2609804305624883, 2.293829992699927...   \n...           ...                                                ...   \n7257       157949  {'522': [2.2904245113643587, 2.269560000775554...   \n7258       157950  {'522': [2.2804741334451686, 2.327073138190691...   \n7259       157956  {'522': [2.138724421162629, 2.1354724121865583...   \n7260       157958  {'522': [2.646072909504797, 2.5305144788018543...   \n7261       157963  {'522': [2.36860419486202, 2.283756521052031, ...   \n\n      sample_code  \n0       ML-SS21-1  \n1       ML-SS21-1  \n2       ML-SS21-1  \n3       ML-SS21-1  \n4       ML-SS21-1  \n...           ...  \n7257  CA588SA0018  \n7258  CE046SA0025  \n7259  CA083SA0046  \n7260  CB049SA0036  \n7261  CA022SA0239  \n\n[7262 rows x 3 columns]\nFetching spectra from 55000\n5000\nThis is the spectra       metadata_id                                   averaged_spectra  \\\n0          187056  {'522': [2.3645274701916428, 2.380267433090121...   \n1          187043  {'522': [2.3943149118512363, 2.391047759744343...   \n2          187025  {'522': [2.381931136382427, 2.383939558800457,...   \n3          186987  {'521': [2.243089700678383, 2.1948415943304833...   \n4          186864  {'521': [2.2609804305624883, 2.293829992699927...   \n...           ...                                                ...   \n5646       164319  {'522': [2.383538390598514, 2.3540228100004694...   \n5647       164320  {'522': [2.3499038815611897, 2.385809615597573...   \n5648       164321  {'522': [2.4153952481349172, 2.341827754143104...   \n5649       164322  {'522': [2.517096230518794, 2.437698961744851,...   \n5650       164323  {'522': [2.310717799019555, 2.357101216642394,...   \n\n          sample_code  \n0           ML-SS21-1  \n1           ML-SS21-1  \n2           ML-SS21-1  \n3           ML-SS21-1  \n4           ML-SS21-1  \n...               ...  \n5646   FA537-96SA0005  \n5647  FA524-274SA0002  \n5648   FA539-40SA0002  \n5649  FA406-196SA0007  \n5650   FA537-93SA0002  \n\n[5651 rows x 3 columns]\nFetching spectra from 60000\n5000\nThis is the spectra       metadata_id                                   averaged_spectra  \\\n0              27  {'522': [2.168894010369754, 2.1714387890354905...   \n1          177310  {'522': [2.4069673682368773, 2.424975993032607...   \n2          177197  {'522': [2.413664708747909, 2.420136196041784,...   \n3          177091  {'521': [2.211498269176012, 2.343988294831539,...   \n4          177145  {'521': [2.4040616420390135, 2.554046932102097...   \n...           ...                                                ...   \n5271       166322  {'522': [2.4388540744492473, 2.399392737899509...   \n5272       166338  {'522': [2.431711745778313, 2.491956221424079,...   \n5273       166368  {'522': [2.3832986618691603, 2.418019421881964...   \n5274       166389  {'522': [2.477091493551886, 2.414741370768122,...   \n5275       166414  {'522': [2.249738603378021, 2.2770500845432853...   \n\n     sample_code  \n0      ML-SS21-8  \n1      ML-SS21-3  \n2      ML-SS21-5  \n3      ML-SS21-5  \n4      ML-SS21-5  \n...          ...  \n5271   ML-SS21-3  \n5272   ML-SS21-3  \n5273   ML-SS21-3  \n5274   ML-SS21-3  \n5275   ML-SS21-3  \n\n[5276 rows x 3 columns]\nFetching spectra from 65000\n5000\nThis is the spectra       metadata_id                                   averaged_spectra  \\\n0          187056  {'522': [2.3645274701916428, 2.380267433090121...   \n1          187043  {'522': [2.3943149118512363, 2.391047759744343...   \n2          187025  {'522': [2.381931136382427, 2.383939558800457,...   \n3          186987  {'521': [2.243089700678383, 2.1948415943304833...   \n4          186864  {'521': [2.2609804305624883, 2.293829992699927...   \n...           ...                                                ...   \n5709       166338  {'522': [2.431711745778313, 2.491956221424079,...   \n5710       166368  {'522': [2.3832986618691603, 2.418019421881964...   \n5711       161316  {'522': [2.388889688560504, 2.3500330274188115...   \n5712       166389  {'522': [2.477091493551886, 2.414741370768122,...   \n5713       166414  {'522': [2.249738603378021, 2.2770500845432853...   \n\n     sample_code  \n0      ML-SS21-1  \n1      ML-SS21-1  \n2      ML-SS21-1  \n3      ML-SS21-1  \n4      ML-SS21-1  \n...          ...  \n5709   ML-SS21-3  \n5710   ML-SS21-3  \n5711   ML-SS21-1  \n5712   ML-SS21-3  \n5713   ML-SS21-3  \n\n[5714 rows x 3 columns]\n"
        },
        {
          "output_type": "stream",
          "name": "stderr",
          "text": "/tmp/ipykernel_5014/1108552379.py:8: UserWarning: pandas only supports SQLAlchemy connectable (engine/connection) or database string URI or sqlite3 DBAPI2 connection. Other DBAPI2 objects are not tested. Please consider using SQLAlchemy.\n  _ = pd.read_sql(query, con=conn)\n/tmp/ipykernel_5014/1108552379.py:8: UserWarning: pandas only supports SQLAlchemy connectable (engine/connection) or database string URI or sqlite3 DBAPI2 connection. Other DBAPI2 objects are not tested. Please consider using SQLAlchemy.\n  _ = pd.read_sql(query, con=conn)\n/tmp/ipykernel_5014/1108552379.py:8: UserWarning: pandas only supports SQLAlchemy connectable (engine/connection) or database string URI or sqlite3 DBAPI2 connection. Other DBAPI2 objects are not tested. Please consider using SQLAlchemy.\n  _ = pd.read_sql(query, con=conn)\n/tmp/ipykernel_5014/1108552379.py:8: UserWarning: pandas only supports SQLAlchemy connectable (engine/connection) or database string URI or sqlite3 DBAPI2 connection. Other DBAPI2 objects are not tested. Please consider using SQLAlchemy.\n  _ = pd.read_sql(query, con=conn)\n/tmp/ipykernel_5014/1108552379.py:8: UserWarning: pandas only supports SQLAlchemy connectable (engine/connection) or database string URI or sqlite3 DBAPI2 connection. Other DBAPI2 objects are not tested. Please consider using SQLAlchemy.\n  _ = pd.read_sql(query, con=conn)\n/tmp/ipykernel_5014/1108552379.py:8: UserWarning: pandas only supports SQLAlchemy connectable (engine/connection) or database string URI or sqlite3 DBAPI2 connection. Other DBAPI2 objects are not tested. Please consider using SQLAlchemy.\n  _ = pd.read_sql(query, con=conn)\n/tmp/ipykernel_5014/1108552379.py:8: UserWarning: pandas only supports SQLAlchemy connectable (engine/connection) or database string URI or sqlite3 DBAPI2 connection. Other DBAPI2 objects are not tested. Please consider using SQLAlchemy.\n  _ = pd.read_sql(query, con=conn)\n/tmp/ipykernel_5014/1108552379.py:8: UserWarning: pandas only supports SQLAlchemy connectable (engine/connection) or database string URI or sqlite3 DBAPI2 connection. Other DBAPI2 objects are not tested. Please consider using SQLAlchemy.\n  _ = pd.read_sql(query, con=conn)\n/tmp/ipykernel_5014/1108552379.py:8: UserWarning: pandas only supports SQLAlchemy connectable (engine/connection) or database string URI or sqlite3 DBAPI2 connection. Other DBAPI2 objects are not tested. Please consider using SQLAlchemy.\n  _ = pd.read_sql(query, con=conn)\n/tmp/ipykernel_5014/1108552379.py:8: UserWarning: pandas only supports SQLAlchemy connectable (engine/connection) or database string URI or sqlite3 DBAPI2 connection. Other DBAPI2 objects are not tested. Please consider using SQLAlchemy.\n  _ = pd.read_sql(query, con=conn)\n/tmp/ipykernel_5014/1108552379.py:8: UserWarning: pandas only supports SQLAlchemy connectable (engine/connection) or database string URI or sqlite3 DBAPI2 connection. Other DBAPI2 objects are not tested. Please consider using SQLAlchemy.\n  _ = pd.read_sql(query, con=conn)\n/tmp/ipykernel_5014/1108552379.py:8: UserWarning: pandas only supports SQLAlchemy connectable (engine/connection) or database string URI or sqlite3 DBAPI2 connection. Other DBAPI2 objects are not tested. Please consider using SQLAlchemy.\n  _ = pd.read_sql(query, con=conn)\n/tmp/ipykernel_5014/1108552379.py:8: UserWarning: pandas only supports SQLAlchemy connectable (engine/connection) or database string URI or sqlite3 DBAPI2 connection. Other DBAPI2 objects are not tested. Please consider using SQLAlchemy.\n  _ = pd.read_sql(query, con=conn)\n/tmp/ipykernel_5014/1108552379.py:8: UserWarning: pandas only supports SQLAlchemy connectable (engine/connection) or database string URI or sqlite3 DBAPI2 connection. Other DBAPI2 objects are not tested. Please consider using SQLAlchemy.\n  _ = pd.read_sql(query, con=conn)\n"
        }
      ],
      "execution_count": 18,
      "metadata": {
        "gather": {
          "logged": 1712046064015
        }
      },
      "id": "a689252d"
    },
    {
      "cell_type": "code",
      "source": [
        "spectra"
      ],
      "outputs": [
        {
          "output_type": "execute_result",
          "execution_count": 19,
          "data": {
            "text/plain": "      metadata_id                                   averaged_spectra  \\\n0          187056  {'522': [2.3645274701916428, 2.380267433090121...   \n1          186833  {'522': [2.324679546571156, 2.3247525703442165...   \n2          186966  {'522': [2.397271446121614, 2.4282403701836808...   \n3          187043  {'522': [2.3943149118512363, 2.391047759744343...   \n4          187025  {'522': [2.381931136382427, 2.383939558800457,...   \n...           ...                                                ...   \n5709       166338  {'522': [2.431711745778313, 2.491956221424079,...   \n5710       166368  {'522': [2.3832986618691603, 2.418019421881964...   \n5711       161316  {'522': [2.388889688560504, 2.3500330274188115...   \n5712       166389  {'522': [2.477091493551886, 2.414741370768122,...   \n5713       166414  {'522': [2.249738603378021, 2.2770500845432853...   \n\n     sample_code  \n0      ML-SS21-1  \n1      ML-SS21-1  \n2      ML-SS21-1  \n3      ML-SS21-1  \n4      ML-SS21-1  \n...          ...  \n5709   ML-SS21-3  \n5710   ML-SS21-3  \n5711   ML-SS21-1  \n5712   ML-SS21-3  \n5713   ML-SS21-3  \n\n[123300 rows x 3 columns]",
            "text/html": "<div>\n<style scoped>\n    .dataframe tbody tr th:only-of-type {\n        vertical-align: middle;\n    }\n\n    .dataframe tbody tr th {\n        vertical-align: top;\n    }\n\n    .dataframe thead th {\n        text-align: right;\n    }\n</style>\n<table border=\"1\" class=\"dataframe\">\n  <thead>\n    <tr style=\"text-align: right;\">\n      <th></th>\n      <th>metadata_id</th>\n      <th>averaged_spectra</th>\n      <th>sample_code</th>\n    </tr>\n  </thead>\n  <tbody>\n    <tr>\n      <th>0</th>\n      <td>187056</td>\n      <td>{'522': [2.3645274701916428, 2.380267433090121...</td>\n      <td>ML-SS21-1</td>\n    </tr>\n    <tr>\n      <th>1</th>\n      <td>186833</td>\n      <td>{'522': [2.324679546571156, 2.3247525703442165...</td>\n      <td>ML-SS21-1</td>\n    </tr>\n    <tr>\n      <th>2</th>\n      <td>186966</td>\n      <td>{'522': [2.397271446121614, 2.4282403701836808...</td>\n      <td>ML-SS21-1</td>\n    </tr>\n    <tr>\n      <th>3</th>\n      <td>187043</td>\n      <td>{'522': [2.3943149118512363, 2.391047759744343...</td>\n      <td>ML-SS21-1</td>\n    </tr>\n    <tr>\n      <th>4</th>\n      <td>187025</td>\n      <td>{'522': [2.381931136382427, 2.383939558800457,...</td>\n      <td>ML-SS21-1</td>\n    </tr>\n    <tr>\n      <th>...</th>\n      <td>...</td>\n      <td>...</td>\n      <td>...</td>\n    </tr>\n    <tr>\n      <th>5709</th>\n      <td>166338</td>\n      <td>{'522': [2.431711745778313, 2.491956221424079,...</td>\n      <td>ML-SS21-3</td>\n    </tr>\n    <tr>\n      <th>5710</th>\n      <td>166368</td>\n      <td>{'522': [2.3832986618691603, 2.418019421881964...</td>\n      <td>ML-SS21-3</td>\n    </tr>\n    <tr>\n      <th>5711</th>\n      <td>161316</td>\n      <td>{'522': [2.388889688560504, 2.3500330274188115...</td>\n      <td>ML-SS21-1</td>\n    </tr>\n    <tr>\n      <th>5712</th>\n      <td>166389</td>\n      <td>{'522': [2.477091493551886, 2.414741370768122,...</td>\n      <td>ML-SS21-3</td>\n    </tr>\n    <tr>\n      <th>5713</th>\n      <td>166414</td>\n      <td>{'522': [2.249738603378021, 2.2770500845432853...</td>\n      <td>ML-SS21-3</td>\n    </tr>\n  </tbody>\n</table>\n<p>123300 rows × 3 columns</p>\n</div>"
          },
          "metadata": {}
        }
      ],
      "execution_count": 19,
      "metadata": {
        "jupyter": {
          "source_hidden": false,
          "outputs_hidden": false
        },
        "nteract": {
          "transient": {
            "deleting": false
          }
        },
        "gather": {
          "logged": 1712046696326
        }
      },
      "id": "30b87fad-7b96-48f6-8ff7-e2a77c309745"
    },
    {
      "cell_type": "code",
      "source": [
        "df_ = spectra.copy(deep=True)"
      ],
      "outputs": [],
      "execution_count": 39,
      "metadata": {
        "jupyter": {
          "source_hidden": false,
          "outputs_hidden": false
        },
        "nteract": {
          "transient": {
            "deleting": false
          }
        },
        "gather": {
          "logged": 1711446510300
        }
      },
      "id": "8337f409-f98c-4602-919d-a5c96c21bc6d"
    },
    {
      "cell_type": "code",
      "source": [
        "df_['spectra'] = df_['averaged_spectra'] + df_['non_averaged_spectra']"
      ],
      "outputs": [],
      "execution_count": 40,
      "metadata": {
        "jupyter": {
          "source_hidden": false,
          "outputs_hidden": false
        },
        "nteract": {
          "transient": {
            "deleting": false
          }
        },
        "gather": {
          "logged": 1711446534958
        }
      },
      "id": "8cfe661f-b205-4115-ade8-ab06ac8bd7c9"
    },
    {
      "cell_type": "code",
      "source": [
        "averaged = df_.loc[df_['non_averaged_spectra'].isna()]\n",
        "not_averaged = df_.loc[df_['averaged_spectra'].isna()]\n",
        "averaged['spectra'] = averaged['averaged_spectra']\n",
        "not_averaged['spectra'] = not_averaged['non_averaged_spectra']\n",
        "df = pd.concat([averaged, not_averaged])\n"
      ],
      "outputs": [
        {
          "output_type": "stream",
          "name": "stderr",
          "text": "/tmp/ipykernel_67100/1084805249.py:3: SettingWithCopyWarning: \nA value is trying to be set on a copy of a slice from a DataFrame.\nTry using .loc[row_indexer,col_indexer] = value instead\n\nSee the caveats in the documentation: https://pandas.pydata.org/pandas-docs/stable/user_guide/indexing.html#returning-a-view-versus-a-copy\n  averaged['spectra'] = averaged['averaged_spectra']\n/tmp/ipykernel_67100/1084805249.py:4: SettingWithCopyWarning: \nA value is trying to be set on a copy of a slice from a DataFrame.\nTry using .loc[row_indexer,col_indexer] = value instead\n\nSee the caveats in the documentation: https://pandas.pydata.org/pandas-docs/stable/user_guide/indexing.html#returning-a-view-versus-a-copy\n  not_averaged['spectra'] = not_averaged['non_averaged_spectra']\n"
        }
      ],
      "execution_count": 47,
      "metadata": {
        "jupyter": {
          "source_hidden": false,
          "outputs_hidden": false
        },
        "nteract": {
          "transient": {
            "deleting": false
          }
        },
        "gather": {
          "logged": 1711446774198
        }
      },
      "id": "629939fd-7969-43a2-822c-55128863465f"
    },
    {
      "cell_type": "code",
      "source": [
        "df"
      ],
      "outputs": [
        {
          "output_type": "execute_result",
          "execution_count": 48,
          "data": {
            "text/plain": "       metadata_id                               non_averaged_spectra  \\\n0           179670                                               None   \n5           179712                                               None   \n6           179754                                               None   \n7           179814                                               None   \n8           179874                                               None   \n...            ...                                                ...   \n18782       174324  {'522': [2.0846219245290767, 2.1293823581819, ...   \n18783       174325  {'522': [2.2313015966713303, 2.22548869635572,...   \n18784       174325  {'522': [2.314154897949655, 2.283712153409843,...   \n18787       174326  {'522': [2.1735385023639964, 2.113213803092161...   \n18788       174326  {'522': [2.112090183204007, 2.0970343307176664...   \n\n                                        averaged_spectra  sample_code  \\\n0      {'521': [2.2655911367057704, 2.273310992571514...    ML-SS21-1   \n5      {'521': [2.2946008508409697, 2.27379168724669,...    ML-SS21-1   \n6      {'521': [2.235812133945057, 2.3084154307617473...    ML-SS21-1   \n7      {'521': [2.3830898348113863, 2.376923259819746...    ML-SS21-1   \n8      {'522': [2.2885870694773565, 2.306158053862360...    ML-SS21-1   \n...                                                  ...          ...   \n18782                                               None  CF177SA4851   \n18783                                               None  CF177SA4847   \n18784                                               None  CF177SA4847   \n18787                                               None  CF177SA4752   \n18788                                               None  CF177SA4752   \n\n                                                 spectra  \n0      {'521': [2.2655911367057704, 2.273310992571514...  \n5      {'521': [2.2946008508409697, 2.27379168724669,...  \n6      {'521': [2.235812133945057, 2.3084154307617473...  \n7      {'521': [2.3830898348113863, 2.376923259819746...  \n8      {'522': [2.2885870694773565, 2.306158053862360...  \n...                                                  ...  \n18782  {'522': [2.0846219245290767, 2.1293823581819, ...  \n18783  {'522': [2.2313015966713303, 2.22548869635572,...  \n18784  {'522': [2.314154897949655, 2.283712153409843,...  \n18787  {'522': [2.1735385023639964, 2.113213803092161...  \n18788  {'522': [2.112090183204007, 2.0970343307176664...  \n\n[378497 rows x 5 columns]",
            "text/html": "<div>\n<style scoped>\n    .dataframe tbody tr th:only-of-type {\n        vertical-align: middle;\n    }\n\n    .dataframe tbody tr th {\n        vertical-align: top;\n    }\n\n    .dataframe thead th {\n        text-align: right;\n    }\n</style>\n<table border=\"1\" class=\"dataframe\">\n  <thead>\n    <tr style=\"text-align: right;\">\n      <th></th>\n      <th>metadata_id</th>\n      <th>non_averaged_spectra</th>\n      <th>averaged_spectra</th>\n      <th>sample_code</th>\n      <th>spectra</th>\n    </tr>\n  </thead>\n  <tbody>\n    <tr>\n      <th>0</th>\n      <td>179670</td>\n      <td>None</td>\n      <td>{'521': [2.2655911367057704, 2.273310992571514...</td>\n      <td>ML-SS21-1</td>\n      <td>{'521': [2.2655911367057704, 2.273310992571514...</td>\n    </tr>\n    <tr>\n      <th>5</th>\n      <td>179712</td>\n      <td>None</td>\n      <td>{'521': [2.2946008508409697, 2.27379168724669,...</td>\n      <td>ML-SS21-1</td>\n      <td>{'521': [2.2946008508409697, 2.27379168724669,...</td>\n    </tr>\n    <tr>\n      <th>6</th>\n      <td>179754</td>\n      <td>None</td>\n      <td>{'521': [2.235812133945057, 2.3084154307617473...</td>\n      <td>ML-SS21-1</td>\n      <td>{'521': [2.235812133945057, 2.3084154307617473...</td>\n    </tr>\n    <tr>\n      <th>7</th>\n      <td>179814</td>\n      <td>None</td>\n      <td>{'521': [2.3830898348113863, 2.376923259819746...</td>\n      <td>ML-SS21-1</td>\n      <td>{'521': [2.3830898348113863, 2.376923259819746...</td>\n    </tr>\n    <tr>\n      <th>8</th>\n      <td>179874</td>\n      <td>None</td>\n      <td>{'522': [2.2885870694773565, 2.306158053862360...</td>\n      <td>ML-SS21-1</td>\n      <td>{'522': [2.2885870694773565, 2.306158053862360...</td>\n    </tr>\n    <tr>\n      <th>...</th>\n      <td>...</td>\n      <td>...</td>\n      <td>...</td>\n      <td>...</td>\n      <td>...</td>\n    </tr>\n    <tr>\n      <th>18782</th>\n      <td>174324</td>\n      <td>{'522': [2.0846219245290767, 2.1293823581819, ...</td>\n      <td>None</td>\n      <td>CF177SA4851</td>\n      <td>{'522': [2.0846219245290767, 2.1293823581819, ...</td>\n    </tr>\n    <tr>\n      <th>18783</th>\n      <td>174325</td>\n      <td>{'522': [2.2313015966713303, 2.22548869635572,...</td>\n      <td>None</td>\n      <td>CF177SA4847</td>\n      <td>{'522': [2.2313015966713303, 2.22548869635572,...</td>\n    </tr>\n    <tr>\n      <th>18784</th>\n      <td>174325</td>\n      <td>{'522': [2.314154897949655, 2.283712153409843,...</td>\n      <td>None</td>\n      <td>CF177SA4847</td>\n      <td>{'522': [2.314154897949655, 2.283712153409843,...</td>\n    </tr>\n    <tr>\n      <th>18787</th>\n      <td>174326</td>\n      <td>{'522': [2.1735385023639964, 2.113213803092161...</td>\n      <td>None</td>\n      <td>CF177SA4752</td>\n      <td>{'522': [2.1735385023639964, 2.113213803092161...</td>\n    </tr>\n    <tr>\n      <th>18788</th>\n      <td>174326</td>\n      <td>{'522': [2.112090183204007, 2.0970343307176664...</td>\n      <td>None</td>\n      <td>CF177SA4752</td>\n      <td>{'522': [2.112090183204007, 2.0970343307176664...</td>\n    </tr>\n  </tbody>\n</table>\n<p>378497 rows × 5 columns</p>\n</div>"
          },
          "metadata": {}
        }
      ],
      "execution_count": 48,
      "metadata": {
        "jupyter": {
          "source_hidden": false,
          "outputs_hidden": false
        },
        "nteract": {
          "transient": {
            "deleting": false
          }
        },
        "gather": {
          "logged": 1711446777336
        }
      },
      "id": "b8937552-025b-457a-bb4f-cb09e353976c"
    },
    {
      "cell_type": "code",
      "source": [
        "conn.close()\n",
        "spectra = df[['sample_code', 'spectra']]\n"
      ],
      "outputs": [],
      "execution_count": 51,
      "metadata": {
        "jupyter": {
          "source_hidden": false,
          "outputs_hidden": false
        },
        "nteract": {
          "transient": {
            "deleting": false
          }
        },
        "gather": {
          "logged": 1711447148051
        }
      },
      "id": "17a3b3b3-2f4a-4fd9-a28a-431d1e17392d"
    },
    {
      "cell_type": "code",
      "source": [
        "spectra = spectra.set_index('sample_code')\n"
      ],
      "outputs": [],
      "execution_count": 52,
      "metadata": {
        "jupyter": {
          "source_hidden": false,
          "outputs_hidden": false
        },
        "nteract": {
          "transient": {
            "deleting": false
          }
        },
        "gather": {
          "logged": 1711447159026
        }
      },
      "id": "9ea05289-87c4-4e22-97fe-fd86a466192e"
    },
    {
      "cell_type": "code",
      "source": [
        "spectra = convertSpectra(spectra)\n",
        "\n",
        "\n",
        "spectra.to_csv(\"./outputFiles/spectraldata.csv\")"
      ],
      "outputs": [
        {
          "output_type": "stream",
          "name": "stdout",
          "text": "Converting spectra\nSpectra converted\n"
        }
      ],
      "execution_count": 20,
      "metadata": {
        "jupyter": {
          "source_hidden": false,
          "outputs_hidden": false
        },
        "nteract": {
          "transient": {
            "deleting": false
          }
        },
        "gather": {
          "logged": 1712047076121
        }
      },
      "id": "663fb4fc-a5eb-4957-8d20-a187424601d3"
    },
    {
      "cell_type": "code",
      "source": [
        "spectra"
      ],
      "outputs": [
        {
          "output_type": "execute_result",
          "execution_count": 21,
          "data": {
            "text/plain": "          522       524       526       528       530       532       534   \\\n0     2.364527  2.380267  2.415282  2.431268  2.441101  2.462991  2.473978   \n1     2.324680  2.324753  2.373763  2.411027  2.402217  2.347667  2.317289   \n2     2.397271  2.428240  2.399225  2.358932  2.332269  2.308703  2.294938   \n3     2.394315  2.391048  2.357433  2.361828  2.380389  2.410625  2.426476   \n4     2.381931  2.383940  2.376204  2.340311  2.348089  2.348603  2.345284   \n...        ...       ...       ...       ...       ...       ...       ...   \n5709  2.431712  2.491956  2.525230  2.497294  2.461680  2.457347  2.479673   \n5710  2.383299  2.418019  2.405626  2.382745  2.379580  2.403409  2.391373   \n5711  2.388890  2.350033  2.309996  2.327226  2.352492  2.330514  2.316581   \n5712  2.477091  2.414741  2.403005  2.449703  2.481381  2.444921  2.382814   \n5713  2.249739  2.277050  2.323580  2.344774  2.365736  2.380376  2.383867   \n\n          536       538       540   ...      3958      3960      3962  \\\n0     2.428879  2.422211  2.447353  ...  1.170164  1.170703  1.170675   \n1     2.338107  2.375101  2.368011  ...  1.149651  1.149604  1.149459   \n2     2.292284  2.298963  2.309691  ...  1.160591  1.160070  1.159524   \n3     2.401460  2.370650  2.361235  ...  1.152852  1.152934  1.152444   \n4     2.341323  2.328165  2.294485  ...  1.159744  1.158565  1.157161   \n...        ...       ...       ...  ...       ...       ...       ...   \n5709  2.508331  2.492839  2.441814  ...  1.129957  1.129489  1.128628   \n5710  2.320085  2.273765  2.275257  ...  1.149114  1.149265  1.149298   \n5711  2.350303  2.387681  2.412264  ...  1.171154  1.170969  1.170589   \n5712  2.372414  2.406186  2.411119  ...  1.161688  1.161186  1.160171   \n5713  2.385747  2.372978  2.342873  ...  1.167203  1.167368  1.167123   \n\n          3964      3966      3968      3970      3972      3974      3976  \n0     1.170313  1.170076  1.169900  1.169492  1.168838  1.168238  1.167781  \n1     1.148917  1.148238  1.147781  1.147594  1.147623  1.147640  1.147664  \n2     1.159550  1.159486  1.158533  1.157588  1.157537  1.157760  1.157822  \n3     1.151799  1.151322  1.150696  1.150411  1.150530  1.150366  1.150150  \n4     1.156499  1.156687  1.156656  1.155951  1.155213  1.154969  1.155184  \n...        ...       ...       ...       ...       ...       ...       ...  \n5709  1.128164  1.128154  1.128244  1.128160  1.127920  1.127710  1.127501  \n5710  1.148614  1.147901  1.148023  1.148273  1.148000  1.147757  1.147768  \n5711  1.170483  1.170664  1.170294  1.169510  1.169155  1.169263  1.169555  \n5712  1.159406  1.159063  1.158751  1.158270  1.157872  1.157729  1.157586  \n5713  1.166785  1.166569  1.166275  1.166020  1.165878  1.165542  1.164923  \n\n[123300 rows x 1728 columns]",
            "text/html": "<div>\n<style scoped>\n    .dataframe tbody tr th:only-of-type {\n        vertical-align: middle;\n    }\n\n    .dataframe tbody tr th {\n        vertical-align: top;\n    }\n\n    .dataframe thead th {\n        text-align: right;\n    }\n</style>\n<table border=\"1\" class=\"dataframe\">\n  <thead>\n    <tr style=\"text-align: right;\">\n      <th></th>\n      <th>522</th>\n      <th>524</th>\n      <th>526</th>\n      <th>528</th>\n      <th>530</th>\n      <th>532</th>\n      <th>534</th>\n      <th>536</th>\n      <th>538</th>\n      <th>540</th>\n      <th>...</th>\n      <th>3958</th>\n      <th>3960</th>\n      <th>3962</th>\n      <th>3964</th>\n      <th>3966</th>\n      <th>3968</th>\n      <th>3970</th>\n      <th>3972</th>\n      <th>3974</th>\n      <th>3976</th>\n    </tr>\n  </thead>\n  <tbody>\n    <tr>\n      <th>0</th>\n      <td>2.364527</td>\n      <td>2.380267</td>\n      <td>2.415282</td>\n      <td>2.431268</td>\n      <td>2.441101</td>\n      <td>2.462991</td>\n      <td>2.473978</td>\n      <td>2.428879</td>\n      <td>2.422211</td>\n      <td>2.447353</td>\n      <td>...</td>\n      <td>1.170164</td>\n      <td>1.170703</td>\n      <td>1.170675</td>\n      <td>1.170313</td>\n      <td>1.170076</td>\n      <td>1.169900</td>\n      <td>1.169492</td>\n      <td>1.168838</td>\n      <td>1.168238</td>\n      <td>1.167781</td>\n    </tr>\n    <tr>\n      <th>1</th>\n      <td>2.324680</td>\n      <td>2.324753</td>\n      <td>2.373763</td>\n      <td>2.411027</td>\n      <td>2.402217</td>\n      <td>2.347667</td>\n      <td>2.317289</td>\n      <td>2.338107</td>\n      <td>2.375101</td>\n      <td>2.368011</td>\n      <td>...</td>\n      <td>1.149651</td>\n      <td>1.149604</td>\n      <td>1.149459</td>\n      <td>1.148917</td>\n      <td>1.148238</td>\n      <td>1.147781</td>\n      <td>1.147594</td>\n      <td>1.147623</td>\n      <td>1.147640</td>\n      <td>1.147664</td>\n    </tr>\n    <tr>\n      <th>2</th>\n      <td>2.397271</td>\n      <td>2.428240</td>\n      <td>2.399225</td>\n      <td>2.358932</td>\n      <td>2.332269</td>\n      <td>2.308703</td>\n      <td>2.294938</td>\n      <td>2.292284</td>\n      <td>2.298963</td>\n      <td>2.309691</td>\n      <td>...</td>\n      <td>1.160591</td>\n      <td>1.160070</td>\n      <td>1.159524</td>\n      <td>1.159550</td>\n      <td>1.159486</td>\n      <td>1.158533</td>\n      <td>1.157588</td>\n      <td>1.157537</td>\n      <td>1.157760</td>\n      <td>1.157822</td>\n    </tr>\n    <tr>\n      <th>3</th>\n      <td>2.394315</td>\n      <td>2.391048</td>\n      <td>2.357433</td>\n      <td>2.361828</td>\n      <td>2.380389</td>\n      <td>2.410625</td>\n      <td>2.426476</td>\n      <td>2.401460</td>\n      <td>2.370650</td>\n      <td>2.361235</td>\n      <td>...</td>\n      <td>1.152852</td>\n      <td>1.152934</td>\n      <td>1.152444</td>\n      <td>1.151799</td>\n      <td>1.151322</td>\n      <td>1.150696</td>\n      <td>1.150411</td>\n      <td>1.150530</td>\n      <td>1.150366</td>\n      <td>1.150150</td>\n    </tr>\n    <tr>\n      <th>4</th>\n      <td>2.381931</td>\n      <td>2.383940</td>\n      <td>2.376204</td>\n      <td>2.340311</td>\n      <td>2.348089</td>\n      <td>2.348603</td>\n      <td>2.345284</td>\n      <td>2.341323</td>\n      <td>2.328165</td>\n      <td>2.294485</td>\n      <td>...</td>\n      <td>1.159744</td>\n      <td>1.158565</td>\n      <td>1.157161</td>\n      <td>1.156499</td>\n      <td>1.156687</td>\n      <td>1.156656</td>\n      <td>1.155951</td>\n      <td>1.155213</td>\n      <td>1.154969</td>\n      <td>1.155184</td>\n    </tr>\n    <tr>\n      <th>...</th>\n      <td>...</td>\n      <td>...</td>\n      <td>...</td>\n      <td>...</td>\n      <td>...</td>\n      <td>...</td>\n      <td>...</td>\n      <td>...</td>\n      <td>...</td>\n      <td>...</td>\n      <td>...</td>\n      <td>...</td>\n      <td>...</td>\n      <td>...</td>\n      <td>...</td>\n      <td>...</td>\n      <td>...</td>\n      <td>...</td>\n      <td>...</td>\n      <td>...</td>\n      <td>...</td>\n    </tr>\n    <tr>\n      <th>5709</th>\n      <td>2.431712</td>\n      <td>2.491956</td>\n      <td>2.525230</td>\n      <td>2.497294</td>\n      <td>2.461680</td>\n      <td>2.457347</td>\n      <td>2.479673</td>\n      <td>2.508331</td>\n      <td>2.492839</td>\n      <td>2.441814</td>\n      <td>...</td>\n      <td>1.129957</td>\n      <td>1.129489</td>\n      <td>1.128628</td>\n      <td>1.128164</td>\n      <td>1.128154</td>\n      <td>1.128244</td>\n      <td>1.128160</td>\n      <td>1.127920</td>\n      <td>1.127710</td>\n      <td>1.127501</td>\n    </tr>\n    <tr>\n      <th>5710</th>\n      <td>2.383299</td>\n      <td>2.418019</td>\n      <td>2.405626</td>\n      <td>2.382745</td>\n      <td>2.379580</td>\n      <td>2.403409</td>\n      <td>2.391373</td>\n      <td>2.320085</td>\n      <td>2.273765</td>\n      <td>2.275257</td>\n      <td>...</td>\n      <td>1.149114</td>\n      <td>1.149265</td>\n      <td>1.149298</td>\n      <td>1.148614</td>\n      <td>1.147901</td>\n      <td>1.148023</td>\n      <td>1.148273</td>\n      <td>1.148000</td>\n      <td>1.147757</td>\n      <td>1.147768</td>\n    </tr>\n    <tr>\n      <th>5711</th>\n      <td>2.388890</td>\n      <td>2.350033</td>\n      <td>2.309996</td>\n      <td>2.327226</td>\n      <td>2.352492</td>\n      <td>2.330514</td>\n      <td>2.316581</td>\n      <td>2.350303</td>\n      <td>2.387681</td>\n      <td>2.412264</td>\n      <td>...</td>\n      <td>1.171154</td>\n      <td>1.170969</td>\n      <td>1.170589</td>\n      <td>1.170483</td>\n      <td>1.170664</td>\n      <td>1.170294</td>\n      <td>1.169510</td>\n      <td>1.169155</td>\n      <td>1.169263</td>\n      <td>1.169555</td>\n    </tr>\n    <tr>\n      <th>5712</th>\n      <td>2.477091</td>\n      <td>2.414741</td>\n      <td>2.403005</td>\n      <td>2.449703</td>\n      <td>2.481381</td>\n      <td>2.444921</td>\n      <td>2.382814</td>\n      <td>2.372414</td>\n      <td>2.406186</td>\n      <td>2.411119</td>\n      <td>...</td>\n      <td>1.161688</td>\n      <td>1.161186</td>\n      <td>1.160171</td>\n      <td>1.159406</td>\n      <td>1.159063</td>\n      <td>1.158751</td>\n      <td>1.158270</td>\n      <td>1.157872</td>\n      <td>1.157729</td>\n      <td>1.157586</td>\n    </tr>\n    <tr>\n      <th>5713</th>\n      <td>2.249739</td>\n      <td>2.277050</td>\n      <td>2.323580</td>\n      <td>2.344774</td>\n      <td>2.365736</td>\n      <td>2.380376</td>\n      <td>2.383867</td>\n      <td>2.385747</td>\n      <td>2.372978</td>\n      <td>2.342873</td>\n      <td>...</td>\n      <td>1.167203</td>\n      <td>1.167368</td>\n      <td>1.167123</td>\n      <td>1.166785</td>\n      <td>1.166569</td>\n      <td>1.166275</td>\n      <td>1.166020</td>\n      <td>1.165878</td>\n      <td>1.165542</td>\n      <td>1.164923</td>\n    </tr>\n  </tbody>\n</table>\n<p>123300 rows × 1728 columns</p>\n</div>"
          },
          "metadata": {}
        }
      ],
      "execution_count": 21,
      "metadata": {
        "gather": {
          "logged": 1712047890734
        }
      },
      "id": "14372e1f"
    },
    {
      "cell_type": "code",
      "source": [
        "import pandas as pd\n",
        "spectra= pd.read_csv(\"outputFiles/spectraldata.csv\",usecols=[0])\n",
        "len(spectra)"
      ],
      "outputs": [
        {
          "output_type": "execute_result",
          "execution_count": 22,
          "data": {
            "text/plain": "123300"
          },
          "metadata": {}
        }
      ],
      "execution_count": 22,
      "metadata": {
        "jupyter": {
          "source_hidden": false,
          "outputs_hidden": false
        },
        "nteract": {
          "transient": {
            "deleting": false
          }
        },
        "gather": {
          "logged": 1712047949849
        }
      },
      "id": "b17e770f-eb4a-465e-a5cb-986f0bcbb71f"
    },
    {
      "cell_type": "code",
      "source": [],
      "outputs": [],
      "execution_count": null,
      "metadata": {
        "jupyter": {
          "source_hidden": false,
          "outputs_hidden": false
        },
        "nteract": {
          "transient": {
            "deleting": false
          }
        }
      },
      "id": "75714a92-8429-4eac-8d60-e9a693f9f1ef"
    }
  ],
  "metadata": {
    "kernelspec": {
      "name": "python3",
      "language": "python",
      "display_name": "Python 3 (ipykernel)"
    },
    "language_info": {
      "name": "python",
      "version": "3.8.5",
      "mimetype": "text/x-python",
      "codemirror_mode": {
        "name": "ipython",
        "version": 3
      },
      "pygments_lexer": "ipython3",
      "nbconvert_exporter": "python",
      "file_extension": ".py"
    },
    "microsoft": {
      "ms_spell_check": {
        "ms_spell_check_language": "en"
      },
      "host": {
        "AzureML": {
          "notebookHasBeenCompleted": true
        }
      }
    },
    "kernel_info": {
      "name": "python3"
    },
    "nteract": {
      "version": "nteract-front-end@1.0.0"
    }
  },
  "nbformat": 4,
  "nbformat_minor": 5
}