{
  "cells": [
    {
      "cell_type": "code",
      "source": [
        "import sys\n",
        "sys.path.append(\"/anaconda/envs/azureml_py38/lib/python3.8/site-packages\")"
      ],
      "outputs": [],
      "execution_count": 1,
      "metadata": {
        "jupyter": {
          "source_hidden": false,
          "outputs_hidden": false
        },
        "nteract": {
          "transient": {
            "deleting": false
          }
        },
        "gather": {
          "logged": 1711426061659
        }
      },
      "id": "6beb0086-ce54-4f2e-8686-855cf8d44351"
    },
    {
      "cell_type": "code",
      "source": [
        "import psycopg2\n",
        "import pandas as pd\n",
        "import numpy as np"
      ],
      "outputs": [],
      "execution_count": 2,
      "metadata": {
        "gather": {
          "logged": 1711426065546
        }
      },
      "id": "05c8b820"
    },
    {
      "cell_type": "code",
      "source": [
        "def get_db_cursor():\n",
        "    username = \"doadmin\"\n",
        "    password = 'yzmodwh2oh16iks6'\n",
        "    host = 'db-postgresql-cl1-do-user-2276924-0.db.ondigitalocean.com'\n",
        "    port = 25060\n",
        "    database = 'MandatoryMetadata'\n",
        "    schema = 'historical'\n",
        "\n",
        "    conn = psycopg2.connect(host=host, database=database,\n",
        "                            user=username, password=password, port=port)\n",
        "    cur = conn.cursor()\n",
        "    cur.execute(\"SET search_path TO \" + schema)\n",
        "\n",
        "    return conn, cur"
      ],
      "outputs": [],
      "execution_count": 3,
      "metadata": {
        "gather": {
          "logged": 1711426065709
        }
      },
      "id": "134f6606"
    },
    {
      "cell_type": "code",
      "source": [
        "conn, cur = get_db_cursor()\n"
      ],
      "outputs": [],
      "execution_count": 4,
      "metadata": {
        "gather": {
          "logged": 1711426067236
        }
      },
      "id": "80fe80bc"
    },
    {
      "cell_type": "code",
      "source": [
        "v1_samples = pd.read_csv('./outputFiles/spectra.csv',usecols=[0])"
      ],
      "outputs": [],
      "execution_count": 6,
      "metadata": {
        "gather": {
          "logged": 1711426114646
        }
      },
      "id": "ab602cbb"
    },
    {
      "cell_type": "code",
      "source": [
        "v1_samples"
      ],
      "outputs": [
        {
          "output_type": "execute_result",
          "execution_count": 7,
          "data": {
            "text/plain": "             Unnamed: 0\n0      AGD207-408SA0706\n1      AGD207-431SA0001\n2      AGD207-431SA0002\n3      AGD207-431SA0003\n4      AGD207-431SA0004\n...                 ...\n87362       CW017SA7164\n87363       CW017SA7167\n87364       CW017SA7168\n87365       CW104SA0052\n87366       CW104SA0053\n\n[87367 rows x 1 columns]",
            "text/html": "<div>\n<style scoped>\n    .dataframe tbody tr th:only-of-type {\n        vertical-align: middle;\n    }\n\n    .dataframe tbody tr th {\n        vertical-align: top;\n    }\n\n    .dataframe thead th {\n        text-align: right;\n    }\n</style>\n<table border=\"1\" class=\"dataframe\">\n  <thead>\n    <tr style=\"text-align: right;\">\n      <th></th>\n      <th>Unnamed: 0</th>\n    </tr>\n  </thead>\n  <tbody>\n    <tr>\n      <th>0</th>\n      <td>AGD207-408SA0706</td>\n    </tr>\n    <tr>\n      <th>1</th>\n      <td>AGD207-431SA0001</td>\n    </tr>\n    <tr>\n      <th>2</th>\n      <td>AGD207-431SA0002</td>\n    </tr>\n    <tr>\n      <th>3</th>\n      <td>AGD207-431SA0003</td>\n    </tr>\n    <tr>\n      <th>4</th>\n      <td>AGD207-431SA0004</td>\n    </tr>\n    <tr>\n      <th>...</th>\n      <td>...</td>\n    </tr>\n    <tr>\n      <th>87362</th>\n      <td>CW017SA7164</td>\n    </tr>\n    <tr>\n      <th>87363</th>\n      <td>CW017SA7167</td>\n    </tr>\n    <tr>\n      <th>87364</th>\n      <td>CW017SA7168</td>\n    </tr>\n    <tr>\n      <th>87365</th>\n      <td>CW104SA0052</td>\n    </tr>\n    <tr>\n      <th>87366</th>\n      <td>CW104SA0053</td>\n    </tr>\n  </tbody>\n</table>\n<p>87367 rows × 1 columns</p>\n</div>"
          },
          "metadata": {}
        }
      ],
      "execution_count": 7,
      "metadata": {
        "gather": {
          "logged": 1711426114926
        }
      },
      "id": "7c690208"
    },
    {
      "cell_type": "code",
      "source": [
        "v2_samples = pd.read_sql('select sample_code from MandatoryMetadata', con = conn)"
      ],
      "outputs": [
        {
          "output_type": "stream",
          "name": "stderr",
          "text": "/tmp/ipykernel_4146/2923516565.py:1: UserWarning: pandas only supports SQLAlchemy connectable (engine/connection) or database string URI or sqlite3 DBAPI2 connection. Other DBAPI2 objects are not tested. Please consider using SQLAlchemy.\n  v2_samples = pd.read_sql('select sample_code from MandatoryMetadata', con = conn)\n"
        }
      ],
      "execution_count": 8,
      "metadata": {
        "gather": {
          "logged": 1711426115904
        }
      },
      "id": "15da9f47"
    },
    {
      "cell_type": "code",
      "source": [
        "v2_samples"
      ],
      "outputs": [
        {
          "output_type": "execute_result",
          "execution_count": 9,
          "data": {
            "text/plain": "        sample_code\n0         ML-SS21-2\n1         ML-SS21-2\n2         ML-SS21-2\n3         ML-SS21-2\n4         ML-SS21-2\n...             ...\n185415  CA053SA1584\n185416  CM754SA0017\n185417  CA053SA1597\n185418  CE445SA0001\n185419  CT021SA2589\n\n[185420 rows x 1 columns]",
            "text/html": "<div>\n<style scoped>\n    .dataframe tbody tr th:only-of-type {\n        vertical-align: middle;\n    }\n\n    .dataframe tbody tr th {\n        vertical-align: top;\n    }\n\n    .dataframe thead th {\n        text-align: right;\n    }\n</style>\n<table border=\"1\" class=\"dataframe\">\n  <thead>\n    <tr style=\"text-align: right;\">\n      <th></th>\n      <th>sample_code</th>\n    </tr>\n  </thead>\n  <tbody>\n    <tr>\n      <th>0</th>\n      <td>ML-SS21-2</td>\n    </tr>\n    <tr>\n      <th>1</th>\n      <td>ML-SS21-2</td>\n    </tr>\n    <tr>\n      <th>2</th>\n      <td>ML-SS21-2</td>\n    </tr>\n    <tr>\n      <th>3</th>\n      <td>ML-SS21-2</td>\n    </tr>\n    <tr>\n      <th>4</th>\n      <td>ML-SS21-2</td>\n    </tr>\n    <tr>\n      <th>...</th>\n      <td>...</td>\n    </tr>\n    <tr>\n      <th>185415</th>\n      <td>CA053SA1584</td>\n    </tr>\n    <tr>\n      <th>185416</th>\n      <td>CM754SA0017</td>\n    </tr>\n    <tr>\n      <th>185417</th>\n      <td>CA053SA1597</td>\n    </tr>\n    <tr>\n      <th>185418</th>\n      <td>CE445SA0001</td>\n    </tr>\n    <tr>\n      <th>185419</th>\n      <td>CT021SA2589</td>\n    </tr>\n  </tbody>\n</table>\n<p>185420 rows × 1 columns</p>\n</div>"
          },
          "metadata": {}
        }
      ],
      "execution_count": 9,
      "metadata": {
        "gather": {
          "logged": 1711426116038
        }
      },
      "id": "ed3fd350"
    },
    {
      "cell_type": "code",
      "source": [
        "v2_samples = v2_samples.loc[~v2_samples['sample_code'].isin(v1_samples['Unnamed: 0'])]"
      ],
      "outputs": [],
      "execution_count": 10,
      "metadata": {
        "gather": {
          "logged": 1711426116167
        }
      },
      "id": "6df30d07"
    },
    {
      "cell_type": "code",
      "source": [
        "v2_samples"
      ],
      "outputs": [
        {
          "output_type": "execute_result",
          "execution_count": 11,
          "data": {
            "text/plain": "        sample_code\n0         ML-SS21-2\n1         ML-SS21-2\n2         ML-SS21-2\n3         ML-SS21-2\n4         ML-SS21-2\n...             ...\n185415  CA053SA1584\n185416  CM754SA0017\n185417  CA053SA1597\n185418  CE445SA0001\n185419  CT021SA2589\n\n[76868 rows x 1 columns]",
            "text/html": "<div>\n<style scoped>\n    .dataframe tbody tr th:only-of-type {\n        vertical-align: middle;\n    }\n\n    .dataframe tbody tr th {\n        vertical-align: top;\n    }\n\n    .dataframe thead th {\n        text-align: right;\n    }\n</style>\n<table border=\"1\" class=\"dataframe\">\n  <thead>\n    <tr style=\"text-align: right;\">\n      <th></th>\n      <th>sample_code</th>\n    </tr>\n  </thead>\n  <tbody>\n    <tr>\n      <th>0</th>\n      <td>ML-SS21-2</td>\n    </tr>\n    <tr>\n      <th>1</th>\n      <td>ML-SS21-2</td>\n    </tr>\n    <tr>\n      <th>2</th>\n      <td>ML-SS21-2</td>\n    </tr>\n    <tr>\n      <th>3</th>\n      <td>ML-SS21-2</td>\n    </tr>\n    <tr>\n      <th>4</th>\n      <td>ML-SS21-2</td>\n    </tr>\n    <tr>\n      <th>...</th>\n      <td>...</td>\n    </tr>\n    <tr>\n      <th>185415</th>\n      <td>CA053SA1584</td>\n    </tr>\n    <tr>\n      <th>185416</th>\n      <td>CM754SA0017</td>\n    </tr>\n    <tr>\n      <th>185417</th>\n      <td>CA053SA1597</td>\n    </tr>\n    <tr>\n      <th>185418</th>\n      <td>CE445SA0001</td>\n    </tr>\n    <tr>\n      <th>185419</th>\n      <td>CT021SA2589</td>\n    </tr>\n  </tbody>\n</table>\n<p>76868 rows × 1 columns</p>\n</div>"
          },
          "metadata": {}
        }
      ],
      "execution_count": 11,
      "metadata": {
        "gather": {
          "logged": 1711426116305
        }
      },
      "id": "23ee1e15"
    },
    {
      "cell_type": "code",
      "source": [
        "sample_codes = v2_samples['sample_code'].values"
      ],
      "outputs": [],
      "execution_count": 12,
      "metadata": {
        "gather": {
          "logged": 1711426116440
        }
      },
      "id": "2b98509c"
    },
    {
      "cell_type": "code",
      "source": [
        "if(len(sample_codes) < 5000):\n",
        "    count  = len(sample_codes)\n",
        "    step=count\n",
        "elif(len(sample_codes) < 70000):\n",
        "    count = len(sample_codes)\n",
        "    step=5000\n",
        "else:\n",
        "    count = 70000\n",
        "    step=5000\n",
        "start = 0\n"
      ],
      "outputs": [],
      "execution_count": 13,
      "metadata": {
        "gather": {
          "logged": 1711426116557
        }
      },
      "id": "d515d442"
    },
    {
      "cell_type": "code",
      "source": [
        "count"
      ],
      "outputs": [
        {
          "output_type": "execute_result",
          "execution_count": 14,
          "data": {
            "text/plain": "70000"
          },
          "metadata": {}
        }
      ],
      "execution_count": 14,
      "metadata": {
        "gather": {
          "logged": 1711426116710
        }
      },
      "id": "206ead7a"
    },
    {
      "cell_type": "code",
      "source": [
        "start"
      ],
      "outputs": [
        {
          "output_type": "execute_result",
          "execution_count": 15,
          "data": {
            "text/plain": "0"
          },
          "metadata": {}
        }
      ],
      "execution_count": 15,
      "metadata": {
        "gather": {
          "logged": 1711426116860
        }
      },
      "id": "ddf7868e"
    },
    {
      "cell_type": "code",
      "source": [
        "step"
      ],
      "outputs": [
        {
          "output_type": "execute_result",
          "execution_count": 16,
          "data": {
            "text/plain": "5000"
          },
          "metadata": {}
        }
      ],
      "execution_count": 16,
      "metadata": {
        "gather": {
          "logged": 1711426117007
        }
      },
      "id": "81c135b4"
    },
    {
      "cell_type": "code",
      "source": [
        "spectra = pd.DataFrame()"
      ],
      "outputs": [],
      "execution_count": 17,
      "metadata": {
        "gather": {
          "logged": 1711426117141
        }
      },
      "id": "484911f1"
    },
    {
      "cell_type": "code",
      "source": [
        "def convertSpectra(df):\n",
        "    print(\"Converting spectra\")\n",
        "    df_ = pd.DataFrame([i[[i for i in i.keys()][0]] for i in df['averaged_spectra'].values],columns = np.arange(522,3977,2))\n",
        "    df_.index = df.index\n",
        "    print(\"Spectra converted\")\n",
        "    return df_"
      ],
      "outputs": [],
      "execution_count": 18,
      "metadata": {
        "gather": {
          "logged": 1711426117401
        }
      },
      "id": "8a3d4342"
    },
    {
      "cell_type": "code",
      "source": [
        "for i in np.arange(start, count, step):\n",
        "        \n",
        "    print(\"Fetching spectra from {}\".format(start))\n",
        "    samples = [i for i in sample_codes][start:start+step]\n",
        "    print(len(samples))\n",
        "    query = f\"SELECT spectraldata.metadata_id, averaged_spectra, mandatorymetadata.sample_code  FROM spectraldata INNER JOIN mandatorymetadata ON mandatorymetadata.metadata_id = spectraldata.metadata_id WHERE is_finalized=True AND passed=True AND is_active=True AND averaged=True AND sample_code IN {str(samples).replace('[','(').replace(']',')')}\"\n",
        "\n",
        "    _ = pd.read_sql(query, con=conn)\n",
        "    print(\"This is the spectra\",_)\n",
        "    spectra = pd.concat([spectra, _], axis=0)\n",
        "    start = start + step\n",
        "    if (count-step) > 5000:\n",
        "        step=5000\n",
        "    else:\n",
        "        step = count-step\n",
        "\n",
        "conn.close()\n",
        "spectra = spectra[['sample_code', 'averaged_spectra']]\n",
        "spectra = spectra.set_index('sample_code')\n",
        "spectra = convertSpectra(spectra)\n",
        "\n",
        "\n",
        "spectra.to_csv(\"./outputFiles/spectraldata.csv\")\n",
        "\n"
      ],
      "outputs": [
        {
          "output_type": "stream",
          "name": "stdout",
          "text": "Fetching spectra from 0\n5000\nThis is the spectra       metadata_id                                   averaged_spectra  \\\n0            3394  {'522': [2.152443884558668, 2.1388348361128093...   \n1              17  {'522': [2.3243741634120374, 2.307540485180485...   \n2              19  {'522': [2.2630152586026915, 2.290110779246487...   \n3              47  {'522': [2.3843932844687363, 2.491238662094451...   \n4            3311  {'522': [2.241984739726626, 2.1906742432163697...   \n...           ...                                                ...   \n4124       164706  {'522': [2.342822785838603, 2.3137618983017196...   \n4125       181381  {'522': [2.273500591540199, 2.289040267833519,...   \n4126       181387  {'522': [2.584770864487254, 2.487291039760919,...   \n4127       181389  {'522': [2.393617302652631, 2.4448304558125797...   \n4128       181390  {'522': [2.351067529303632, 2.365038585784037,...   \n\n         sample_code  \n0        CK013SA1874  \n1        CS006SA0042  \n2     FA419-51SA0016  \n3        CB278SA0008  \n4        CC176SA5749  \n...              ...  \n4124  FA809-39SA0001  \n4125     CK517SA0006  \n4126     CK517SA0005  \n4127     CK517SA0004  \n4128     CK517SA0001  \n\n[4129 rows x 3 columns]\nFetching spectra from 5000\n5000\nThis is the spectra       metadata_id                                   averaged_spectra  \\\n0            9678  {'522': [1.927769621678208, 1.925405071237877,...   \n1           10060  {'522': [2.205620243316738, 2.180918444365819,...   \n2           10061  {'522': [2.214397613050674, 2.225897847224749,...   \n3           10062  {'522': [2.3232044802759146, 2.266412198474394...   \n4           10044  {'522': [2.221995948069573, 2.21779990795695, ...   \n...           ...                                                ...   \n3859       164567  {'522': [2.2824159061184344, 2.286736339427943...   \n3860       164584  {'522': [2.3505878022379356, 2.348984197063309...   \n3861       164590  {'522': [2.185686959922438, 2.2294406911065163...   \n3862       164602  {'522': [2.2298824581456125, 2.208054997233607...   \n3863       164663  {'522': [2.2999282616394963, 2.275109868978545...   \n\n           sample_code  \n0       I30-1-31SA0008  \n1          CH006SA5573  \n2          CS103SA0717  \n3     AGD517-108SA0002  \n4          CH006SA5618  \n...                ...  \n3859    FA538-32SA0001  \n3860    FA539-47SA0001  \n3861    FA538-27SA0001  \n3862    FA539-49SA0003  \n3863    FA539-50SA0001  \n\n[3864 rows x 3 columns]\nFetching spectra from 10000\n5000\nThis is the spectra       metadata_id                                   averaged_spectra  \\\n0           66526  {'522': [1.8834612566487339, 1.886456636644108...   \n1           70222  {'522': [2.3843249304016605, 2.380336073318609...   \n2           80279  {'522': [2.6218711771561694, 2.711017621140423...   \n3           66480  {'522': [2.1454910293459, 2.068398930076431, 2...   \n4           66482  {'522': [2.17815573586479, 2.134713537301854, ...   \n...           ...                                                ...   \n3888        79863  {'522': [2.2269134180792975, 2.251605527867832...   \n3889        79864  {'522': [2.429338327331431, 2.4090423257788287...   \n3890        79875  {'522': [2.257758000754111, 2.291146791690083,...   \n3891        79877  {'522': [2.284768592608608, 2.2759214807676216...   \n3892        79893  {'522': [2.2327010815716117, 2.265595042486357...   \n\n      sample_code  \n0     CH006SA4400  \n1     CI016SA3834  \n2     CC131SA0235  \n3     CH006SA4493  \n4     CH006SA4393  \n...           ...  \n3888  CC068SA0520  \n3889  CC068SA0545  \n3890  CC068SA0550  \n3891  CC068SA0561  \n3892  CC068SA0562  \n\n[3893 rows x 3 columns]\nFetching spectra from 15000\n5000\nThis is the spectra       metadata_id                                   averaged_spectra  \\\n0           66510  {'522': [2.02811296681273, 1.9577667412102304,...   \n1           70222  {'522': [2.3843249304016605, 2.380336073318609...   \n2           66480  {'522': [2.1454910293459, 2.068398930076431, 2...   \n3           66482  {'522': [2.17815573586479, 2.134713537301854, ...   \n4           66519  {'522': [2.193043455887586, 2.1621662015049967...   \n...           ...                                                ...   \n4056        79875  {'522': [2.257758000754111, 2.291146791690083,...   \n4057        79877  {'522': [2.284768592608608, 2.2759214807676216...   \n4058        79884  {'522': [2.3102922771354315, 2.276120470272876...   \n4059       164989  {'522': [2.32026264331045, 2.3049437360926963,...   \n4060       161257  {'522': [2.201674855097738, 2.179971810903216,...   \n\n        sample_code  \n0       CH006SA4474  \n1       CI016SA3834  \n2       CH006SA4493  \n3       CH006SA4393  \n4       CH006SA4450  \n...             ...  \n4056    CC068SA0550  \n4057    CC068SA0561  \n4058    CC068SA0575  \n4059  FA329-8SA0001  \n4060    CF177SA3596  \n\n[4061 rows x 3 columns]\nFetching spectra from 20000\n5000\nThis is the spectra       metadata_id                                   averaged_spectra  \\\n0           66510  {'522': [2.02811296681273, 1.9577667412102304,...   \n1           66480  {'522': [2.1454910293459, 2.068398930076431, 2...   \n2           66482  {'522': [2.17815573586479, 2.134713537301854, ...   \n3           66519  {'522': [2.193043455887586, 2.1621662015049967...   \n4           66522  {'522': [2.1316791533121795, 2.000136808674984...   \n...           ...                                                ...   \n4143        82515  {'522': [2.452869753540792, 2.4326419825158783...   \n4144        82516  {'522': [1.8577873025080782, 1.946028350831674...   \n4145        82526  {'522': [2.517618768795172, 2.4237894596865477...   \n4146        82558  {'522': [1.8455417268841376, 1.871598636166559...   \n4147        82588  {'522': [2.0093301973279183, 1.980641446421403...   \n\n      sample_code  \n0     CH006SA4474  \n1     CH006SA4493  \n2     CH006SA4393  \n3     CH006SA4450  \n4     CH006SA4511  \n...           ...  \n4143  CC176SA5747  \n4144   CC176SA377  \n4145  CC176SA5740  \n4146  CC176SA3178  \n4147  CC176SA5741  \n\n[4148 rows x 3 columns]\nFetching spectra from 25000\n5000\nThis is the spectra       metadata_id                                   averaged_spectra  \\\n0           85786  {'522': [2.535267511678853, 2.595476646005183,...   \n1           85772  {'522': [1.9007603059931637, 1.948197615387478...   \n2           85778  {'522': [2.28541727201782, 2.2087836495486055,...   \n3           85789  {'522': [2.3429209326131826, 2.382619233323375...   \n4           86100  {'522': [2.291845555162393, 2.296533246652396,...   \n...           ...                                                ...   \n3428       164518  {'522': [2.29812682910934, 2.3349551374730595,...   \n3429       164519  {'522': [2.213814964796482, 2.179310053155311,...   \n3430       164712  {'522': [2.4038497581402023, 2.423477627142354...   \n3431       164692  {'522': [2.384992359889115, 2.346826330511328,...   \n3432       164713  {'522': [2.371926954970501, 2.421221605322841,...   \n\n         sample_code  \n0        CE357SA0846  \n1        CK013SA1539  \n2        CH006SA5388  \n3        CS158SA0566  \n4        CS597SA0001  \n...              ...  \n3428  FA419-45SA0003  \n3429  FA419-85SA0001  \n3430  FA912-41SA0001  \n3431  FA539-52SA0002  \n3432   FA926-1SA0001  \n\n[3433 rows x 3 columns]\nFetching spectra from 30000\n5000\nThis is the spectra       metadata_id                                   averaged_spectra  \\\n0          107160  {'522': [1.9547160018846539, 1.983529438960184...   \n1          107158  {'522': [2.3111737718971295, 2.382890145174427...   \n2          107159  {'522': [2.156821212289217, 2.169557206878203,...   \n3          107161  {'522': [1.9902686161539531, 1.961168875656618...   \n4          107170  {'522': [2.275012451584521, 2.265162089949595,...   \n...           ...                                                ...   \n3591       107139  {'522': [2.420848448505933, 2.432744909228643,...   \n3592       107146  {'522': [2.243553857004941, 2.3131113848510494...   \n3593       107151  {'522': [2.0674830246210045, 2.081847348175832...   \n3594       161094  {'522': [2.081532391008924, 2.044332592554879,...   \n3595       161069  {'522': [2.20023299426236, 2.3282682578031437,...   \n\n         sample_code  \n0     I38-1-43SA0012  \n1     I30-1-36SA0028  \n2     I38-1-13SA0061  \n3     I30-1-24SA0008  \n4     FA419-35SA0002  \n...              ...  \n3591     CJ030SA5320  \n3592  FA807-66SA0002  \n3593     CH006SA4285  \n3594     CF131SA0268  \n3595     CH006SA2879  \n\n[3596 rows x 3 columns]\nFetching spectra from 35000\n5000\nThis is the spectra       metadata_id                                   averaged_spectra  \\\n0          108193  {'522': [1.9412762261551668, 1.931799168692976...   \n1          108481  {'522': [2.213952400982423, 2.2079233961619673...   \n2          108483  {'522': [2.1485826268196626, 2.157922033484391...   \n3          108484  {'522': [2.4265925637629326, 2.408174292090732...   \n4          108485  {'522': [1.945060412024369, 1.9306223663312543...   \n...           ...                                                ...   \n3734       115514  {'522': [2.485428207136856, 2.480887473401089,...   \n3735       115539  {'522': [2.194074561239491, 2.1869345175254766...   \n3736       111386  {'522': [2.371795108530755, 2.338723259718541,...   \n3737       111387  {'522': [2.332584037611671, 2.2651399690636507...   \n3738       161077  {'522': [2.180050505253619, 2.1816515651034107...   \n\n          sample_code  \n0      I30-1-12SA0087  \n1      I30-1-10SA0171  \n2      I30-1-14SA0069  \n3      FA419-31SA0003  \n4      I30-1-20SA0013  \n...               ...  \n3734  FA324-732SA0002  \n3735  FA616-444SA0001  \n3736    FA109-2SA0001  \n3737    FA806-5SA0001  \n3738   I30-1-12SA0065  \n\n[3739 rows x 3 columns]\nFetching spectra from 40000\n5000\nThis is the spectra       metadata_id                                   averaged_spectra  \\\n0          119642  {'522': [2.2046795909905708, 2.217654966860105...   \n1          119301  {'522': [1.953391926426997, 1.9449189164277243...   \n2          119317  {'522': [2.22370498383736, 2.231404666709866, ...   \n3          119307  {'522': [2.3843210389184835, 2.406631583938609...   \n4          119318  {'522': [2.23347743520713, 2.2191966022934526,...   \n...           ...                                                ...   \n3698       131839  {'522': [1.8486387821314754, 1.832751857868039...   \n3699       131872  {'522': [2.258234317057904, 2.279292625480984,...   \n3700       131880  {'522': [2.451056311760339, 2.3153578536604975...   \n3701       131883  {'522': [2.532092190712908, 2.4573469236850656...   \n3702       131884  {'522': [2.4006311240894966, 2.416095185067676...   \n\n      sample_code  \n0     CS158SA0696  \n1     CO126SA0229  \n2     CT042SA7116  \n3     CS146SA0133  \n4     CS340SA0004  \n...           ...  \n3698  CK352SA0684  \n3699  CM068SA0039  \n3700  CO027SA3785  \n3701  CK099SA0466  \n3702  CK099SA0432  \n\n[3703 rows x 3 columns]\nFetching spectra from 45000\n5000\nThis is the spectra       metadata_id                                   averaged_spectra  \\\n0          150647  {'522': [2.446750161340474, 2.421800730810803,...   \n1          150637  {'522': [2.3244015368711626, 2.331899248075591...   \n2          150658  {'522': [2.2181230343478187, 2.09921826140939,...   \n3          150654  {'522': [2.3090340211786784, 2.367327177415693...   \n4          150664  {'522': [2.141869907994555, 2.1914835617444517...   \n...           ...                                                ...   \n3830       150569  {'522': [2.422530717016623, 2.4296900303835463...   \n3831       150573  {'522': [2.348804435961078, 2.469599823571247,...   \n3832       150589  {'522': [2.241141925171868, 2.229770752940004,...   \n3833       150591  {'522': [2.3445000651077654, 2.329508075847456...   \n3834       150611  {'522': [2.2346107264939077, 2.26436857017197,...   \n\n      sample_code  \n0     CN074SA0363  \n1     CM022SA0185  \n2     CK352SA1650  \n3     CK099SA0755  \n4     CM693SA0190  \n...           ...  \n3830  CK099SA0743  \n3831  CO027SA2113  \n3832  CN314SA0005  \n3833  CK495SA0001  \n3834  CK099SA0241  \n\n[3835 rows x 3 columns]\nFetching spectra from 50000\n5000\nThis is the spectra       metadata_id                                   averaged_spectra  \\\n0          154164  {'522': [2.0104202360548267, 1.981999401419639...   \n1          167972  {'522': [2.3290586480436613, 2.290006588877727...   \n2          154165  {'522': [2.288639410630995, 2.3660046272854016...   \n3          154053  {'522': [2.3211737039185234, 2.339109326571447...   \n4          154051  {'522': [2.142114440837158, 2.139087686080701,...   \n...           ...                                                ...   \n4310       163256  {'521': [2.2857856200508904, 2.265582940280912...   \n4311       163262  {'521': [2.2020469272047443, 2.194807391219000...   \n4312       163263  {'521': [2.2924409501857337, 2.251040072160946...   \n4313       163264  {'521': [2.3939052225659676, 2.375022344767187...   \n4314       163265  {'521': [2.200578590261006, 2.2128436843215464...   \n\n      sample_code  \n0     CM693SA0184  \n1     CK013SA2214  \n2     CM247SA0038  \n3     CO027SA1702  \n4     CN074SA1564  \n...           ...  \n4310  CI112SA1574  \n4311  CI112SA1564  \n4312  CJ441SA0042  \n4313  CI112SA1479  \n4314  CI112SA1401  \n\n[4315 rows x 3 columns]\nFetching spectra from 55000\n5000\nThis is the spectra       metadata_id                                   averaged_spectra  \\\n0          166646  {'522': [2.2657016301100743, 2.300698771342198...   \n1          166647  {'522': [2.3278448143849726, 2.248211608578594...   \n2          166429  {'522': [2.2435300085118577, 2.238293542821445...   \n3          166430  {'522': [2.3291886211780755, 2.329718194177455...   \n4          166431  {'522': [2.264120063327164, 2.233131213318482,...   \n...           ...                                                ...   \n3907       166367  {'522': [2.365168917358984, 2.413963738562138,...   \n3908       166409  {'522': [2.283813863204471, 2.3075538425049205...   \n3909       166410  {'522': [2.3530392626345105, 2.351563729181086...   \n3910       166411  {'522': [2.592178092078873, 2.585046414559575,...   \n3911       166412  {'522': [2.3788438912743652, 2.490984243916541...   \n\n          sample_code  \n0         CC176SA6206  \n1         CM034SA0712  \n2         CA631SA0009  \n3         CA631SA0002  \n4         CA631SA0006  \n...               ...  \n3907      CC248SA0056  \n3908  AGD917-64SA0001  \n3909      CC029SA1544  \n3910      CA053SA1462  \n3911      CA053SA1461  \n\n[3912 rows x 3 columns]\nFetching spectra from 60000\n5000\nThis is the spectra       metadata_id                                   averaged_spectra  \\\n0          169432  {'522': [2.4187893970400793, 2.417939955891207...   \n1          169431  {'522': [2.3702275384975087, 2.359823732420010...   \n2          169262  {'522': [2.3542653244033804, 2.310922037203222...   \n3          169434  {'522': [2.362285884344652, 2.292703742862818,...   \n4          169435  {'522': [2.4025259186548062, 2.362204511802847...   \n...           ...                                                ...   \n4546       172175  {'521': [2.2043349597306117, 2.238836162244238...   \n4547       172176  {'521': [2.0939485393083883, 2.099652582562198...   \n4548       172177  {'521': [2.224752306353264, 2.1672231773153223...   \n4549       173202  {'522': [2.3720274144911793, 2.41392215824324,...   \n4550       173203  {'522': [2.1532567045346047, 2.184432758272259...   \n\n      sample_code  \n0     FA539SA0028  \n1     CK022SA1029  \n2     CK013SA2318  \n3     FA222SA0011  \n4     CE006SA2485  \n...           ...  \n4546  CW015SA0226  \n4547  CW015SA0228  \n4548  CW015SA0229  \n4549  CC029SA1562  \n4550  CF177SA4614  \n\n[4551 rows x 3 columns]\nFetching spectra from 65000\n5000\nThis is the spectra       metadata_id                                   averaged_spectra  \\\n0          174627  {'521': [2.4135124224144717, 2.347217717464731...   \n1          174628  {'521': [2.3707205646004628, 2.415098669532812...   \n2          174629  {'521': [2.249546231072642, 2.1762613959957475...   \n3          174292  {'522': [2.4384822095952883, 2.529917286495978...   \n4          174307  {'522': [2.2848620324610183, 2.249236521181385...   \n...           ...                                                ...   \n3375       174301  {'522': [2.399368033707865, 2.430010439336283,...   \n3376       174302  {'522': [2.240064713568949, 2.2329802057639974...   \n3377       174303  {'522': [2.2476213139219086, 2.259108562312652...   \n3378       174304  {'522': [2.3979908369049605, 2.408627544863172...   \n3379       174305  {'522': [2.2464124296584282, 2.217575016581038...   \n\n      sample_code  \n0     CJ030SA5662  \n1     CS365SA0075  \n2     AGD97SA0013  \n3     CO163SA0001  \n4     CF177SA4758  \n...           ...  \n3375  FA807SA0107  \n3376  CK559SA0001  \n3377  CM790SA0002  \n3378  FA539SA0077  \n3379  CM790SA0001  \n\n[3380 rows x 3 columns]\nConverting spectra\nSpectra converted\n"
        },
        {
          "output_type": "stream",
          "name": "stderr",
          "text": "/tmp/ipykernel_4146/3563983685.py:8: UserWarning: pandas only supports SQLAlchemy connectable (engine/connection) or database string URI or sqlite3 DBAPI2 connection. Other DBAPI2 objects are not tested. Please consider using SQLAlchemy.\n  _ = pd.read_sql(query, con=conn)\n/tmp/ipykernel_4146/3563983685.py:8: UserWarning: pandas only supports SQLAlchemy connectable (engine/connection) or database string URI or sqlite3 DBAPI2 connection. Other DBAPI2 objects are not tested. Please consider using SQLAlchemy.\n  _ = pd.read_sql(query, con=conn)\n/tmp/ipykernel_4146/3563983685.py:8: UserWarning: pandas only supports SQLAlchemy connectable (engine/connection) or database string URI or sqlite3 DBAPI2 connection. Other DBAPI2 objects are not tested. Please consider using SQLAlchemy.\n  _ = pd.read_sql(query, con=conn)\n/tmp/ipykernel_4146/3563983685.py:8: UserWarning: pandas only supports SQLAlchemy connectable (engine/connection) or database string URI or sqlite3 DBAPI2 connection. Other DBAPI2 objects are not tested. Please consider using SQLAlchemy.\n  _ = pd.read_sql(query, con=conn)\n/tmp/ipykernel_4146/3563983685.py:8: UserWarning: pandas only supports SQLAlchemy connectable (engine/connection) or database string URI or sqlite3 DBAPI2 connection. Other DBAPI2 objects are not tested. Please consider using SQLAlchemy.\n  _ = pd.read_sql(query, con=conn)\n/tmp/ipykernel_4146/3563983685.py:8: UserWarning: pandas only supports SQLAlchemy connectable (engine/connection) or database string URI or sqlite3 DBAPI2 connection. Other DBAPI2 objects are not tested. Please consider using SQLAlchemy.\n  _ = pd.read_sql(query, con=conn)\n/tmp/ipykernel_4146/3563983685.py:8: UserWarning: pandas only supports SQLAlchemy connectable (engine/connection) or database string URI or sqlite3 DBAPI2 connection. Other DBAPI2 objects are not tested. Please consider using SQLAlchemy.\n  _ = pd.read_sql(query, con=conn)\n/tmp/ipykernel_4146/3563983685.py:8: UserWarning: pandas only supports SQLAlchemy connectable (engine/connection) or database string URI or sqlite3 DBAPI2 connection. Other DBAPI2 objects are not tested. Please consider using SQLAlchemy.\n  _ = pd.read_sql(query, con=conn)\n/tmp/ipykernel_4146/3563983685.py:8: UserWarning: pandas only supports SQLAlchemy connectable (engine/connection) or database string URI or sqlite3 DBAPI2 connection. Other DBAPI2 objects are not tested. Please consider using SQLAlchemy.\n  _ = pd.read_sql(query, con=conn)\n/tmp/ipykernel_4146/3563983685.py:8: UserWarning: pandas only supports SQLAlchemy connectable (engine/connection) or database string URI or sqlite3 DBAPI2 connection. Other DBAPI2 objects are not tested. Please consider using SQLAlchemy.\n  _ = pd.read_sql(query, con=conn)\n/tmp/ipykernel_4146/3563983685.py:8: UserWarning: pandas only supports SQLAlchemy connectable (engine/connection) or database string URI or sqlite3 DBAPI2 connection. Other DBAPI2 objects are not tested. Please consider using SQLAlchemy.\n  _ = pd.read_sql(query, con=conn)\n/tmp/ipykernel_4146/3563983685.py:8: UserWarning: pandas only supports SQLAlchemy connectable (engine/connection) or database string URI or sqlite3 DBAPI2 connection. Other DBAPI2 objects are not tested. Please consider using SQLAlchemy.\n  _ = pd.read_sql(query, con=conn)\n/tmp/ipykernel_4146/3563983685.py:8: UserWarning: pandas only supports SQLAlchemy connectable (engine/connection) or database string URI or sqlite3 DBAPI2 connection. Other DBAPI2 objects are not tested. Please consider using SQLAlchemy.\n  _ = pd.read_sql(query, con=conn)\n/tmp/ipykernel_4146/3563983685.py:8: UserWarning: pandas only supports SQLAlchemy connectable (engine/connection) or database string URI or sqlite3 DBAPI2 connection. Other DBAPI2 objects are not tested. Please consider using SQLAlchemy.\n  _ = pd.read_sql(query, con=conn)\n"
        }
      ],
      "execution_count": 19,
      "metadata": {
        "gather": {
          "logged": 1711426068447
        }
      },
      "id": "a689252d"
    },
    {
      "cell_type": "code",
      "source": [],
      "outputs": [],
      "execution_count": null,
      "metadata": {},
      "id": "14372e1f"
    }
  ],
  "metadata": {
    "kernelspec": {
      "name": "python3",
      "language": "python",
      "display_name": "Python 3 (ipykernel)"
    },
    "language_info": {
      "name": "python",
      "version": "3.8.5",
      "mimetype": "text/x-python",
      "codemirror_mode": {
        "name": "ipython",
        "version": 3
      },
      "pygments_lexer": "ipython3",
      "nbconvert_exporter": "python",
      "file_extension": ".py"
    },
    "microsoft": {
      "ms_spell_check": {
        "ms_spell_check_language": "en"
      }
    },
    "kernel_info": {
      "name": "python3"
    },
    "nteract": {
      "version": "nteract-front-end@1.0.0"
    }
  },
  "nbformat": 4,
  "nbformat_minor": 5
}