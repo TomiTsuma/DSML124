{
  "cells": [
    {
      "cell_type": "code",
      "source": [
        "import sys\n",
        "sys.path.append(\"/anaconda/envs/azureml_py38/lib/python3.8/site-packages\")"
      ],
      "outputs": [],
      "execution_count": 20,
      "metadata": {
        "jupyter": {
          "source_hidden": false,
          "outputs_hidden": false
        },
        "nteract": {
          "transient": {
            "deleting": false
          }
        },
        "gather": {
          "logged": 1711441428534
        }
      },
      "id": "6beb0086-ce54-4f2e-8686-855cf8d44351"
    },
    {
      "cell_type": "code",
      "source": [
        "import psycopg2\n",
        "import pandas as pd\n",
        "import numpy as np"
      ],
      "outputs": [],
      "execution_count": 21,
      "metadata": {
        "gather": {
          "logged": 1711441428826
        }
      },
      "id": "05c8b820"
    },
    {
      "cell_type": "code",
      "source": [
        "def get_db_cursor():\n",
        "    username = \"doadmin\"\n",
        "    password = 'yzmodwh2oh16iks6'\n",
        "    host = 'db-postgresql-cl1-do-user-2276924-0.db.ondigitalocean.com'\n",
        "    port = 25060\n",
        "    database = 'MandatoryMetadata'\n",
        "    schema = 'historical'\n",
        "\n",
        "    conn = psycopg2.connect(host=host, database=database,\n",
        "                            user=username, password=password, port=port)\n",
        "    cur = conn.cursor()\n",
        "    cur.execute(\"SET search_path TO \" + schema)\n",
        "\n",
        "    return conn, cur"
      ],
      "outputs": [],
      "execution_count": 22,
      "metadata": {
        "gather": {
          "logged": 1711441429098
        }
      },
      "id": "134f6606"
    },
    {
      "cell_type": "code",
      "source": [
        "conn, cur = get_db_cursor()\n"
      ],
      "outputs": [],
      "execution_count": 23,
      "metadata": {
        "gather": {
          "logged": 1711441431142
        }
      },
      "id": "80fe80bc"
    },
    {
      "cell_type": "code",
      "source": [
        "v1_samples = pd.read_csv('./outputFiles/spectra.csv',usecols=[0])"
      ],
      "outputs": [],
      "execution_count": 24,
      "metadata": {
        "gather": {
          "logged": 1711441467285
        }
      },
      "id": "ab602cbb"
    },
    {
      "cell_type": "code",
      "source": [
        "v1_samples"
      ],
      "outputs": [
        {
          "output_type": "execute_result",
          "execution_count": 25,
          "data": {
            "text/plain": "             Unnamed: 0\n0      AGD207-408SA0706\n1      AGD207-431SA0001\n2      AGD207-431SA0002\n3      AGD207-431SA0003\n4      AGD207-431SA0004\n...                 ...\n87362       CW017SA7164\n87363       CW017SA7167\n87364       CW017SA7168\n87365       CW104SA0052\n87366       CW104SA0053\n\n[87367 rows x 1 columns]",
            "text/html": "<div>\n<style scoped>\n    .dataframe tbody tr th:only-of-type {\n        vertical-align: middle;\n    }\n\n    .dataframe tbody tr th {\n        vertical-align: top;\n    }\n\n    .dataframe thead th {\n        text-align: right;\n    }\n</style>\n<table border=\"1\" class=\"dataframe\">\n  <thead>\n    <tr style=\"text-align: right;\">\n      <th></th>\n      <th>Unnamed: 0</th>\n    </tr>\n  </thead>\n  <tbody>\n    <tr>\n      <th>0</th>\n      <td>AGD207-408SA0706</td>\n    </tr>\n    <tr>\n      <th>1</th>\n      <td>AGD207-431SA0001</td>\n    </tr>\n    <tr>\n      <th>2</th>\n      <td>AGD207-431SA0002</td>\n    </tr>\n    <tr>\n      <th>3</th>\n      <td>AGD207-431SA0003</td>\n    </tr>\n    <tr>\n      <th>4</th>\n      <td>AGD207-431SA0004</td>\n    </tr>\n    <tr>\n      <th>...</th>\n      <td>...</td>\n    </tr>\n    <tr>\n      <th>87362</th>\n      <td>CW017SA7164</td>\n    </tr>\n    <tr>\n      <th>87363</th>\n      <td>CW017SA7167</td>\n    </tr>\n    <tr>\n      <th>87364</th>\n      <td>CW017SA7168</td>\n    </tr>\n    <tr>\n      <th>87365</th>\n      <td>CW104SA0052</td>\n    </tr>\n    <tr>\n      <th>87366</th>\n      <td>CW104SA0053</td>\n    </tr>\n  </tbody>\n</table>\n<p>87367 rows × 1 columns</p>\n</div>"
          },
          "metadata": {}
        }
      ],
      "execution_count": 25,
      "metadata": {
        "gather": {
          "logged": 1711441467409
        }
      },
      "id": "7c690208"
    },
    {
      "cell_type": "code",
      "source": [
        "v2_samples = pd.read_sql('select sample_code from MandatoryMetadata', con = conn)"
      ],
      "outputs": [
        {
          "output_type": "stream",
          "name": "stderr",
          "text": "/tmp/ipykernel_67100/2923516565.py:1: UserWarning: pandas only supports SQLAlchemy connectable (engine/connection) or database string URI or sqlite3 DBAPI2 connection. Other DBAPI2 objects are not tested. Please consider using SQLAlchemy.\n  v2_samples = pd.read_sql('select sample_code from MandatoryMetadata', con = conn)\n"
        }
      ],
      "execution_count": 26,
      "metadata": {
        "gather": {
          "logged": 1711441468760
        }
      },
      "id": "15da9f47"
    },
    {
      "cell_type": "code",
      "source": [
        "v2_samples"
      ],
      "outputs": [
        {
          "output_type": "execute_result",
          "execution_count": 27,
          "data": {
            "text/plain": "        sample_code\n0         ML-SS21-2\n1         ML-SS21-2\n2         ML-SS21-2\n3         ML-SS21-2\n4         ML-SS21-2\n...             ...\n185458  CT021SA2596\n185459  CM754SA0025\n185460  CD359SA0001\n185461  CE178SA0067\n185462  CY002SA1605\n\n[185463 rows x 1 columns]",
            "text/html": "<div>\n<style scoped>\n    .dataframe tbody tr th:only-of-type {\n        vertical-align: middle;\n    }\n\n    .dataframe tbody tr th {\n        vertical-align: top;\n    }\n\n    .dataframe thead th {\n        text-align: right;\n    }\n</style>\n<table border=\"1\" class=\"dataframe\">\n  <thead>\n    <tr style=\"text-align: right;\">\n      <th></th>\n      <th>sample_code</th>\n    </tr>\n  </thead>\n  <tbody>\n    <tr>\n      <th>0</th>\n      <td>ML-SS21-2</td>\n    </tr>\n    <tr>\n      <th>1</th>\n      <td>ML-SS21-2</td>\n    </tr>\n    <tr>\n      <th>2</th>\n      <td>ML-SS21-2</td>\n    </tr>\n    <tr>\n      <th>3</th>\n      <td>ML-SS21-2</td>\n    </tr>\n    <tr>\n      <th>4</th>\n      <td>ML-SS21-2</td>\n    </tr>\n    <tr>\n      <th>...</th>\n      <td>...</td>\n    </tr>\n    <tr>\n      <th>185458</th>\n      <td>CT021SA2596</td>\n    </tr>\n    <tr>\n      <th>185459</th>\n      <td>CM754SA0025</td>\n    </tr>\n    <tr>\n      <th>185460</th>\n      <td>CD359SA0001</td>\n    </tr>\n    <tr>\n      <th>185461</th>\n      <td>CE178SA0067</td>\n    </tr>\n    <tr>\n      <th>185462</th>\n      <td>CY002SA1605</td>\n    </tr>\n  </tbody>\n</table>\n<p>185463 rows × 1 columns</p>\n</div>"
          },
          "metadata": {}
        }
      ],
      "execution_count": 27,
      "metadata": {
        "gather": {
          "logged": 1711441468900
        }
      },
      "id": "ed3fd350"
    },
    {
      "cell_type": "code",
      "source": [
        "v2_samples = v2_samples.loc[~v2_samples['sample_code'].isin(v1_samples['Unnamed: 0'])]"
      ],
      "outputs": [],
      "execution_count": 28,
      "metadata": {
        "gather": {
          "logged": 1711441469031
        }
      },
      "id": "6df30d07"
    },
    {
      "cell_type": "code",
      "source": [
        "v2_samples"
      ],
      "outputs": [
        {
          "output_type": "execute_result",
          "execution_count": 29,
          "data": {
            "text/plain": "        sample_code\n0         ML-SS21-2\n1         ML-SS21-2\n2         ML-SS21-2\n3         ML-SS21-2\n4         ML-SS21-2\n...             ...\n185458  CT021SA2596\n185459  CM754SA0025\n185460  CD359SA0001\n185461  CE178SA0067\n185462  CY002SA1605\n\n[76911 rows x 1 columns]",
            "text/html": "<div>\n<style scoped>\n    .dataframe tbody tr th:only-of-type {\n        vertical-align: middle;\n    }\n\n    .dataframe tbody tr th {\n        vertical-align: top;\n    }\n\n    .dataframe thead th {\n        text-align: right;\n    }\n</style>\n<table border=\"1\" class=\"dataframe\">\n  <thead>\n    <tr style=\"text-align: right;\">\n      <th></th>\n      <th>sample_code</th>\n    </tr>\n  </thead>\n  <tbody>\n    <tr>\n      <th>0</th>\n      <td>ML-SS21-2</td>\n    </tr>\n    <tr>\n      <th>1</th>\n      <td>ML-SS21-2</td>\n    </tr>\n    <tr>\n      <th>2</th>\n      <td>ML-SS21-2</td>\n    </tr>\n    <tr>\n      <th>3</th>\n      <td>ML-SS21-2</td>\n    </tr>\n    <tr>\n      <th>4</th>\n      <td>ML-SS21-2</td>\n    </tr>\n    <tr>\n      <th>...</th>\n      <td>...</td>\n    </tr>\n    <tr>\n      <th>185458</th>\n      <td>CT021SA2596</td>\n    </tr>\n    <tr>\n      <th>185459</th>\n      <td>CM754SA0025</td>\n    </tr>\n    <tr>\n      <th>185460</th>\n      <td>CD359SA0001</td>\n    </tr>\n    <tr>\n      <th>185461</th>\n      <td>CE178SA0067</td>\n    </tr>\n    <tr>\n      <th>185462</th>\n      <td>CY002SA1605</td>\n    </tr>\n  </tbody>\n</table>\n<p>76911 rows × 1 columns</p>\n</div>"
          },
          "metadata": {}
        }
      ],
      "execution_count": 29,
      "metadata": {
        "gather": {
          "logged": 1711441469178
        }
      },
      "id": "23ee1e15"
    },
    {
      "cell_type": "code",
      "source": [
        "sample_codes = v2_samples['sample_code'].values"
      ],
      "outputs": [],
      "execution_count": 30,
      "metadata": {
        "gather": {
          "logged": 1711441469318
        }
      },
      "id": "2b98509c"
    },
    {
      "cell_type": "code",
      "source": [
        "if(len(sample_codes) < 5000):\n",
        "    count  = len(sample_codes)\n",
        "    step=count\n",
        "elif(len(sample_codes) < 70000):\n",
        "    count = len(sample_codes)\n",
        "    step=5000\n",
        "else:\n",
        "    count = 70000\n",
        "    step=5000\n",
        "start = 0\n"
      ],
      "outputs": [],
      "execution_count": 31,
      "metadata": {
        "gather": {
          "logged": 1711441469438
        }
      },
      "id": "d515d442"
    },
    {
      "cell_type": "code",
      "source": [
        "count"
      ],
      "outputs": [
        {
          "output_type": "execute_result",
          "execution_count": 32,
          "data": {
            "text/plain": "70000"
          },
          "metadata": {}
        }
      ],
      "execution_count": 32,
      "metadata": {
        "gather": {
          "logged": 1711441469570
        }
      },
      "id": "206ead7a"
    },
    {
      "cell_type": "code",
      "source": [
        "start"
      ],
      "outputs": [
        {
          "output_type": "execute_result",
          "execution_count": 33,
          "data": {
            "text/plain": "0"
          },
          "metadata": {}
        }
      ],
      "execution_count": 33,
      "metadata": {
        "gather": {
          "logged": 1711441469719
        }
      },
      "id": "ddf7868e"
    },
    {
      "cell_type": "code",
      "source": [
        "step"
      ],
      "outputs": [
        {
          "output_type": "execute_result",
          "execution_count": 34,
          "data": {
            "text/plain": "5000"
          },
          "metadata": {}
        }
      ],
      "execution_count": 34,
      "metadata": {
        "gather": {
          "logged": 1711441469865
        }
      },
      "id": "81c135b4"
    },
    {
      "cell_type": "code",
      "source": [
        "spectra = pd.DataFrame()"
      ],
      "outputs": [],
      "execution_count": 35,
      "metadata": {
        "gather": {
          "logged": 1711441470001
        }
      },
      "id": "484911f1"
    },
    {
      "cell_type": "code",
      "source": [
        "def convertSpectra(df):\n",
        "    print(\"Converting spectra\")\n",
        "    df_ = pd.DataFrame([i[[i for i in i.keys()][0]] for i in df['spectra'].values],columns = np.arange(522,3977,2))\n",
        "    df_.index = df.index\n",
        "    print(\"Spectra converted\")\n",
        "    return df_"
      ],
      "outputs": [],
      "execution_count": 54,
      "metadata": {
        "gather": {
          "logged": 1711447210504
        }
      },
      "id": "8a3d4342"
    },
    {
      "cell_type": "code",
      "source": [
        "for i in np.arange(start, count, step):\n",
        "        \n",
        "    print(\"Fetching spectra from {}\".format(start))\n",
        "    samples = [i for i in sample_codes][start:start+step]\n",
        "    print(len(samples))\n",
        "    query = f\"SELECT spectraldata.metadata_id, spectraldata.non_averaged_spectra, spectraldata.averaged_spectra, mandatorymetadata.sample_code FROM spectraldata INNER JOIN mandatorymetadata ON mandatorymetadata.metadata_id = spectraldata.metadata_id WHERE sample_code IN {str(samples).replace('[','(').replace(']',')')}\"\n",
        "\n",
        "    _ = pd.read_sql(query, con=conn)\n",
        "    print(\"This is the spectra\",_)\n",
        "    spectra = pd.concat([spectra, _], axis=0)\n",
        "    start = start + step\n",
        "    if (count-step) > 5000:\n",
        "        step=5000\n",
        "    else:\n",
        "        step = count-step\n",
        "\n",
        "\n",
        "\n"
      ],
      "outputs": [
        {
          "output_type": "stream",
          "name": "stdout",
          "text": "Fetching spectra from 0\n5000\nThis is the spectra        metadata_id                               non_averaged_spectra  \\\n0           179670                                               None   \n1           179670  {'521': [2.3906581683078625, 2.38097433499155,...   \n2           179670  {'521': [2.1405241051036783, 2.165647650151477...   \n3           179670  {'513': [0.0088157016990374, 0.00958802969112,...   \n4           179670  {'513': [0.0088157016990374, 0.00958802969112,...   \n...            ...                                                ...   \n19536       162600  {'522': [2.227432254754312, 2.223466791121651,...   \n19537       162602                                               None   \n19538       162602  {'522': [2.226552353462885, 2.21668459943883, ...   \n19539       162602  {'522': [2.380440041123865, 2.3974703465638414...   \n19540       162603                                               None   \n\n                                        averaged_spectra  sample_code  \n0      {'521': [2.2655911367057704, 2.273310992571514...    ML-SS21-1  \n1                                                   None    ML-SS21-1  \n2                                                   None    ML-SS21-1  \n3                                                   None    ML-SS21-1  \n4                                                   None    ML-SS21-1  \n...                                                  ...          ...  \n19536                                               None  CI014SA6954  \n19537  {'522': [2.303496197293375, 2.3070774730013355...  CI014SA7052  \n19538                                               None  CI014SA7052  \n19539                                               None  CI014SA7052  \n19540  {'522': [2.184206080824501, 2.1737188968555072...  CI014SA7057  \n\n[19541 rows x 4 columns]\nFetching spectra from 5000\n5000\nThis is the spectra        metadata_id                               non_averaged_spectra  \\\n0           179604  {'521': [2.1369957682315066, 2.204100632365294...   \n1           179553  {'522': [2.3005735870452515, 2.353989534922046...   \n2           179553  {'522': [2.351047328569906, 2.3949353127564788...   \n3           179553  {'514': [0.0217112034210773, 0.023131651798946...   \n4           179553  {'514': [0.0217112034210773, 0.023131651798946...   \n...            ...                                                ...   \n44292         9159                                               None   \n44293         9160                                               None   \n44294         9160  {'522': [2.1769569816261773, 2.237032412589551...   \n44295         9160  {'522': [2.5874883783341383, 2.633209557911913...   \n44296       179604  {'521': [2.2303474002242183, 2.282185514664367...   \n\n                                        averaged_spectra     sample_code  \n0                                                   None       ML-SS21-1  \n1                                                   None       ML-SS21-1  \n2                                                   None       ML-SS21-1  \n3                                                   None       ML-SS21-1  \n4                                                   None       ML-SS21-1  \n...                                                  ...             ...  \n44292  {'522': [2.282696795681299, 2.302262978953148,...     CT042SA4007  \n44293  {'522': [2.382222679980158, 2.435120985250732,...  I38-1-35SA0002  \n44294                                               None  I38-1-35SA0002  \n44295                                               None  I38-1-35SA0002  \n44296                                               None       ML-SS21-1  \n\n[44297 rows x 4 columns]\nFetching spectra from 10000\n5000\nThis is the spectra        metadata_id                               non_averaged_spectra  \\\n0            13692                                               None   \n1            10047                                               None   \n2             8012                                               None   \n3             8683                                               None   \n4            10080                                               None   \n...            ...                                                ...   \n50160        25375  {'522': [2.01417484933359, 2.0281578348382223,...   \n50161        18348                                               None   \n50162        30593  {'522': [1.7648822833795694, 1.798242225715928...   \n50163        30593  {'522': [1.941198446898112, 1.8702741889241383...   \n50164        16266                                               None   \n\n                                        averaged_spectra      sample_code  \n0      {'522': [1.8475415838865055, 1.901551774140139...      CB206SA0101  \n1      {'522': [2.278888888660214, 2.297786508344143,...  AGD918-34SA0002  \n2      {'522': [2.281518512336115, 2.2406009084981866...  AGD921-11SA0005  \n3      {'522': [2.133973888078904, 2.118724563127202,...  AGD903-21SA0001  \n4      {'522': [2.274885254503441, 2.2319242103001766...  AGD918-20SA0001  \n...                                                  ...              ...  \n50160                                               None      CI014SA3582  \n50161  {'522': [2.194778500255339, 2.3069439572108754...      CC176SA6050  \n50162                                               None      CI112SA1235  \n50163                                               None      CI112SA1235  \n50164  {'522': [2.257657155792379, 2.228683790834147,...      CC131SA0230  \n\n[50165 rows x 4 columns]\nFetching spectra from 15000\n5000\nThis is the spectra        metadata_id                               non_averaged_spectra  \\\n0           179670                                               None   \n1           179554  {'521': [2.232976975110752, 2.3747547780950127...   \n2           179554  {'521': [2.409019207439175, 2.359478195190672,...   \n3           179554  {'513': [0.0086464283106983, 0.009354542596406...   \n4           179554  {'513': [0.0086464283106983, 0.009354542596406...   \n...            ...                                                ...   \n51010        18234                                               None   \n51011        16038                                               None   \n51012        11690                                               None   \n51013        35007                                               None   \n51014        11691                                               None   \n\n                                        averaged_spectra      sample_code  \n0      {'521': [2.2655911367057704, 2.273310992571514...        ML-SS21-1  \n1                                                   None        ML-SS21-1  \n2                                                   None        ML-SS21-1  \n3                                                   None        ML-SS21-1  \n4                                                   None        ML-SS21-1  \n...                                                  ...              ...  \n51010  {'522': [2.446029524048479, 2.4304529356010027...      CC176SA6082  \n51011  {'522': [2.470125601938161, 2.42941298491023, ...      CC131SA0211  \n51012  {'522': [2.2583002272598827, 2.232307451479652...  AGD918-25SA0001  \n51013  {'522': [2.0415737707643267, 2.217279604373933...      CB210SA0110  \n51014  {'522': [2.5772574597432665, 2.493004096471539...  AGD917-36SA0005  \n\n[51015 rows x 4 columns]\nFetching spectra from 20000\n5000\nThis is the spectra        metadata_id                               non_averaged_spectra  \\\n0            22662                                               None   \n1            10047                                               None   \n2             8012                                               None   \n3            10080                                               None   \n4             8683                                               None   \n...            ...                                                ...   \n47409        23176  {'522': [2.501281063996862, 2.4842967589633886...   \n47410        13272                                               None   \n47411        13273  {'522': [2.5092375804014337, 2.284216759436197...   \n47412        13273  {'522': [2.4230097000941377, 2.296125594164508...   \n47413        13273                                               None   \n\n                                        averaged_spectra      sample_code  \n0      {'522': [2.158945932015736, 2.153889578143777,...      CF177SA1467  \n1      {'522': [2.278888888660214, 2.297786508344143,...  AGD918-34SA0002  \n2      {'522': [2.281518512336115, 2.2406009084981866...  AGD921-11SA0005  \n3      {'522': [2.274885254503441, 2.2319242103001766...  AGD918-20SA0001  \n4      {'522': [2.133973888078904, 2.118724563127202,...  AGD903-21SA0001  \n...                                                  ...              ...  \n47409                                               None      CF177SA3118  \n47410  {'522': [2.4113520398014496, 2.519116033514141...      CB166SA2513  \n47411                                               None      CB166SA2366  \n47412                                               None      CB166SA2366  \n47413  {'522': [2.466123640247786, 2.290171176800352,...      CB166SA2366  \n\n[47414 rows x 4 columns]\nFetching spectra from 25000\n5000\nThis is the spectra        metadata_id                               non_averaged_spectra  \\\n0           179553  {'522': [2.3005735870452515, 2.353989534922046...   \n1           179553  {'522': [2.351047328569906, 2.3949353127564788...   \n2           179553  {'514': [0.0217112034210773, 0.023131651798946...   \n3           179553  {'514': [0.0217112034210773, 0.023131651798946...   \n4           179554  {'521': [2.232976975110752, 2.3747547780950127...   \n...            ...                                                ...   \n29373       179511  {'514': [0.0220133520416475, 0.023489072329582...   \n29374       179527  {'521': [2.1187119087039545, 2.099885007342362...   \n29375       179527  {'521': [2.529990562548245, 2.539922025165368,...   \n29376       179527  {'513': [0.0088596174704804, 0.009640005560642...   \n29377       179527  {'513': [0.0088596174704804, 0.009640005560642...   \n\n      averaged_spectra sample_code  \n0                 None   ML-SS21-1  \n1                 None   ML-SS21-1  \n2                 None   ML-SS21-1  \n3                 None   ML-SS21-1  \n4                 None   ML-SS21-1  \n...                ...         ...  \n29373             None   ML-SS21-1  \n29374             None   ML-SS21-1  \n29375             None   ML-SS21-1  \n29376             None   ML-SS21-1  \n29377             None   ML-SS21-1  \n\n[29378 rows x 4 columns]\nFetching spectra from 30000\n5000\nThis is the spectra        metadata_id                               non_averaged_spectra  \\\n0           107158                                               None   \n1           107159  {'522': [2.2180342378209064, 2.194207285744705...   \n2           107160                                               None   \n3           107160  {'522': [1.945418357024451, 1.9644698405636365...   \n4           107160  {'522': [1.9640136467448568, 2.002589037356731...   \n...            ...                                                ...   \n15174        96549  {'522': [2.097689178092052, 2.085430248625476,...   \n15175        96549  {'522': [2.0530304854873416, 2.110835070799851...   \n15176       107747  {'522': [2.3446105981580487, 2.333888452615126...   \n15177        96551                                               None   \n15178       107748                                               None   \n\n                                        averaged_spectra     sample_code  \n0      {'522': [2.3111737718971295, 2.382890145174427...  I30-1-36SA0028  \n1                                                   None  I38-1-13SA0061  \n2      {'522': [1.9547160018846539, 1.983529438960184...  I38-1-43SA0012  \n3                                                   None  I38-1-43SA0012  \n4                                                   None  I38-1-43SA0012  \n...                                                  ...             ...  \n15174                                               None     CI016SA1479  \n15175                                               None     CI016SA1479  \n15176                                               None  FA509-66SA0001  \n15177  {'522': [2.3327405689611416, 2.293235237155484...     CH006SA6271  \n15178  {'522': [1.98087781573647, 2.076977857109527, ...  FA524-58SA0005  \n\n[15179 rows x 4 columns]\nFetching spectra from 35000\n5000\nThis is the spectra        metadata_id                               non_averaged_spectra  \\\n0           108481                                               None   \n1           108482                                               None   \n2           108483                                               None   \n3           108484                                               None   \n4           108485                                               None   \n...            ...                                                ...   \n15035       109393  {'522': [2.210716779480804, 2.2270941477716484...   \n15036       109393  {'522': [2.1759581054981108, 2.145974821244574...   \n15037       109394                                               None   \n15038       109394  {'522': [2.145045450192934, 2.160951763060425,...   \n15039       109394  {'522': [2.1647861516434723, 2.237015419810385...   \n\n                                        averaged_spectra     sample_code  \n0      {'522': [2.213952400982423, 2.2079233961619673...  I30-1-10SA0171  \n1      {'522': [2.2156362012611166, 2.163811121193387...  I30-1-30SA0004  \n2      {'522': [2.1485826268196626, 2.157922033484391...  I30-1-14SA0069  \n3      {'522': [2.4265925637629326, 2.408174292090732...  FA419-31SA0003  \n4      {'522': [1.945060412024369, 1.9306223663312543...  I30-1-20SA0013  \n...                                                  ...             ...  \n15035                                               None  FA524-84SA0002  \n15036                                               None  FA524-84SA0002  \n15037  {'522': [2.1549158009182032, 2.198983591435405...  FA911-46SA0001  \n15038                                               None  FA911-46SA0001  \n15039                                               None  FA911-46SA0001  \n\n[15040 rows x 4 columns]\nFetching spectra from 40000\n5000\nThis is the spectra        metadata_id                               non_averaged_spectra  \\\n0           119301                                               None   \n1           119301  {'522': [1.8884113764992363, 1.899628712628747...   \n2           119302                                               None   \n3           119302  {'522': [2.349418202191808, 2.252031144651712,...   \n4           119302  {'522': [2.263437501636794, 2.415014461777006,...   \n...            ...                                                ...   \n14998       122298                                               None   \n14999       122298  {'522': [2.3668420050315104, 2.378590458989222...   \n15000       122298  {'522': [2.320181172001845, 2.2727878127542747...   \n15001       122299                                               None   \n15002       122299  {'522': [2.188820280765845, 2.1988825882224234...   \n\n                                        averaged_spectra  sample_code  \n0      {'522': [1.953391926426997, 1.9449189164277243...  CO126SA0229  \n1                                                   None  CO126SA0229  \n2      {'522': [2.306427851914301, 2.3335228032143593...  CS331SA0017  \n3                                                   None  CS331SA0017  \n4                                                   None  CS331SA0017  \n...                                                  ...          ...  \n14998  {'522': [2.3435115885166775, 2.325689135871748...  CS605SA0155  \n14999                                               None  CS605SA0155  \n15000                                               None  CS605SA0155  \n15001  {'522': [2.1986231941623213, 2.253078353531422...  CS009SA0114  \n15002                                               None  CS009SA0114  \n\n[15003 rows x 4 columns]\nFetching spectra from 45000\n5000\nThis is the spectra        metadata_id                               non_averaged_spectra  \\\n0           150647                                               None   \n1           150627  {'522': [1.8056414094317843, 1.769228698988763...   \n2           150627  {'522': [1.942558668894834, 1.940394350413772,...   \n3           150635                                               None   \n4           150635  {'522': [2.0569080127623462, 2.119723758765572...   \n...            ...                                                ...   \n15092       135734  {'522': [2.1432738268093066, 2.111773169575311...   \n15093       135734                                               None   \n15094       135753  {'522': [2.038618509017158, 2.052622937798241,...   \n15095       135753                                               None   \n15096       135753  {'522': [2.0804341223151104, 2.054185568287665...   \n\n                                        averaged_spectra  sample_code  \n0      {'522': [2.446750161340474, 2.421800730810803,...  CN074SA0363  \n1                                                   None  CM073SA0783  \n2                                                   None  CM073SA0783  \n3      {'522': [2.0295687282584756, 2.047287084002841...  CK079SA3435  \n4                                                   None  CK079SA3435  \n...                                                  ...          ...  \n15092                                               None  CK099SA0397  \n15093  {'522': [2.1853102428434266, 2.170856180008304...  CK099SA0397  \n15094                                               None  CM575SA0011  \n15095  {'522': [2.059526315666134, 2.0534042530429533...  CM575SA0011  \n15096                                               None  CM575SA0011  \n\n[15097 rows x 4 columns]\nFetching spectra from 50000\n5000\nThis is the spectra        metadata_id                               non_averaged_spectra  \\\n0           179553  {'522': [2.3005735870452515, 2.353989534922046...   \n1           179554  {'521': [2.232976975110752, 2.3747547780950127...   \n2           179554  {'521': [2.409019207439175, 2.359478195190672,...   \n3           179554  {'513': [0.0086464283106983, 0.009354542596406...   \n4           179554  {'513': [0.0086464283106983, 0.009354542596406...   \n...            ...                                                ...   \n22680        81101  {'522': [2.3362901649928194, 2.385168910159717...   \n22681        81101  {'522': [2.3610105535067265, 2.280244493362676...   \n22682       179553  {'522': [2.351047328569906, 2.3949353127564788...   \n22683       179553  {'514': [0.0217112034210773, 0.023131651798946...   \n22684       179553  {'514': [0.0217112034210773, 0.023131651798946...   \n\n      averaged_spectra  sample_code  \n0                 None    ML-SS21-1  \n1                 None    ML-SS21-1  \n2                 None    ML-SS21-1  \n3                 None    ML-SS21-1  \n4                 None    ML-SS21-1  \n...                ...          ...  \n22680             None  CI112SA1469  \n22681             None  CI112SA1469  \n22682             None    ML-SS21-1  \n22683             None    ML-SS21-1  \n22684             None    ML-SS21-1  \n\n[22685 rows x 4 columns]\nFetching spectra from 55000\n5000\nThis is the spectra        metadata_id                               non_averaged_spectra  \\\n0           179712                                               None   \n1           179554  {'521': [2.232976975110752, 2.3747547780950127...   \n2           179554  {'521': [2.409019207439175, 2.359478195190672,...   \n3           179554  {'513': [0.0086464283106983, 0.009354542596406...   \n4           179554  {'513': [0.0086464283106983, 0.009354542596406...   \n...            ...                                                ...   \n18227       166691                                               None   \n18228       166691  {'522': [2.15225526690864, 2.167972778402442, ...   \n18229       166692  {'522': [2.12809277737542, 2.18525230792565, 2...   \n18230       166692                                               None   \n18231       166692  {'522': [2.1070474733606592, 2.097395943034807...   \n\n                                        averaged_spectra  sample_code  \n0      {'521': [2.2946008508409697, 2.27379168724669,...    ML-SS21-1  \n1                                                   None    ML-SS21-1  \n2                                                   None    ML-SS21-1  \n3                                                   None    ML-SS21-1  \n4                                                   None    ML-SS21-1  \n...                                                  ...          ...  \n18227  {'522': [2.166188859814455, 2.1565431946806304...  CM746SA0004  \n18228                                               None  CM746SA0004  \n18229                                               None  CM746SA0034  \n18230  {'522': [2.1175701253680397, 2.141324125480228...  CM746SA0034  \n18231                                               None  CM746SA0034  \n\n[18232 rows x 4 columns]\nFetching spectra from 60000\n5000\nThis is the spectra        metadata_id                               non_averaged_spectra  \\\n0           166428                                               None   \n1               18                                               None   \n2                8  {'522': [2.2557898384122264, 2.160457255430132...   \n3                8  {'522': [2.1565784583466234, 2.14663311303947,...   \n4               16                                               None   \n...            ...                                                ...   \n16657       169835  {'522': [2.2190902607245624, 2.215171704316051...   \n16658       169835  {'522': [2.225090436270325, 2.25511634823153, ...   \n16659       169836                                               None   \n16660       169836  {'522': [2.2995802900848648, 2.313828319450016...   \n16661       169836  {'522': [2.34173748347643, 2.375822104280157, ...   \n\n                                        averaged_spectra  sample_code  \n0      {'522': [2.5886032917956268, 2.607291375479783...    ML-SS21-3  \n1      {'522': [2.1843360208920943, 2.242035207673754...    ML-SS21-8  \n2                                                   None    ML-SS21-8  \n3                                                   None    ML-SS21-8  \n4      {'522': [2.387948919250312, 2.3500532799503233...    ML-SS21-8  \n...                                                  ...          ...  \n16657                                               None  CW131SA1615  \n16658                                               None  CW131SA1615  \n16659  {'522': [2.3206588867806475, 2.344825211865086...  CW131SA1621  \n16660                                               None  CW131SA1621  \n16661                                               None  CW131SA1621  \n\n[16662 rows x 4 columns]\nFetching spectra from 65000\n5000\nThis is the spectra        metadata_id                               non_averaged_spectra  \\\n0           179670                                               None   \n1           179553  {'522': [2.3005735870452515, 2.353989534922046...   \n2           179553  {'522': [2.351047328569906, 2.3949353127564788...   \n3           179553  {'514': [0.0217112034210773, 0.023131651798946...   \n4           179553  {'514': [0.0217112034210773, 0.023131651798946...   \n...            ...                                                ...   \n18784       174325  {'522': [2.314154897949655, 2.283712153409843,...   \n18785       174325                                               None   \n18786       174326                                               None   \n18787       174326  {'522': [2.1735385023639964, 2.113213803092161...   \n18788       174326  {'522': [2.112090183204007, 2.0970343307176664...   \n\n                                        averaged_spectra  sample_code  \n0      {'521': [2.2655911367057704, 2.273310992571514...    ML-SS21-1  \n1                                                   None    ML-SS21-1  \n2                                                   None    ML-SS21-1  \n3                                                   None    ML-SS21-1  \n4                                                   None    ML-SS21-1  \n...                                                  ...          ...  \n18784                                               None  CF177SA4847  \n18785  {'522': [2.272728247310493, 2.2546004248827813...  CF177SA4847  \n18786  {'522': [2.1428143427840016, 2.105124066904913...  CF177SA4752  \n18787                                               None  CF177SA4752  \n18788                                               None  CF177SA4752  \n\n[18789 rows x 4 columns]\n"
        },
        {
          "output_type": "stream",
          "name": "stderr",
          "text": "/tmp/ipykernel_67100/2443097163.py:8: UserWarning: pandas only supports SQLAlchemy connectable (engine/connection) or database string URI or sqlite3 DBAPI2 connection. Other DBAPI2 objects are not tested. Please consider using SQLAlchemy.\n  _ = pd.read_sql(query, con=conn)\n/tmp/ipykernel_67100/2443097163.py:8: UserWarning: pandas only supports SQLAlchemy connectable (engine/connection) or database string URI or sqlite3 DBAPI2 connection. Other DBAPI2 objects are not tested. Please consider using SQLAlchemy.\n  _ = pd.read_sql(query, con=conn)\n/tmp/ipykernel_67100/2443097163.py:8: UserWarning: pandas only supports SQLAlchemy connectable (engine/connection) or database string URI or sqlite3 DBAPI2 connection. Other DBAPI2 objects are not tested. Please consider using SQLAlchemy.\n  _ = pd.read_sql(query, con=conn)\n/tmp/ipykernel_67100/2443097163.py:8: UserWarning: pandas only supports SQLAlchemy connectable (engine/connection) or database string URI or sqlite3 DBAPI2 connection. Other DBAPI2 objects are not tested. Please consider using SQLAlchemy.\n  _ = pd.read_sql(query, con=conn)\n/tmp/ipykernel_67100/2443097163.py:8: UserWarning: pandas only supports SQLAlchemy connectable (engine/connection) or database string URI or sqlite3 DBAPI2 connection. Other DBAPI2 objects are not tested. Please consider using SQLAlchemy.\n  _ = pd.read_sql(query, con=conn)\n/tmp/ipykernel_67100/2443097163.py:8: UserWarning: pandas only supports SQLAlchemy connectable (engine/connection) or database string URI or sqlite3 DBAPI2 connection. Other DBAPI2 objects are not tested. Please consider using SQLAlchemy.\n  _ = pd.read_sql(query, con=conn)\n/tmp/ipykernel_67100/2443097163.py:8: UserWarning: pandas only supports SQLAlchemy connectable (engine/connection) or database string URI or sqlite3 DBAPI2 connection. Other DBAPI2 objects are not tested. Please consider using SQLAlchemy.\n  _ = pd.read_sql(query, con=conn)\n/tmp/ipykernel_67100/2443097163.py:8: UserWarning: pandas only supports SQLAlchemy connectable (engine/connection) or database string URI or sqlite3 DBAPI2 connection. Other DBAPI2 objects are not tested. Please consider using SQLAlchemy.\n  _ = pd.read_sql(query, con=conn)\n/tmp/ipykernel_67100/2443097163.py:8: UserWarning: pandas only supports SQLAlchemy connectable (engine/connection) or database string URI or sqlite3 DBAPI2 connection. Other DBAPI2 objects are not tested. Please consider using SQLAlchemy.\n  _ = pd.read_sql(query, con=conn)\n/tmp/ipykernel_67100/2443097163.py:8: UserWarning: pandas only supports SQLAlchemy connectable (engine/connection) or database string URI or sqlite3 DBAPI2 connection. Other DBAPI2 objects are not tested. Please consider using SQLAlchemy.\n  _ = pd.read_sql(query, con=conn)\n/tmp/ipykernel_67100/2443097163.py:8: UserWarning: pandas only supports SQLAlchemy connectable (engine/connection) or database string URI or sqlite3 DBAPI2 connection. Other DBAPI2 objects are not tested. Please consider using SQLAlchemy.\n  _ = pd.read_sql(query, con=conn)\n/tmp/ipykernel_67100/2443097163.py:8: UserWarning: pandas only supports SQLAlchemy connectable (engine/connection) or database string URI or sqlite3 DBAPI2 connection. Other DBAPI2 objects are not tested. Please consider using SQLAlchemy.\n  _ = pd.read_sql(query, con=conn)\n/tmp/ipykernel_67100/2443097163.py:8: UserWarning: pandas only supports SQLAlchemy connectable (engine/connection) or database string URI or sqlite3 DBAPI2 connection. Other DBAPI2 objects are not tested. Please consider using SQLAlchemy.\n  _ = pd.read_sql(query, con=conn)\n/tmp/ipykernel_67100/2443097163.py:8: UserWarning: pandas only supports SQLAlchemy connectable (engine/connection) or database string URI or sqlite3 DBAPI2 connection. Other DBAPI2 objects are not tested. Please consider using SQLAlchemy.\n  _ = pd.read_sql(query, con=conn)\n"
        }
      ],
      "execution_count": 37,
      "metadata": {
        "gather": {
          "logged": 1711442960042
        }
      },
      "id": "a689252d"
    },
    {
      "cell_type": "code",
      "source": [
        "spectra"
      ],
      "outputs": [
        {
          "output_type": "execute_result",
          "execution_count": 38,
          "data": {
            "text/plain": "       metadata_id                               non_averaged_spectra  \\\n0           179670                                               None   \n1           179670  {'521': [2.3906581683078625, 2.38097433499155,...   \n2           179670  {'521': [2.1405241051036783, 2.165647650151477...   \n3           179670  {'513': [0.0088157016990374, 0.00958802969112,...   \n4           179670  {'513': [0.0088157016990374, 0.00958802969112,...   \n...            ...                                                ...   \n18784       174325  {'522': [2.314154897949655, 2.283712153409843,...   \n18785       174325                                               None   \n18786       174326                                               None   \n18787       174326  {'522': [2.1735385023639964, 2.113213803092161...   \n18788       174326  {'522': [2.112090183204007, 2.0970343307176664...   \n\n                                        averaged_spectra  sample_code  \n0      {'521': [2.2655911367057704, 2.273310992571514...    ML-SS21-1  \n1                                                   None    ML-SS21-1  \n2                                                   None    ML-SS21-1  \n3                                                   None    ML-SS21-1  \n4                                                   None    ML-SS21-1  \n...                                                  ...          ...  \n18784                                               None  CF177SA4847  \n18785  {'522': [2.272728247310493, 2.2546004248827813...  CF177SA4847  \n18786  {'522': [2.1428143427840016, 2.105124066904913...  CF177SA4752  \n18787                                               None  CF177SA4752  \n18788                                               None  CF177SA4752  \n\n[378497 rows x 4 columns]",
            "text/html": "<div>\n<style scoped>\n    .dataframe tbody tr th:only-of-type {\n        vertical-align: middle;\n    }\n\n    .dataframe tbody tr th {\n        vertical-align: top;\n    }\n\n    .dataframe thead th {\n        text-align: right;\n    }\n</style>\n<table border=\"1\" class=\"dataframe\">\n  <thead>\n    <tr style=\"text-align: right;\">\n      <th></th>\n      <th>metadata_id</th>\n      <th>non_averaged_spectra</th>\n      <th>averaged_spectra</th>\n      <th>sample_code</th>\n    </tr>\n  </thead>\n  <tbody>\n    <tr>\n      <th>0</th>\n      <td>179670</td>\n      <td>None</td>\n      <td>{'521': [2.2655911367057704, 2.273310992571514...</td>\n      <td>ML-SS21-1</td>\n    </tr>\n    <tr>\n      <th>1</th>\n      <td>179670</td>\n      <td>{'521': [2.3906581683078625, 2.38097433499155,...</td>\n      <td>None</td>\n      <td>ML-SS21-1</td>\n    </tr>\n    <tr>\n      <th>2</th>\n      <td>179670</td>\n      <td>{'521': [2.1405241051036783, 2.165647650151477...</td>\n      <td>None</td>\n      <td>ML-SS21-1</td>\n    </tr>\n    <tr>\n      <th>3</th>\n      <td>179670</td>\n      <td>{'513': [0.0088157016990374, 0.00958802969112,...</td>\n      <td>None</td>\n      <td>ML-SS21-1</td>\n    </tr>\n    <tr>\n      <th>4</th>\n      <td>179670</td>\n      <td>{'513': [0.0088157016990374, 0.00958802969112,...</td>\n      <td>None</td>\n      <td>ML-SS21-1</td>\n    </tr>\n    <tr>\n      <th>...</th>\n      <td>...</td>\n      <td>...</td>\n      <td>...</td>\n      <td>...</td>\n    </tr>\n    <tr>\n      <th>18784</th>\n      <td>174325</td>\n      <td>{'522': [2.314154897949655, 2.283712153409843,...</td>\n      <td>None</td>\n      <td>CF177SA4847</td>\n    </tr>\n    <tr>\n      <th>18785</th>\n      <td>174325</td>\n      <td>None</td>\n      <td>{'522': [2.272728247310493, 2.2546004248827813...</td>\n      <td>CF177SA4847</td>\n    </tr>\n    <tr>\n      <th>18786</th>\n      <td>174326</td>\n      <td>None</td>\n      <td>{'522': [2.1428143427840016, 2.105124066904913...</td>\n      <td>CF177SA4752</td>\n    </tr>\n    <tr>\n      <th>18787</th>\n      <td>174326</td>\n      <td>{'522': [2.1735385023639964, 2.113213803092161...</td>\n      <td>None</td>\n      <td>CF177SA4752</td>\n    </tr>\n    <tr>\n      <th>18788</th>\n      <td>174326</td>\n      <td>{'522': [2.112090183204007, 2.0970343307176664...</td>\n      <td>None</td>\n      <td>CF177SA4752</td>\n    </tr>\n  </tbody>\n</table>\n<p>378497 rows × 4 columns</p>\n</div>"
          },
          "metadata": {}
        }
      ],
      "execution_count": 38,
      "metadata": {
        "jupyter": {
          "source_hidden": false,
          "outputs_hidden": false
        },
        "nteract": {
          "transient": {
            "deleting": false
          }
        },
        "gather": {
          "logged": 1711446389874
        }
      },
      "id": "30b87fad-7b96-48f6-8ff7-e2a77c309745"
    },
    {
      "cell_type": "code",
      "source": [
        "df_ = spectra.copy(deep=True)"
      ],
      "outputs": [],
      "execution_count": 39,
      "metadata": {
        "jupyter": {
          "source_hidden": false,
          "outputs_hidden": false
        },
        "nteract": {
          "transient": {
            "deleting": false
          }
        },
        "gather": {
          "logged": 1711446510300
        }
      },
      "id": "8337f409-f98c-4602-919d-a5c96c21bc6d"
    },
    {
      "cell_type": "code",
      "source": [
        "df_['spectra'] = df_['averaged_spectra'] + df_['non_averaged_spectra']"
      ],
      "outputs": [],
      "execution_count": 40,
      "metadata": {
        "jupyter": {
          "source_hidden": false,
          "outputs_hidden": false
        },
        "nteract": {
          "transient": {
            "deleting": false
          }
        },
        "gather": {
          "logged": 1711446534958
        }
      },
      "id": "8cfe661f-b205-4115-ade8-ab06ac8bd7c9"
    },
    {
      "cell_type": "code",
      "source": [
        "averaged = df_.loc[df_['non_averaged_spectra'].isna()]\n",
        "not_averaged = df_.loc[df_['averaged_spectra'].isna()]\n",
        "averaged['spectra'] = averaged['averaged_spectra']\n",
        "not_averaged['spectra'] = not_averaged['non_averaged_spectra']\n",
        "df = pd.concat([averaged, not_averaged])\n"
      ],
      "outputs": [
        {
          "output_type": "stream",
          "name": "stderr",
          "text": "/tmp/ipykernel_67100/1084805249.py:3: SettingWithCopyWarning: \nA value is trying to be set on a copy of a slice from a DataFrame.\nTry using .loc[row_indexer,col_indexer] = value instead\n\nSee the caveats in the documentation: https://pandas.pydata.org/pandas-docs/stable/user_guide/indexing.html#returning-a-view-versus-a-copy\n  averaged['spectra'] = averaged['averaged_spectra']\n/tmp/ipykernel_67100/1084805249.py:4: SettingWithCopyWarning: \nA value is trying to be set on a copy of a slice from a DataFrame.\nTry using .loc[row_indexer,col_indexer] = value instead\n\nSee the caveats in the documentation: https://pandas.pydata.org/pandas-docs/stable/user_guide/indexing.html#returning-a-view-versus-a-copy\n  not_averaged['spectra'] = not_averaged['non_averaged_spectra']\n"
        }
      ],
      "execution_count": 47,
      "metadata": {
        "jupyter": {
          "source_hidden": false,
          "outputs_hidden": false
        },
        "nteract": {
          "transient": {
            "deleting": false
          }
        },
        "gather": {
          "logged": 1711446774198
        }
      },
      "id": "629939fd-7969-43a2-822c-55128863465f"
    },
    {
      "cell_type": "code",
      "source": [
        "df"
      ],
      "outputs": [
        {
          "output_type": "execute_result",
          "execution_count": 48,
          "data": {
            "text/plain": "       metadata_id                               non_averaged_spectra  \\\n0           179670                                               None   \n5           179712                                               None   \n6           179754                                               None   \n7           179814                                               None   \n8           179874                                               None   \n...            ...                                                ...   \n18782       174324  {'522': [2.0846219245290767, 2.1293823581819, ...   \n18783       174325  {'522': [2.2313015966713303, 2.22548869635572,...   \n18784       174325  {'522': [2.314154897949655, 2.283712153409843,...   \n18787       174326  {'522': [2.1735385023639964, 2.113213803092161...   \n18788       174326  {'522': [2.112090183204007, 2.0970343307176664...   \n\n                                        averaged_spectra  sample_code  \\\n0      {'521': [2.2655911367057704, 2.273310992571514...    ML-SS21-1   \n5      {'521': [2.2946008508409697, 2.27379168724669,...    ML-SS21-1   \n6      {'521': [2.235812133945057, 2.3084154307617473...    ML-SS21-1   \n7      {'521': [2.3830898348113863, 2.376923259819746...    ML-SS21-1   \n8      {'522': [2.2885870694773565, 2.306158053862360...    ML-SS21-1   \n...                                                  ...          ...   \n18782                                               None  CF177SA4851   \n18783                                               None  CF177SA4847   \n18784                                               None  CF177SA4847   \n18787                                               None  CF177SA4752   \n18788                                               None  CF177SA4752   \n\n                                                 spectra  \n0      {'521': [2.2655911367057704, 2.273310992571514...  \n5      {'521': [2.2946008508409697, 2.27379168724669,...  \n6      {'521': [2.235812133945057, 2.3084154307617473...  \n7      {'521': [2.3830898348113863, 2.376923259819746...  \n8      {'522': [2.2885870694773565, 2.306158053862360...  \n...                                                  ...  \n18782  {'522': [2.0846219245290767, 2.1293823581819, ...  \n18783  {'522': [2.2313015966713303, 2.22548869635572,...  \n18784  {'522': [2.314154897949655, 2.283712153409843,...  \n18787  {'522': [2.1735385023639964, 2.113213803092161...  \n18788  {'522': [2.112090183204007, 2.0970343307176664...  \n\n[378497 rows x 5 columns]",
            "text/html": "<div>\n<style scoped>\n    .dataframe tbody tr th:only-of-type {\n        vertical-align: middle;\n    }\n\n    .dataframe tbody tr th {\n        vertical-align: top;\n    }\n\n    .dataframe thead th {\n        text-align: right;\n    }\n</style>\n<table border=\"1\" class=\"dataframe\">\n  <thead>\n    <tr style=\"text-align: right;\">\n      <th></th>\n      <th>metadata_id</th>\n      <th>non_averaged_spectra</th>\n      <th>averaged_spectra</th>\n      <th>sample_code</th>\n      <th>spectra</th>\n    </tr>\n  </thead>\n  <tbody>\n    <tr>\n      <th>0</th>\n      <td>179670</td>\n      <td>None</td>\n      <td>{'521': [2.2655911367057704, 2.273310992571514...</td>\n      <td>ML-SS21-1</td>\n      <td>{'521': [2.2655911367057704, 2.273310992571514...</td>\n    </tr>\n    <tr>\n      <th>5</th>\n      <td>179712</td>\n      <td>None</td>\n      <td>{'521': [2.2946008508409697, 2.27379168724669,...</td>\n      <td>ML-SS21-1</td>\n      <td>{'521': [2.2946008508409697, 2.27379168724669,...</td>\n    </tr>\n    <tr>\n      <th>6</th>\n      <td>179754</td>\n      <td>None</td>\n      <td>{'521': [2.235812133945057, 2.3084154307617473...</td>\n      <td>ML-SS21-1</td>\n      <td>{'521': [2.235812133945057, 2.3084154307617473...</td>\n    </tr>\n    <tr>\n      <th>7</th>\n      <td>179814</td>\n      <td>None</td>\n      <td>{'521': [2.3830898348113863, 2.376923259819746...</td>\n      <td>ML-SS21-1</td>\n      <td>{'521': [2.3830898348113863, 2.376923259819746...</td>\n    </tr>\n    <tr>\n      <th>8</th>\n      <td>179874</td>\n      <td>None</td>\n      <td>{'522': [2.2885870694773565, 2.306158053862360...</td>\n      <td>ML-SS21-1</td>\n      <td>{'522': [2.2885870694773565, 2.306158053862360...</td>\n    </tr>\n    <tr>\n      <th>...</th>\n      <td>...</td>\n      <td>...</td>\n      <td>...</td>\n      <td>...</td>\n      <td>...</td>\n    </tr>\n    <tr>\n      <th>18782</th>\n      <td>174324</td>\n      <td>{'522': [2.0846219245290767, 2.1293823581819, ...</td>\n      <td>None</td>\n      <td>CF177SA4851</td>\n      <td>{'522': [2.0846219245290767, 2.1293823581819, ...</td>\n    </tr>\n    <tr>\n      <th>18783</th>\n      <td>174325</td>\n      <td>{'522': [2.2313015966713303, 2.22548869635572,...</td>\n      <td>None</td>\n      <td>CF177SA4847</td>\n      <td>{'522': [2.2313015966713303, 2.22548869635572,...</td>\n    </tr>\n    <tr>\n      <th>18784</th>\n      <td>174325</td>\n      <td>{'522': [2.314154897949655, 2.283712153409843,...</td>\n      <td>None</td>\n      <td>CF177SA4847</td>\n      <td>{'522': [2.314154897949655, 2.283712153409843,...</td>\n    </tr>\n    <tr>\n      <th>18787</th>\n      <td>174326</td>\n      <td>{'522': [2.1735385023639964, 2.113213803092161...</td>\n      <td>None</td>\n      <td>CF177SA4752</td>\n      <td>{'522': [2.1735385023639964, 2.113213803092161...</td>\n    </tr>\n    <tr>\n      <th>18788</th>\n      <td>174326</td>\n      <td>{'522': [2.112090183204007, 2.0970343307176664...</td>\n      <td>None</td>\n      <td>CF177SA4752</td>\n      <td>{'522': [2.112090183204007, 2.0970343307176664...</td>\n    </tr>\n  </tbody>\n</table>\n<p>378497 rows × 5 columns</p>\n</div>"
          },
          "metadata": {}
        }
      ],
      "execution_count": 48,
      "metadata": {
        "jupyter": {
          "source_hidden": false,
          "outputs_hidden": false
        },
        "nteract": {
          "transient": {
            "deleting": false
          }
        },
        "gather": {
          "logged": 1711446777336
        }
      },
      "id": "b8937552-025b-457a-bb4f-cb09e353976c"
    },
    {
      "cell_type": "code",
      "source": [
        "conn.close()\n",
        "spectra = df[['sample_code', 'spectra']]\n"
      ],
      "outputs": [],
      "execution_count": 51,
      "metadata": {
        "jupyter": {
          "source_hidden": false,
          "outputs_hidden": false
        },
        "nteract": {
          "transient": {
            "deleting": false
          }
        },
        "gather": {
          "logged": 1711447148051
        }
      },
      "id": "17a3b3b3-2f4a-4fd9-a28a-431d1e17392d"
    },
    {
      "cell_type": "code",
      "source": [
        "spectra = spectra.set_index('sample_code')\n"
      ],
      "outputs": [],
      "execution_count": 52,
      "metadata": {
        "jupyter": {
          "source_hidden": false,
          "outputs_hidden": false
        },
        "nteract": {
          "transient": {
            "deleting": false
          }
        },
        "gather": {
          "logged": 1711447159026
        }
      },
      "id": "9ea05289-87c4-4e22-97fe-fd86a466192e"
    },
    {
      "cell_type": "code",
      "source": [
        "spectra = convertSpectra(spectra)\n",
        "\n",
        "\n",
        "spectra.to_csv(\"./outputFiles/spectraldata.csv\")"
      ],
      "outputs": [
        {
          "output_type": "stream",
          "name": "stdout",
          "text": "Converting spectra\n"
        },
        {
          "output_type": "error",
          "ename": "ValueError",
          "evalue": "1728 columns passed, passed data had 1739 columns",
          "traceback": [
            "\u001b[0;31m---------------------------------------------------------------------------\u001b[0m",
            "\u001b[0;31mAssertionError\u001b[0m                            Traceback (most recent call last)",
            "File \u001b[0;32m/anaconda/envs/jupyter_env/lib/python3.8/site-packages/pandas/core/internals/construction.py:934\u001b[0m, in \u001b[0;36m_finalize_columns_and_data\u001b[0;34m(content, columns, dtype)\u001b[0m\n\u001b[1;32m    933\u001b[0m \u001b[38;5;28;01mtry\u001b[39;00m:\n\u001b[0;32m--> 934\u001b[0m     columns \u001b[38;5;241m=\u001b[39m \u001b[43m_validate_or_indexify_columns\u001b[49m\u001b[43m(\u001b[49m\u001b[43mcontents\u001b[49m\u001b[43m,\u001b[49m\u001b[43m \u001b[49m\u001b[43mcolumns\u001b[49m\u001b[43m)\u001b[49m\n\u001b[1;32m    935\u001b[0m \u001b[38;5;28;01mexcept\u001b[39;00m \u001b[38;5;167;01mAssertionError\u001b[39;00m \u001b[38;5;28;01mas\u001b[39;00m err:\n\u001b[1;32m    936\u001b[0m     \u001b[38;5;66;03m# GH#26429 do not raise user-facing AssertionError\u001b[39;00m\n",
            "File \u001b[0;32m/anaconda/envs/jupyter_env/lib/python3.8/site-packages/pandas/core/internals/construction.py:981\u001b[0m, in \u001b[0;36m_validate_or_indexify_columns\u001b[0;34m(content, columns)\u001b[0m\n\u001b[1;32m    979\u001b[0m \u001b[38;5;28;01mif\u001b[39;00m \u001b[38;5;129;01mnot\u001b[39;00m is_mi_list \u001b[38;5;129;01mand\u001b[39;00m \u001b[38;5;28mlen\u001b[39m(columns) \u001b[38;5;241m!=\u001b[39m \u001b[38;5;28mlen\u001b[39m(content):  \u001b[38;5;66;03m# pragma: no cover\u001b[39;00m\n\u001b[1;32m    980\u001b[0m     \u001b[38;5;66;03m# caller's responsibility to check for this...\u001b[39;00m\n\u001b[0;32m--> 981\u001b[0m     \u001b[38;5;28;01mraise\u001b[39;00m \u001b[38;5;167;01mAssertionError\u001b[39;00m(\n\u001b[1;32m    982\u001b[0m         \u001b[38;5;124mf\u001b[39m\u001b[38;5;124m\"\u001b[39m\u001b[38;5;132;01m{\u001b[39;00m\u001b[38;5;28mlen\u001b[39m(columns)\u001b[38;5;132;01m}\u001b[39;00m\u001b[38;5;124m columns passed, passed data had \u001b[39m\u001b[38;5;124m\"\u001b[39m\n\u001b[1;32m    983\u001b[0m         \u001b[38;5;124mf\u001b[39m\u001b[38;5;124m\"\u001b[39m\u001b[38;5;132;01m{\u001b[39;00m\u001b[38;5;28mlen\u001b[39m(content)\u001b[38;5;132;01m}\u001b[39;00m\u001b[38;5;124m columns\u001b[39m\u001b[38;5;124m\"\u001b[39m\n\u001b[1;32m    984\u001b[0m     )\n\u001b[1;32m    985\u001b[0m \u001b[38;5;28;01mif\u001b[39;00m is_mi_list:\n\u001b[1;32m    986\u001b[0m     \u001b[38;5;66;03m# check if nested list column, length of each sub-list should be equal\u001b[39;00m\n",
            "\u001b[0;31mAssertionError\u001b[0m: 1728 columns passed, passed data had 1739 columns",
            "\nThe above exception was the direct cause of the following exception:\n",
            "\u001b[0;31mValueError\u001b[0m                                Traceback (most recent call last)",
            "Cell \u001b[0;32mIn[55], line 1\u001b[0m\n\u001b[0;32m----> 1\u001b[0m spectra \u001b[38;5;241m=\u001b[39m \u001b[43mconvertSpectra\u001b[49m\u001b[43m(\u001b[49m\u001b[43mspectra\u001b[49m\u001b[43m)\u001b[49m\n\u001b[1;32m      4\u001b[0m spectra\u001b[38;5;241m.\u001b[39mto_csv(\u001b[38;5;124m\"\u001b[39m\u001b[38;5;124m./outputFiles/spectraldata.csv\u001b[39m\u001b[38;5;124m\"\u001b[39m)\n",
            "Cell \u001b[0;32mIn[54], line 3\u001b[0m, in \u001b[0;36mconvertSpectra\u001b[0;34m(df)\u001b[0m\n\u001b[1;32m      1\u001b[0m \u001b[38;5;28;01mdef\u001b[39;00m \u001b[38;5;21mconvertSpectra\u001b[39m(df):\n\u001b[1;32m      2\u001b[0m     \u001b[38;5;28mprint\u001b[39m(\u001b[38;5;124m\"\u001b[39m\u001b[38;5;124mConverting spectra\u001b[39m\u001b[38;5;124m\"\u001b[39m)\n\u001b[0;32m----> 3\u001b[0m     df_ \u001b[38;5;241m=\u001b[39m \u001b[43mpd\u001b[49m\u001b[38;5;241;43m.\u001b[39;49m\u001b[43mDataFrame\u001b[49m\u001b[43m(\u001b[49m\u001b[43m[\u001b[49m\u001b[43mi\u001b[49m\u001b[43m[\u001b[49m\u001b[43m[\u001b[49m\u001b[43mi\u001b[49m\u001b[43m \u001b[49m\u001b[38;5;28;43;01mfor\u001b[39;49;00m\u001b[43m \u001b[49m\u001b[43mi\u001b[49m\u001b[43m \u001b[49m\u001b[38;5;129;43;01min\u001b[39;49;00m\u001b[43m \u001b[49m\u001b[43mi\u001b[49m\u001b[38;5;241;43m.\u001b[39;49m\u001b[43mkeys\u001b[49m\u001b[43m(\u001b[49m\u001b[43m)\u001b[49m\u001b[43m]\u001b[49m\u001b[43m[\u001b[49m\u001b[38;5;241;43m0\u001b[39;49m\u001b[43m]\u001b[49m\u001b[43m]\u001b[49m\u001b[43m \u001b[49m\u001b[38;5;28;43;01mfor\u001b[39;49;00m\u001b[43m \u001b[49m\u001b[43mi\u001b[49m\u001b[43m \u001b[49m\u001b[38;5;129;43;01min\u001b[39;49;00m\u001b[43m \u001b[49m\u001b[43mdf\u001b[49m\u001b[43m[\u001b[49m\u001b[38;5;124;43m'\u001b[39;49m\u001b[38;5;124;43mspectra\u001b[39;49m\u001b[38;5;124;43m'\u001b[39;49m\u001b[43m]\u001b[49m\u001b[38;5;241;43m.\u001b[39;49m\u001b[43mvalues\u001b[49m\u001b[43m]\u001b[49m\u001b[43m,\u001b[49m\u001b[43mcolumns\u001b[49m\u001b[43m \u001b[49m\u001b[38;5;241;43m=\u001b[39;49m\u001b[43m \u001b[49m\u001b[43mnp\u001b[49m\u001b[38;5;241;43m.\u001b[39;49m\u001b[43marange\u001b[49m\u001b[43m(\u001b[49m\u001b[38;5;241;43m522\u001b[39;49m\u001b[43m,\u001b[49m\u001b[38;5;241;43m3977\u001b[39;49m\u001b[43m,\u001b[49m\u001b[38;5;241;43m2\u001b[39;49m\u001b[43m)\u001b[49m\u001b[43m)\u001b[49m\n\u001b[1;32m      4\u001b[0m     df_\u001b[38;5;241m.\u001b[39mindex \u001b[38;5;241m=\u001b[39m df\u001b[38;5;241m.\u001b[39mindex\n\u001b[1;32m      5\u001b[0m     \u001b[38;5;28mprint\u001b[39m(\u001b[38;5;124m\"\u001b[39m\u001b[38;5;124mSpectra converted\u001b[39m\u001b[38;5;124m\"\u001b[39m)\n",
            "File \u001b[0;32m/anaconda/envs/jupyter_env/lib/python3.8/site-packages/pandas/core/frame.py:782\u001b[0m, in \u001b[0;36mDataFrame.__init__\u001b[0;34m(self, data, index, columns, dtype, copy)\u001b[0m\n\u001b[1;32m    780\u001b[0m     \u001b[38;5;28;01mif\u001b[39;00m columns \u001b[38;5;129;01mis\u001b[39;00m \u001b[38;5;129;01mnot\u001b[39;00m \u001b[38;5;28;01mNone\u001b[39;00m:\n\u001b[1;32m    781\u001b[0m         columns \u001b[38;5;241m=\u001b[39m ensure_index(columns)\n\u001b[0;32m--> 782\u001b[0m     arrays, columns, index \u001b[38;5;241m=\u001b[39m \u001b[43mnested_data_to_arrays\u001b[49m\u001b[43m(\u001b[49m\n\u001b[1;32m    783\u001b[0m \u001b[43m        \u001b[49m\u001b[38;5;66;43;03m# error: Argument 3 to \"nested_data_to_arrays\" has incompatible\u001b[39;49;00m\n\u001b[1;32m    784\u001b[0m \u001b[43m        \u001b[49m\u001b[38;5;66;43;03m# type \"Optional[Collection[Any]]\"; expected \"Optional[Index]\"\u001b[39;49;00m\n\u001b[1;32m    785\u001b[0m \u001b[43m        \u001b[49m\u001b[43mdata\u001b[49m\u001b[43m,\u001b[49m\n\u001b[1;32m    786\u001b[0m \u001b[43m        \u001b[49m\u001b[43mcolumns\u001b[49m\u001b[43m,\u001b[49m\n\u001b[1;32m    787\u001b[0m \u001b[43m        \u001b[49m\u001b[43mindex\u001b[49m\u001b[43m,\u001b[49m\u001b[43m  \u001b[49m\u001b[38;5;66;43;03m# type: ignore[arg-type]\u001b[39;49;00m\n\u001b[1;32m    788\u001b[0m \u001b[43m        \u001b[49m\u001b[43mdtype\u001b[49m\u001b[43m,\u001b[49m\n\u001b[1;32m    789\u001b[0m \u001b[43m    \u001b[49m\u001b[43m)\u001b[49m\n\u001b[1;32m    790\u001b[0m     mgr \u001b[38;5;241m=\u001b[39m arrays_to_mgr(\n\u001b[1;32m    791\u001b[0m         arrays,\n\u001b[1;32m    792\u001b[0m         columns,\n\u001b[0;32m   (...)\u001b[0m\n\u001b[1;32m    795\u001b[0m         typ\u001b[38;5;241m=\u001b[39mmanager,\n\u001b[1;32m    796\u001b[0m     )\n\u001b[1;32m    797\u001b[0m \u001b[38;5;28;01melse\u001b[39;00m:\n",
            "File \u001b[0;32m/anaconda/envs/jupyter_env/lib/python3.8/site-packages/pandas/core/internals/construction.py:498\u001b[0m, in \u001b[0;36mnested_data_to_arrays\u001b[0;34m(data, columns, index, dtype)\u001b[0m\n\u001b[1;32m    495\u001b[0m \u001b[38;5;28;01mif\u001b[39;00m is_named_tuple(data[\u001b[38;5;241m0\u001b[39m]) \u001b[38;5;129;01mand\u001b[39;00m columns \u001b[38;5;129;01mis\u001b[39;00m \u001b[38;5;28;01mNone\u001b[39;00m:\n\u001b[1;32m    496\u001b[0m     columns \u001b[38;5;241m=\u001b[39m ensure_index(data[\u001b[38;5;241m0\u001b[39m]\u001b[38;5;241m.\u001b[39m_fields)\n\u001b[0;32m--> 498\u001b[0m arrays, columns \u001b[38;5;241m=\u001b[39m \u001b[43mto_arrays\u001b[49m\u001b[43m(\u001b[49m\u001b[43mdata\u001b[49m\u001b[43m,\u001b[49m\u001b[43m \u001b[49m\u001b[43mcolumns\u001b[49m\u001b[43m,\u001b[49m\u001b[43m \u001b[49m\u001b[43mdtype\u001b[49m\u001b[38;5;241;43m=\u001b[39;49m\u001b[43mdtype\u001b[49m\u001b[43m)\u001b[49m\n\u001b[1;32m    499\u001b[0m columns \u001b[38;5;241m=\u001b[39m ensure_index(columns)\n\u001b[1;32m    501\u001b[0m \u001b[38;5;28;01mif\u001b[39;00m index \u001b[38;5;129;01mis\u001b[39;00m \u001b[38;5;28;01mNone\u001b[39;00m:\n",
            "File \u001b[0;32m/anaconda/envs/jupyter_env/lib/python3.8/site-packages/pandas/core/internals/construction.py:840\u001b[0m, in \u001b[0;36mto_arrays\u001b[0;34m(data, columns, dtype)\u001b[0m\n\u001b[1;32m    837\u001b[0m     data \u001b[38;5;241m=\u001b[39m [\u001b[38;5;28mtuple\u001b[39m(x) \u001b[38;5;28;01mfor\u001b[39;00m x \u001b[38;5;129;01min\u001b[39;00m data]\n\u001b[1;32m    838\u001b[0m     arr \u001b[38;5;241m=\u001b[39m _list_to_arrays(data)\n\u001b[0;32m--> 840\u001b[0m content, columns \u001b[38;5;241m=\u001b[39m \u001b[43m_finalize_columns_and_data\u001b[49m\u001b[43m(\u001b[49m\u001b[43marr\u001b[49m\u001b[43m,\u001b[49m\u001b[43m \u001b[49m\u001b[43mcolumns\u001b[49m\u001b[43m,\u001b[49m\u001b[43m \u001b[49m\u001b[43mdtype\u001b[49m\u001b[43m)\u001b[49m\n\u001b[1;32m    841\u001b[0m \u001b[38;5;28;01mreturn\u001b[39;00m content, columns\n",
            "File \u001b[0;32m/anaconda/envs/jupyter_env/lib/python3.8/site-packages/pandas/core/internals/construction.py:937\u001b[0m, in \u001b[0;36m_finalize_columns_and_data\u001b[0;34m(content, columns, dtype)\u001b[0m\n\u001b[1;32m    934\u001b[0m     columns \u001b[38;5;241m=\u001b[39m _validate_or_indexify_columns(contents, columns)\n\u001b[1;32m    935\u001b[0m \u001b[38;5;28;01mexcept\u001b[39;00m \u001b[38;5;167;01mAssertionError\u001b[39;00m \u001b[38;5;28;01mas\u001b[39;00m err:\n\u001b[1;32m    936\u001b[0m     \u001b[38;5;66;03m# GH#26429 do not raise user-facing AssertionError\u001b[39;00m\n\u001b[0;32m--> 937\u001b[0m     \u001b[38;5;28;01mraise\u001b[39;00m \u001b[38;5;167;01mValueError\u001b[39;00m(err) \u001b[38;5;28;01mfrom\u001b[39;00m \u001b[38;5;21;01merr\u001b[39;00m\n\u001b[1;32m    939\u001b[0m \u001b[38;5;28;01mif\u001b[39;00m \u001b[38;5;28mlen\u001b[39m(contents) \u001b[38;5;129;01mand\u001b[39;00m contents[\u001b[38;5;241m0\u001b[39m]\u001b[38;5;241m.\u001b[39mdtype \u001b[38;5;241m==\u001b[39m np\u001b[38;5;241m.\u001b[39mobject_:\n\u001b[1;32m    940\u001b[0m     contents \u001b[38;5;241m=\u001b[39m convert_object_array(contents, dtype\u001b[38;5;241m=\u001b[39mdtype)\n",
            "\u001b[0;31mValueError\u001b[0m: 1728 columns passed, passed data had 1739 columns"
          ]
        }
      ],
      "execution_count": 55,
      "metadata": {
        "jupyter": {
          "source_hidden": false,
          "outputs_hidden": false
        },
        "nteract": {
          "transient": {
            "deleting": false
          }
        },
        "gather": {
          "logged": 1711447330533
        }
      },
      "id": "663fb4fc-a5eb-4957-8d20-a187424601d3"
    },
    {
      "cell_type": "code",
      "source": [
        "import pandas as pd\n",
        "spectra= pd.read_csv(\"outputFiles/spectraldata.csv\",usecols=[0])\n",
        "len(spectra)"
      ],
      "outputs": [],
      "execution_count": null,
      "metadata": {
        "gather": {
          "logged": 1711441308126
        }
      },
      "id": "14372e1f"
    },
    {
      "cell_type": "code",
      "source": [
        "spectra.to_csv(\"outputFiles/samples.csv\")"
      ],
      "outputs": [],
      "execution_count": null,
      "metadata": {
        "jupyter": {
          "source_hidden": false,
          "outputs_hidden": false
        },
        "nteract": {
          "transient": {
            "deleting": false
          }
        },
        "gather": {
          "logged": 1711441308139
        }
      },
      "id": "b17e770f-eb4a-465e-a5cb-986f0bcbb71f"
    },
    {
      "cell_type": "code",
      "source": [],
      "outputs": [],
      "execution_count": null,
      "metadata": {
        "jupyter": {
          "source_hidden": false,
          "outputs_hidden": false
        },
        "nteract": {
          "transient": {
            "deleting": false
          }
        }
      },
      "id": "75714a92-8429-4eac-8d60-e9a693f9f1ef"
    }
  ],
  "metadata": {
    "kernelspec": {
      "name": "python3",
      "language": "python",
      "display_name": "Python 3 (ipykernel)"
    },
    "language_info": {
      "name": "python",
      "version": "3.8.5",
      "mimetype": "text/x-python",
      "codemirror_mode": {
        "name": "ipython",
        "version": 3
      },
      "pygments_lexer": "ipython3",
      "nbconvert_exporter": "python",
      "file_extension": ".py"
    },
    "microsoft": {
      "ms_spell_check": {
        "ms_spell_check_language": "en"
      },
      "host": {
        "AzureML": {
          "notebookHasBeenCompleted": true
        }
      }
    },
    "kernel_info": {
      "name": "python3"
    },
    "nteract": {
      "version": "nteract-front-end@1.0.0"
    }
  },
  "nbformat": 4,
  "nbformat_minor": 5
}