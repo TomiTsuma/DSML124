{
 "cells": [
  {
   "cell_type": "code",
   "execution_count": 1,
   "id": "44419713-cfcb-49a9-9b98-c48f99305e51",
   "metadata": {},
   "outputs": [],
   "source": [
    "import psycopg2\n",
    "import pandas as pd\n",
    "import ast\n",
    "import numpy as np\n",
    "import os\n",
    "from sqlalchemy import create_engine\n",
    "from dotenv import load_dotenv\n"
   ]
  },
  {
   "cell_type": "code",
   "execution_count": 2,
   "id": "dfc9bcfe-5f82-42d4-a810-1930654342e8",
   "metadata": {},
   "outputs": [],
   "source": [
    "\n",
    "def get_db_cursor():\n",
    "    username = \"doadmin\"\n",
    "    password = 'yzmodwh2oh16iks6'\n",
    "    host = 'db-postgresql-cl1-do-user-2276924-0.db.ondigitalocean.com'\n",
    "    port = 25060\n",
    "    database = 'MandatoryMetadata'\n",
    "    schema = 'historical'\n",
    "\n",
    "    conn = psycopg2.connect(host=host, database=database,\n",
    "                            user=username, password=password, port=port)\n",
    "    cur = conn.cursor()\n",
    "    cur.execute(\"SET search_path TO \" + schema)\n",
    "\n",
    "    return conn, cur"
   ]
  },
  {
   "cell_type": "code",
   "execution_count": 3,
   "id": "1c10ca5b-75b8-42b2-b303-87c0277f1c8b",
   "metadata": {},
   "outputs": [],
   "source": [
    "conn, cur = get_db_cursor()\n"
   ]
  },
  {
   "cell_type": "code",
   "execution_count": 4,
   "id": "d6ba5786-4d79-4aa0-ba73-3cdd6264b947",
   "metadata": {},
   "outputs": [],
   "source": [
    "def convertSpectra(df):\n",
    "    print(\"Converting spectra\")\n",
    "    df_ = pd.DataFrame([i[[i for i in i.keys()][0]] for i in df['averaged_spectra'].values],columns = np.arange(522,3977,2))\n",
    "    df_.index = df.index\n",
    "    print(\"Spectra converted\")\n",
    "    return df_"
   ]
  },
  {
   "cell_type": "code",
   "execution_count": null,
   "id": "b8fb1b32-917b-41b5-b951-02237b39cc56",
   "metadata": {},
   "outputs": [
    {
     "name": "stderr",
     "output_type": "stream",
     "text": [
      "C:\\Users\\tsuma.thomas\\AppData\\Local\\Temp\\ipykernel_20276\\2099194603.py:1: UserWarning: pandas only supports SQLAlchemy connectable (engine/connection) or database string URI or sqlite3 DBAPI2 connection. Other DBAPI2 objects are not tested. Please consider using SQLAlchemy.\n",
      "  df = pd.read_sql(\"\"\"\n"
     ]
    }
   ],
   "source": [
    "df = pd.read_sql(\"\"\"\n",
    "        SELECT spectraldata.metadata_id, averaged_spectra, mandatorymetadata.sample_code  \n",
    "        FROM spectraldata \n",
    "        INNER JOIN mandatorymetadata \n",
    "        ON mandatorymetadata.metadata_id = spectraldata.metadata_id \n",
    "        WHERE \n",
    "        is_finalized=True AND \n",
    "        passed=True AND \n",
    "        is_active=True AND \n",
    "        averaged=True AND \n",
    "        mandatorymetadata.sensor_id = 1 AND  \n",
    "        mandatorymetadata.sample_type_id = 1 AND\n",
    "        mandatorymetadata.sample_pretreatment_id = 1\n",
    "        \"\"\",con=conn)\n"
   ]
  },
  {
   "cell_type": "code",
   "execution_count": null,
   "id": "dab2a88e-9bd5-4d3c-acf9-9c99c3fa0298",
   "metadata": {},
   "outputs": [],
   "source": [
    "import psycopg2\n",
    "import pandas as pd\n",
    "import ast\n",
    "import numpy as np\n",
    "import os\n",
    "from dotenv import load_dotenv\n",
    "from pathlib import Path\n",
    "import glob\n",
    "import pyodbc\n",
    "\n",
    "def get_db_cursor():\n",
    "    username = \"doadmin\"\n",
    "    password = 'yzmodwh2oh16iks6'\n",
    "    host = 'db-postgresql-cl1-do-user-2276924-0.db.ondigitalocean.com'\n",
    "    port = 25060\n",
    "    database = 'MandatoryMetadata'\n",
    "    schema = 'historical'\n",
    "\n",
    "    conn = psycopg2.connect(host=host, database=database,\n",
    "                            user=username, password=password, port=port)\n",
    "    cur = conn.cursor()\n",
    "    cur.execute(\"SET search_path TO \" + schema)\n",
    "\n",
    "    return conn, cur\n",
    "conn, cur = get_db_cursor()\n",
    "\n",
    "def getSixMonthsData():\n",
    "    query = f\"\"\"SELECT spectraldata.metadata_id, averaged_spectra, mandatorymetadata.sample_code  \n",
    "        FROM spectraldata \n",
    "        INNER JOIN mandatorymetadata \n",
    "        ON mandatorymetadata.metadata_id = spectraldata.metadata_id \n",
    "        WHERE \n",
    "        is_finalized=True AND \n",
    "        passed=True AND \n",
    "        is_active=True AND \n",
    "        averaged=True AND \n",
    "        mandatorymetadata.sensor_id = 1 AND  \n",
    "        mandatorymetadata.sample_type_id = 1 AND\n",
    "        mandatorymetadata.sample_pretreatment_id = 1 AND\n",
    "        mandatorymetadata.timestamp > 2024-09-01\n",
    "    \"\"\"\n",
    "    spc = pd.read_sql(query, con=conn)\n",
    "    conn.close()\n",
    "    spc = spc[['sample_code', 'averaged_spectra']]\n",
    "    spc = spc.set_index('sample_code')\n",
    "    spc = convertSpectra(spc)\n",
    "    # spc.to_csv('outputFiles/6monthsspc.csv')\n",
    "    return spc\n",
    "\n",
    "def convertSpectra(df):\n",
    "    print(\"Converting spectra\")\n",
    "    df_ = pd.DataFrame([i[[i for i in i.keys()][0]] for i in df['averaged_spectra'].values],columns = np.arange(522,3977,2))\n",
    "    df_.index = df.index\n",
    "    print(\"Spectra converted\")\n",
    "    return df_"
   ]
  },
  {
   "cell_type": "code",
   "execution_count": null,
   "id": "457ca1e7",
   "metadata": {},
   "outputs": [
    {
     "ename": "",
     "evalue": "",
     "output_type": "error",
     "traceback": [
      "\u001b[1;31mFailed to start the Kernel. \n",
      "\u001b[1;31mView Jupyter <a href='command:jupyter.viewOutput'>log</a> for further details."
     ]
    }
   ],
   "source": [
    "spc = getSixMonthsData()"
   ]
  },
  {
   "cell_type": "code",
   "execution_count": null,
   "id": "6dd05f0d",
   "metadata": {},
   "outputs": [],
   "source": []
  }
 ],
 "metadata": {
  "kernelspec": {
   "display_name": "Python 3 (ipykernel)",
   "language": "python",
   "name": "python3"
  }
 },
 "nbformat": 4,
 "nbformat_minor": 5
}
